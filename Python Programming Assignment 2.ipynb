{
 "cells": [
  {
   "cell_type": "markdown",
   "id": "7d8d47d4-185a-4348-8a20-0afac2441aa5",
   "metadata": {},
   "source": [
    "# Python Programing Assignment 2"
   ]
  },
  {
   "cell_type": "markdown",
   "id": "e3c865c8-4e33-4882-afe0-21699fa0268f",
   "metadata": {},
   "source": [
    "1. Write a Python program to do arithmetical operations addition, subtraction, multiplication and division"
   ]
  },
  {
   "cell_type": "code",
   "execution_count": 3,
   "id": "3db2b80a-f9c7-488b-9e5c-0f8bbf73e406",
   "metadata": {
    "collapsed": true,
    "jupyter": {
     "outputs_hidden": true
    }
   },
   "outputs": [
    {
     "name": "stdin",
     "output_type": "stream",
     "text": [
      " 34\n",
      " 23\n"
     ]
    },
    {
     "name": "stdout",
     "output_type": "stream",
     "text": [
      "add 57\n",
      "sub 11\n",
      "mul 782\n",
      "div 1.4782608695652173\n"
     ]
    }
   ],
   "source": [
    "num1=int(input())\n",
    "num2=int(input())\n",
    "print('add',num1+num2)\n",
    "print('sub',num1-num2)\n",
    "print('mul',num1*num2)\n",
    "print('div',num1/num2)"
   ]
  },
  {
   "cell_type": "markdown",
   "id": "932cec5e-bfc4-4ce6-987d-e4c59de0d16b",
   "metadata": {},
   "source": [
    "2. Write a Python program to find the area of a triangle"
   ]
  },
  {
   "cell_type": "code",
   "execution_count": 1,
   "id": "26add53e-7770-4475-8491-dfb23b279963",
   "metadata": {},
   "outputs": [
    {
     "name": "stdin",
     "output_type": "stream",
     "text": [
      "Enter the base of the tringle: 3\n",
      "Enter the height of the triangle: 4\n"
     ]
    },
    {
     "name": "stdout",
     "output_type": "stream",
     "text": [
      "Area of the triangle:  6.0\n"
     ]
    }
   ],
   "source": [
    "base = float(input('Enter the base of the tringle:'))\n",
    "height = float(input('Enter the height of the triangle:'))\n",
    "print('Area of the triangle: ',0.5*base*height)"
   ]
  },
  {
   "cell_type": "markdown",
   "id": "fe13d44b-52d8-48c2-a1ed-6758619038da",
   "metadata": {},
   "source": [
    "3. Write a program to display calendar of any month using calendar module of python."
   ]
  },
  {
   "cell_type": "code",
   "execution_count": 2,
   "id": "0b25dcc2-2fb5-446c-821c-58b0d9a32310",
   "metadata": {},
   "outputs": [
    {
     "name": "stdout",
     "output_type": "stream",
     "text": [
      "     March 2025\n",
      "Mo Tu We Th Fr Sa Su\n",
      "                1  2\n",
      " 3  4  5  6  7  8  9\n",
      "10 11 12 13 14 15 16\n",
      "17 18 19 20 21 22 23\n",
      "24 25 26 27 28 29 30\n",
      "31\n",
      "\n"
     ]
    }
   ],
   "source": [
    "import calendar\n",
    "\n",
    "print(calendar.month(2025,3))"
   ]
  },
  {
   "cell_type": "markdown",
   "id": "732e015c-f682-4d6a-973c-81ba29de7095",
   "metadata": {},
   "source": [
    "4. Write a Python Program to Check if a Number is Positive, Negative or Zero"
   ]
  },
  {
   "cell_type": "code",
   "execution_count": 6,
   "id": "aaa6d087-ea34-4e39-aebc-d4a193c58152",
   "metadata": {},
   "outputs": [
    {
     "name": "stdin",
     "output_type": "stream",
     "text": [
      "Enter the Number:  -2\n"
     ]
    },
    {
     "name": "stdout",
     "output_type": "stream",
     "text": [
      "-2 is a negative\n"
     ]
    }
   ],
   "source": [
    "num = int(input('Enter the Number: '))\n",
    "if num == 0:\n",
    "    print(num,'is a zero')\n",
    "elif num >0:\n",
    "    print(num,'is a positive')\n",
    "else:\n",
    "    print(num,'is a negative')"
   ]
  },
  {
   "cell_type": "markdown",
   "id": "335c99fc-1054-4311-8744-c0a1bca3c3cd",
   "metadata": {},
   "source": [
    "5. Write a Python Program to Check if a Number is Odd or Even."
   ]
  },
  {
   "cell_type": "code",
   "execution_count": 11,
   "id": "c35eb8f4-fb91-44e7-82db-a60926a048ad",
   "metadata": {},
   "outputs": [
    {
     "name": "stdin",
     "output_type": "stream",
     "text": [
      "Enter the number:  2\n"
     ]
    },
    {
     "name": "stdout",
     "output_type": "stream",
     "text": [
      "2 is a even\n"
     ]
    }
   ],
   "source": [
    "num = int(input('Enter the number: '))\n",
    "if num%2==0:\n",
    "    print(num,'is a even')\n",
    "else:\n",
    "    print(num,'is a odd')"
   ]
  },
  {
   "cell_type": "markdown",
   "id": "7d0df26b-124a-4b08-8100-df5a764d56c7",
   "metadata": {},
   "source": [
    "6. Write a Python Program to Check Leap Year. The year should be entered by user."
   ]
  },
  {
   "cell_type": "code",
   "execution_count": 14,
   "id": "54ef26e7-8f1f-461e-ac85-4100b4236ca7",
   "metadata": {},
   "outputs": [
    {
     "name": "stdin",
     "output_type": "stream",
     "text": [
      "Enter the year: 2003\n"
     ]
    },
    {
     "name": "stdout",
     "output_type": "stream",
     "text": [
      "2003 is not a leap year\n"
     ]
    }
   ],
   "source": [
    "year = int(input('Enter the year:'))\n",
    "if year%4==0 and year%100!=0 or year%400==0:\n",
    "    print(year,'is a leap year')\n",
    "else:\n",
    "    print(year,'is not a leap year')"
   ]
  },
  {
   "cell_type": "markdown",
   "id": "930bb96d-4ea6-4906-93c3-8bb50373cc28",
   "metadata": {},
   "source": [
    "7. Write a Python Program to Print all Prime Numbers in an Interval of 1-10"
   ]
  },
  {
   "cell_type": "code",
   "execution_count": 35,
   "id": "810a5aa1-3d91-46e4-84d7-4960865d5a78",
   "metadata": {},
   "outputs": [
    {
     "name": "stdout",
     "output_type": "stream",
     "text": [
      "1 is not a prime\n",
      "2 is a prime\n",
      "3 is a prime\n",
      "4 is not a prime\n",
      "5 is a prime\n",
      "6 is not a prime\n",
      "7 is a prime\n",
      "8 is not a prime\n",
      "9 is not a prime\n",
      "10 is not a prime\n"
     ]
    }
   ],
   "source": [
    "num = list(range(1, 11, 1))\n",
    "for n in num:\n",
    "    if n > 1:\n",
    "        for i in range(2, n):\n",
    "            if n % i == 0:\n",
    "                print(n, 'is not a prime')\n",
    "                break\n",
    "        else:\n",
    "            print(n, 'is a prime')\n",
    "    else:\n",
    "        print(n, 'is not a prime')"
   ]
  },
  {
   "cell_type": "markdown",
   "id": "25754b0a-54a4-4088-ae5c-74e45df6eb87",
   "metadata": {},
   "source": [
    "8. Write a Python Program to Find the Factorial of a Number.\n"
   ]
  },
  {
   "cell_type": "code",
   "execution_count": 39,
   "id": "cf3e742f-87a0-4040-9a39-70198bb3b5e6",
   "metadata": {
    "scrolled": true
   },
   "outputs": [
    {
     "name": "stdin",
     "output_type": "stream",
     "text": [
      "Enter the number: 8\n"
     ]
    },
    {
     "name": "stdout",
     "output_type": "stream",
     "text": [
      "40320 is a factorial of the 8\n"
     ]
    }
   ],
   "source": [
    "num = int(input('Enter the number:'))\n",
    "fact=num\n",
    "for i in range(1,num):\n",
    "    fact=fact*i\n",
    "print(fact,'is a factorial of the',num)"
   ]
  },
  {
   "cell_type": "markdown",
   "id": "ed1147fc-c456-49b5-9c26-be6bbc0b9e4d",
   "metadata": {},
   "source": [
    "9. Write a Python Program to Display the multiplication Table of any number entered by user."
   ]
  },
  {
   "cell_type": "code",
   "execution_count": 40,
   "id": "57d67454-c4b5-4ed5-9973-b6aa6c0dff8f",
   "metadata": {
    "collapsed": true,
    "jupyter": {
     "outputs_hidden": true
    }
   },
   "outputs": [
    {
     "name": "stdin",
     "output_type": "stream",
     "text": [
      "Enter the number: 9\n"
     ]
    },
    {
     "name": "stdout",
     "output_type": "stream",
     "text": [
      "9 x 1 = 9\n",
      "9 x 2 = 18\n",
      "9 x 3 = 27\n",
      "9 x 4 = 36\n",
      "9 x 5 = 45\n",
      "9 x 6 = 54\n",
      "9 x 7 = 63\n",
      "9 x 8 = 72\n",
      "9 x 9 = 81\n",
      "9 x 10 = 90\n"
     ]
    }
   ],
   "source": [
    "num = int(input('Enter the number:'))\n",
    "for i in range(1,11):\n",
    "    print(num,'x',i,'=',num*i)"
   ]
  },
  {
   "cell_type": "markdown",
   "id": "df4faeb8-b5d7-4b0d-9c91-3899599e919f",
   "metadata": {},
   "source": [
    "10. Write a Python Program to Make a Simple Calculator with 4 basic mathematical operations."
   ]
  },
  {
   "cell_type": "code",
   "execution_count": 44,
   "id": "3921c0d0-f5e1-4dea-874b-6b14e3595653",
   "metadata": {},
   "outputs": [
    {
     "name": "stdin",
     "output_type": "stream",
     "text": [
      "Enter the First Number: 23\n",
      "Enter the Second Number: 12\n",
      "Enter the option to make mathematical operations 1 for ADD,2 for SUB, 3 for MUL, 4 for DIV: 1\n"
     ]
    },
    {
     "name": "stdout",
     "output_type": "stream",
     "text": [
      "23 + 12 = 35\n"
     ]
    }
   ],
   "source": [
    "n1=int(input('Enter the First Number:'))\n",
    "n2=int(input('Enter the Second Number:'))\n",
    "ch = int(input('Enter the option to make mathematical operations 1 for ADD,2 for SUB, 3 for MUL, 4 for DIV:'))\n",
    "match ch:\n",
    "    case 1:\n",
    "        print(n1,'+',n2,'=',n1+n2)\n",
    "    case 2:\n",
    "        print(n1,'-',n2,'=',n1-n2)\n",
    "    case 3:\n",
    "        print(n1,'*',n2,'=',n1*n2)\n",
    "    case 4:\n",
    "        print(n1,'/',n2,'=',n1/n2)\n",
    "    case _:\n",
    "        print('Enter the valid Operations:')\n",
    "        "
   ]
  },
  {
   "cell_type": "markdown",
   "id": "8b6233f8-261d-4ab7-9c55-b324e56e4093",
   "metadata": {},
   "source": [
    "11. Write a Python Program to calculate Body Mass Index of a person. Also print if the  person is underweight, overweight or obese."
   ]
  },
  {
   "cell_type": "code",
   "execution_count": 51,
   "id": "56e2ec5d-5047-4a28-ac85-0480bf36d3c3",
   "metadata": {},
   "outputs": [
    {
     "name": "stdin",
     "output_type": "stream",
     "text": [
      "Enter weight (in kgs):  100\n",
      "Enter height (in cm):  164\n"
     ]
    },
    {
     "name": "stdout",
     "output_type": "stream",
     "text": [
      "BMI: 37.18\n",
      "Obese\n"
     ]
    }
   ],
   "source": [
    "weight = float(input('Enter weight (in kgs): '))\n",
    "height = float(input('Enter height (in cm): ')) / 100 \n",
    "\n",
    "bmi = weight / (height ** 2)\n",
    "if bmi >= 30:\n",
    "    print('Obese')\n",
    "elif bmi >= 25:\n",
    "    print('Overweight')\n",
    "elif bmi >= 18.5:\n",
    "    print('Normal weight')\n",
    "else:\n",
    "    print('Underweight')"
   ]
  },
  {
   "cell_type": "markdown",
   "id": "e4570124-cae6-4f50-ba5a-ad63aa883bc7",
   "metadata": {},
   "source": [
    "12. Write a Python Program to find sum of array of 5 elements.\n",
    "    "
   ]
  },
  {
   "cell_type": "code",
   "execution_count": 60,
   "id": "24373d9f-dd53-4c5c-8511-41b72931a0a0",
   "metadata": {},
   "outputs": [
    {
     "name": "stdout",
     "output_type": "stream",
     "text": [
      "165 + 519 + 596 + 432 + 382 = 2094\n"
     ]
    }
   ],
   "source": [
    "import random\n",
    "nums = [random.randint(1, 1000) for _ in range(5)]\n",
    "total_sum = sum(nums)\n",
    "print(\" + \".join(map(str, nums)), \"=\", total_sum)"
   ]
  },
  {
   "cell_type": "markdown",
   "id": "01022e84-8163-4e78-8740-764430e44b39",
   "metadata": {},
   "source": [
    "13. Write a Python Program to find largest and smallest element in an array."
   ]
  },
  {
   "cell_type": "code",
   "execution_count": 63,
   "id": "3b0e4ef9-aa69-47f9-956b-a997553d6688",
   "metadata": {},
   "outputs": [
    {
     "name": "stdout",
     "output_type": "stream",
     "text": [
      "max in 168,804,314,617,48 is 804\n",
      "min in 168,804,314,617,48 is 48\n"
     ]
    }
   ],
   "source": [
    "import random\n",
    "nums = [random.randint(1, 1000) for _ in range(5)]\n",
    "print('max in',\",\".join(map(str, nums)), \"is\", max(nums))\n",
    "print('min in',\",\".join(map(str, nums)), \"is\", min(nums))"
   ]
  },
  {
   "cell_type": "markdown",
   "id": "65e2c0ee-5d04-479a-9e95-d552855d8787",
   "metadata": {},
   "source": [
    "14. Write a Python program to Multiply all numbers in the list 7 elements"
   ]
  },
  {
   "cell_type": "code",
   "execution_count": 68,
   "id": "cc249fd2-675c-4f8e-9cd7-6c3240e42961",
   "metadata": {},
   "outputs": [
    {
     "name": "stdout",
     "output_type": "stream",
     "text": [
      "1 * 1 * 8 * 7 * 7 * 8 * 10 = 31360\n"
     ]
    }
   ],
   "source": [
    "import random\n",
    "nums = [random.randint(1, 10) for _ in range(7)]\n",
    "mul =1\n",
    "for i in range(len(nums)):\n",
    "    mul=mul*nums[i]\n",
    "print(\" * \".join(map(str, nums)), \"=\", mul)"
   ]
  },
  {
   "cell_type": "code",
   "execution_count": null,
   "id": "54679d1c-c124-4fad-86fb-611147ad6587",
   "metadata": {},
   "outputs": [],
   "source": []
  }
 ],
 "metadata": {
  "kernelspec": {
   "display_name": "Python 3 (ipykernel)",
   "language": "python",
   "name": "python3"
  },
  "language_info": {
   "codemirror_mode": {
    "name": "ipython",
    "version": 3
   },
   "file_extension": ".py",
   "mimetype": "text/x-python",
   "name": "python",
   "nbconvert_exporter": "python",
   "pygments_lexer": "ipython3",
   "version": "3.12.7"
  }
 },
 "nbformat": 4,
 "nbformat_minor": 5
}
