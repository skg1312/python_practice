{
 "cells": [
  {
   "cell_type": "code",
   "execution_count": 17,
   "id": "0e894ee2-b0b9-47e9-bb29-0e83fc630958",
   "metadata": {},
   "outputs": [],
   "source": [
    "# !pip install numpy"
   ]
  },
  {
   "cell_type": "markdown",
   "id": "111b3e21-0631-443a-b754-594d9a8f6154",
   "metadata": {},
   "source": [
    "Section A: Basic Operations"
   ]
  },
  {
   "cell_type": "code",
   "execution_count": 2,
   "id": "0548f7b8-fbed-4900-a771-970c51d2bf90",
   "metadata": {},
   "outputs": [],
   "source": [
    "import numpy as np"
   ]
  },
  {
   "cell_type": "markdown",
   "id": "eab7f045-74be-40ab-aa11-1636ac964be3",
   "metadata": {},
   "source": [
    "1. Import the NumPy library and create a 1D array of integers from 1 to 10."
   ]
  },
  {
   "cell_type": "code",
   "execution_count": 69,
   "id": "27a9f66f-e4a2-4be0-b020-0ffd86b601ce",
   "metadata": {},
   "outputs": [
    {
     "data": {
      "text/plain": [
       "array([ 1,  2,  3,  4,  5,  6,  7,  8,  9, 10])"
      ]
     },
     "execution_count": 69,
     "metadata": {},
     "output_type": "execute_result"
    }
   ],
   "source": [
    "arr = np.array([1,2,3,4,5,6,7,8,9,10])\n",
    "(arr)"
   ]
  },
  {
   "cell_type": "markdown",
   "id": "0389653b-9b9e-4d04-8c0d-585aa7d6cddf",
   "metadata": {},
   "source": [
    "2. Create a 3x3 matrix filled with random numbers between 0 and 1."
   ]
  },
  {
   "cell_type": "code",
   "execution_count": 5,
   "id": "f3696162-17a0-4751-b300-a7c4113ef562",
   "metadata": {},
   "outputs": [
    {
     "data": {
      "text/plain": [
       "array([[0.70212525, 0.70148246, 0.41217189],\n",
       "       [0.11160911, 0.93508497, 0.67892578],\n",
       "       [0.48986516, 0.9055983 , 0.60475276]])"
      ]
     },
     "execution_count": 5,
     "metadata": {},
     "output_type": "execute_result"
    }
   ],
   "source": [
    "matrix = np.random.rand(3, 3)\n",
    "matrix"
   ]
  },
  {
   "cell_type": "markdown",
   "id": "68ec1df0-2c07-4df9-b60e-0129e93f2e7b",
   "metadata": {},
   "source": [
    "3. Create a 5x5 identity matrix using NumPy."
   ]
  },
  {
   "cell_type": "code",
   "execution_count": 6,
   "id": "f992b852-52bd-470e-a05f-30634d6bebbd",
   "metadata": {},
   "outputs": [
    {
     "name": "stdout",
     "output_type": "stream",
     "text": [
      "[[1. 0. 0. 0. 0.]\n",
      " [0. 1. 0. 0. 0.]\n",
      " [0. 0. 1. 0. 0.]\n",
      " [0. 0. 0. 1. 0.]\n",
      " [0. 0. 0. 0. 1.]]\n"
     ]
    }
   ],
   "source": [
    "identity = np.eye(5)\n",
    "print(identity)"
   ]
  },
  {
   "cell_type": "markdown",
   "id": "c8ec3a86-b6e0-4291-a4a5-b3ce980f7161",
   "metadata": {},
   "source": [
    "4. Generate an array of 20 linearly spaced numbers between 0 and 50."
   ]
  },
  {
   "cell_type": "code",
   "execution_count": 58,
   "id": "91e6feae-8ce1-48af-8c40-d95136912c00",
   "metadata": {},
   "outputs": [
    {
     "name": "stdout",
     "output_type": "stream",
     "text": [
      "[ 0.          2.63157895  5.26315789  7.89473684 10.52631579 13.15789474\n",
      " 15.78947368 18.42105263 21.05263158 23.68421053 26.31578947 28.94736842\n",
      " 31.57894737 34.21052632 36.84210526 39.47368421 42.10526316 44.73684211\n",
      " 47.36842105 50.        ]\n"
     ]
    }
   ],
   "source": [
    "numbers = np.linspace(0, 50, 20)\n",
    "print(numbers)"
   ]
  },
  {
   "cell_type": "markdown",
   "id": "36f9c756-a96b-4131-9619-558ab55b7656",
   "metadata": {},
   "source": [
    "5. Convert a Python list [[1,2,3], [4,5,6], [7,8,9]] into a NumPy array and print\n",
    "its type."
   ]
  },
  {
   "cell_type": "code",
   "execution_count": 62,
   "id": "40934735-9d3f-46f6-9ab0-2053cfd749ce",
   "metadata": {},
   "outputs": [
    {
     "name": "stdout",
     "output_type": "stream",
     "text": [
      "<class 'numpy.ndarray'>\n"
     ]
    }
   ],
   "source": [
    "list = [[1,2,3], [4,5,6], [7,8,9]]\n",
    "np_array = np.array(list)\n",
    "print(type(np_array))"
   ]
  },
  {
   "cell_type": "markdown",
   "id": "ff5bbae5-5988-4a7a-b23f-082cce691e11",
   "metadata": {},
   "source": [
    "Section B: Indexing & Slicing"
   ]
  },
  {
   "cell_type": "markdown",
   "id": "0cc5144a-eac2-49ee-a93c-611436bb639c",
   "metadata": {},
   "source": [
    "6. Given the NumPy array arr = np.arange(10, 100, 10), extract elements from\n",
    "index 2 to 5.\n",
    "\n",
    "\n",
    "Extract the third column from the following matrix:\n",
    "matrix = np.array([[10, 20, 30], [40, 50, 60], [70, 80, 90]])"
   ]
  },
  {
   "cell_type": "code",
   "execution_count": 64,
   "id": "0e7cb08a-8225-4086-b7c9-9c54d7147a86",
   "metadata": {},
   "outputs": [
    {
     "name": "stdout",
     "output_type": "stream",
     "text": [
      "[30 40 50]\n"
     ]
    }
   ],
   "source": [
    "arr = np.arange(10, 100, 10)\n",
    "elements = arr[2:5]\n",
    "print(elements)"
   ]
  },
  {
   "cell_type": "code",
   "execution_count": 8,
   "id": "a334f595-eae2-4fd3-85f8-67f2845ad143",
   "metadata": {},
   "outputs": [
    {
     "name": "stdout",
     "output_type": "stream",
     "text": [
      "[30 60 90]\n"
     ]
    }
   ],
   "source": [
    "matrix = np.array([[10, 20, 30], [40, 50, 60], [70, 80, 90]])\n",
    "third_column = matrix[:, 2]\n",
    "print(third_column)"
   ]
  },
  {
   "cell_type": "markdown",
   "id": "16d34245-dbc8-4d36-8ca0-5ef44db7f664",
   "metadata": {},
   "source": [
    "7. Replace all even numbers in an array with -1 (without using a loop)."
   ]
  },
  {
   "cell_type": "code",
   "execution_count": 10,
   "id": "5774ebdf-7df1-4d4f-9c14-2a129070f82d",
   "metadata": {},
   "outputs": [
    {
     "name": "stdout",
     "output_type": "stream",
     "text": [
      "[ 1 -1  3 -1  5 -1  7 -1  9]\n"
     ]
    }
   ],
   "source": [
    "arr = np.array([1, 2, 3, 4, 5,6,7,8,9])\n",
    "result = np.where(arr % 2 == 0, -1, arr)\n",
    "print(result)"
   ]
  },
  {
   "cell_type": "markdown",
   "id": "9e0c2c7f-b81b-48d0-83d6-7d399174da1f",
   "metadata": {},
   "source": [
    "Section C: Mathematical & Statistical Operations"
   ]
  },
  {
   "cell_type": "markdown",
   "id": "dd50bbff-4768-455c-9aa1-02c1eb2aa9b2",
   "metadata": {},
   "source": [
    "9. Given arr = np.array([5, 10, 15, 20, 25]), compute:\n",
    " - Mean\n",
    " - Standard deviation\n",
    " - Sum of all elements\n",
    " \n",
    " - Hint: can use function np.mean(), np.std(), np.sum()\n"
   ]
  },
  {
   "cell_type": "code",
   "execution_count": 19,
   "id": "c1853dec-cfd3-420f-bf4a-1583528bdaa9",
   "metadata": {},
   "outputs": [
    {
     "name": "stdout",
     "output_type": "stream",
     "text": [
      "[ 5 10 15 20 25]\n",
      "15.0\n",
      "7.0710678118654755\n",
      "75\n"
     ]
    }
   ],
   "source": [
    "arr = np.array([5, 10, 15, 20, 25])\n",
    "print(arr)\n",
    "Mean = np.mean(arr)\n",
    "print(Mean)\n",
    "Standard_deviation = np.std(arr)\n",
    "print(Standard_deviation)\n",
    "Sum_of_all_elements = np.sum(arr)\n",
    "print(Sum_of_all_elements)"
   ]
  },
  {
   "cell_type": "markdown",
   "id": "a175fdf1-3f18-45d5-862c-5b762de5102b",
   "metadata": {},
   "source": [
    "10. Create a 4x4 matrix with random integers between 1 and 100, and find:\n",
    "- Maximum and Minimum value\n",
    "- Row-wise sum"
   ]
  },
  {
   "cell_type": "code",
   "execution_count": 27,
   "id": "e68314c5-0cf0-4270-949d-d22c1545622d",
   "metadata": {},
   "outputs": [
    {
     "name": "stdout",
     "output_type": "stream",
     "text": [
      "[[4, 90, 28, 36], [78, 11, 28, 28], [85, 3, 89, 4], [66, 42, 82, 12]]\n",
      "Max value in the matrix : 89\n",
      "Min value in the matrix : 4\n",
      "Row-wise sum in the matrix : [158, 145, 181, 202]\n"
     ]
    }
   ],
   "source": [
    "matrix = [[np.random.randint(1, 100) for _ in range(4)] for _ in range(4)]\n",
    "print(matrix)\n",
    "Maximum = max(max(matrix))\n",
    "Minimum = min(min(matrix))\n",
    "print(\"Max value in the matrix :\",Maximum)\n",
    "print(\"Min value in the matrix :\",Minimum)\n",
    "Row_wise = [sum(matrix[0]), sum(matrix[1]), sum(matrix[2]), sum(matrix[3])]\n",
    "print(\"Row-wise sum in the matrix :\",Row_wise)\n"
   ]
  },
  {
   "cell_type": "markdown",
   "id": "f2336675-63b0-461d-a186-5014d5b7f061",
   "metadata": {},
   "source": [
    "Section D: Advanced NumPy Functions"
   ]
  },
  {
   "cell_type": "markdown",
   "id": "d7e9b685-4021-4a6e-9c96-fdd9f51de1a8",
   "metadata": {},
   "source": [
    "11. Create two (3x3) matrices filled with random integers and perform:\n",
    "- Element-wise addition\n",
    "- Matrix multiplication\n",
    "Hint: For matrix multiplication, you can use numpy.dot()"
   ]
  },
  {
   "cell_type": "code",
   "execution_count": 33,
   "id": "85544a7a-164b-4f04-90c4-37fe016448a5",
   "metadata": {},
   "outputs": [
    {
     "name": "stdout",
     "output_type": "stream",
     "text": [
      "Matrix 1:\n",
      "[[2 2 1]\n",
      " [7 6 3]\n",
      " [9 1 2]]\n",
      "Matrix 2:\n",
      "[[6 2 3]\n",
      " [3 3 7]\n",
      " [8 9 6]]\n",
      "\n",
      "Element-wise addition:\n",
      "[[ 8  4  4]\n",
      " [10  9 10]\n",
      " [17 10  8]]\n",
      "\n",
      "Matrix multiplication:\n",
      "[[26 19 26]\n",
      " [84 59 81]\n",
      " [73 39 46]]\n"
     ]
    }
   ],
   "source": [
    "matrix1 = np.random.randint(1, 10, size=(3, 3))\n",
    "matrix2 = np.random.randint(1, 10, size=(3, 3))\n",
    "\n",
    "print(\"Matrix 1:\")\n",
    "print(matrix1)\n",
    "print(\"Matrix 2:\")\n",
    "print(matrix2)\n",
    "\n",
    "result = matrix1 + matrix2\n",
    "print(\"\\nElement-wise addition:\")\n",
    "print(result)\n",
    "\n",
    "product = np.dot(matrix1, matrix2)\n",
    "print(\"\\nMatrix multiplication:\")\n",
    "print(product)"
   ]
  },
  {
   "cell_type": "markdown",
   "id": "9b5dd6cc-ba4d-4ee2-96ad-9eee08901c1c",
   "metadata": {},
   "source": [
    "12. [Optional] Given arr = np.array([1, 2, 3, np.nan, 5, 6, np.nan]),\n",
    "remove all NaN values.\n",
    "(kindly explore the topic np.nan by yourself, and try to solve the problem.)"
   ]
  },
  {
   "cell_type": "code",
   "execution_count": 35,
   "id": "192bd48f-bc5f-4f61-b251-63e41fbfb096",
   "metadata": {},
   "outputs": [
    {
     "name": "stdout",
     "output_type": "stream",
     "text": [
      "[ 1.  2.  3. nan  5.  6. nan]\n",
      "[1. 2. 3. 5. 6.]\n"
     ]
    }
   ],
   "source": [
    "arr = np.array([1, 2, 3, np.nan, 5, 6, np.nan])\n",
    "print(arr)\n",
    "clean_arr = arr[~np.isnan(arr)]\n",
    "print(clean_arr)"
   ]
  }
 ],
 "metadata": {
  "kernelspec": {
   "display_name": "Python 3 (ipykernel)",
   "language": "python",
   "name": "python3"
  },
  "language_info": {
   "codemirror_mode": {
    "name": "ipython",
    "version": 3
   },
   "file_extension": ".py",
   "mimetype": "text/x-python",
   "name": "python",
   "nbconvert_exporter": "python",
   "pygments_lexer": "ipython3",
   "version": "3.12.7"
  }
 },
 "nbformat": 4,
 "nbformat_minor": 5
}
