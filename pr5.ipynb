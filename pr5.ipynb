{
 "cells": [
  {
   "cell_type": "code",
   "execution_count": 1,
   "id": "b49cfcf0-3ee9-49af-87ba-c1720f17cfdc",
   "metadata": {},
   "outputs": [],
   "source": [
    "str1='ACTS'\n",
    "str2='DBDA'"
   ]
  },
  {
   "cell_type": "code",
   "execution_count": 2,
   "id": "31a049b3-ee44-4a6a-80d0-cf8dc4a39e4f",
   "metadata": {},
   "outputs": [
    {
     "name": "stdout",
     "output_type": "stream",
     "text": [
      "ACTS\n"
     ]
    }
   ],
   "source": [
    "print(str1)"
   ]
  },
  {
   "cell_type": "code",
   "execution_count": 3,
   "id": "41b8858a-b496-41d6-a9d2-b43b06096f0f",
   "metadata": {},
   "outputs": [
    {
     "data": {
      "text/plain": [
       "'ACTS'"
      ]
     },
     "execution_count": 3,
     "metadata": {},
     "output_type": "execute_result"
    }
   ],
   "source": [
    "str1"
   ]
  },
  {
   "cell_type": "code",
   "execution_count": 4,
   "id": "e312cc02-5b08-42b6-b63a-8e682607686e",
   "metadata": {},
   "outputs": [],
   "source": [
    "str3='123'"
   ]
  },
  {
   "cell_type": "code",
   "execution_count": 5,
   "id": "1e5865d6-9f5d-4870-87b2-a639cd4f946b",
   "metadata": {},
   "outputs": [
    {
     "data": {
      "text/plain": [
       "str"
      ]
     },
     "execution_count": 5,
     "metadata": {},
     "output_type": "execute_result"
    }
   ],
   "source": [
    "type(str3)"
   ]
  },
  {
   "cell_type": "code",
   "execution_count": 6,
   "id": "b510e093-b6e5-42e2-89fa-1ae4df257576",
   "metadata": {},
   "outputs": [],
   "source": [
    "a=int(str3)"
   ]
  },
  {
   "cell_type": "code",
   "execution_count": 8,
   "id": "58a8affe-a4d8-4e00-a8af-bc505b91aeef",
   "metadata": {},
   "outputs": [
    {
     "name": "stdout",
     "output_type": "stream",
     "text": [
      "123\n"
     ]
    },
    {
     "data": {
      "text/plain": [
       "int"
      ]
     },
     "execution_count": 8,
     "metadata": {},
     "output_type": "execute_result"
    }
   ],
   "source": [
    "print(a)\n",
    "type(a)"
   ]
  },
  {
   "cell_type": "code",
   "execution_count": 9,
   "id": "6d2d1b4f-1b77-438e-94b1-70aa72f355f3",
   "metadata": {},
   "outputs": [
    {
     "name": "stdout",
     "output_type": "stream",
     "text": [
      "I am 'Bond' ... 'James Bond'\n"
     ]
    }
   ],
   "source": [
    "bond=\"I am 'Bond' ... 'James Bond'\"\n",
    "print(bond)"
   ]
  },
  {
   "cell_type": "code",
   "execution_count": 10,
   "id": "c467a1f4-1e7a-40d8-9e81-439682314fa8",
   "metadata": {},
   "outputs": [
    {
     "name": "stdout",
     "output_type": "stream",
     "text": [
      "\n",
      "I am \n",
      "'Bond' ...\n",
      "\"James Bond\"\n",
      "\n"
     ]
    }
   ],
   "source": [
    " str1='''\n",
    " I am \n",
    " 'Bond' ...\n",
    " \"James Bond\"\n",
    " '''\n",
    "print(str1)"
   ]
  },
  {
   "cell_type": "code",
   "execution_count": 11,
   "id": "004a6d2f-8a32-43ee-a87d-caaee3ca8868",
   "metadata": {},
   "outputs": [
    {
     "name": "stdin",
     "output_type": "stream",
     "text": [
      "Enter name of your Apartment:  leo\n"
     ]
    },
    {
     "data": {
      "text/plain": [
       "str"
      ]
     },
     "execution_count": 11,
     "metadata": {},
     "output_type": "execute_result"
    }
   ],
   "source": [
    "building_name=input('Enter name of your Apartment: ')\n",
    "type(building_name)"
   ]
  },
  {
   "cell_type": "code",
   "execution_count": 15,
   "id": "b14a4548-d5cb-46ff-ac96-3abe1a8e245a",
   "metadata": {},
   "outputs": [
    {
     "name": "stdin",
     "output_type": "stream",
     "text": [
      "Enter your House No:  98\n"
     ]
    },
    {
     "name": "stdout",
     "output_type": "stream",
     "text": [
      "<class 'str'>\n"
     ]
    },
    {
     "data": {
      "text/plain": [
       "int"
      ]
     },
     "execution_count": 15,
     "metadata": {},
     "output_type": "execute_result"
    }
   ],
   "source": [
    "house_no = input('Enter your House No: ')\n",
    "print(type(house_no))\n",
    "house_no=int(house_no)\n",
    "type(house_no)"
   ]
  },
  {
   "cell_type": "code",
   "execution_count": 16,
   "id": "6146eb83-96e0-4419-8ced-2346d2fe1543",
   "metadata": {},
   "outputs": [
    {
     "name": "stdout",
     "output_type": "stream",
     "text": [
      "Hello\n",
      "Clas\n"
     ]
    }
   ],
   "source": [
    "print('Hello\\nClas')"
   ]
  },
  {
   "cell_type": "code",
   "execution_count": 18,
   "id": "d4dec2d9-a845-4dfa-b061-4b23c9fd5885",
   "metadata": {},
   "outputs": [
    {
     "name": "stdout",
     "output_type": "stream",
     "text": [
      "Hello\tClass\n"
     ]
    }
   ],
   "source": [
    "print('Hello\\tClass')"
   ]
  },
  {
   "cell_type": "code",
   "execution_count": 19,
   "id": "dcc0f411-1303-4db2-a429-d9bee47bb557",
   "metadata": {},
   "outputs": [
    {
     "data": {
      "text/plain": [
       "13"
      ]
     },
     "execution_count": 19,
     "metadata": {},
     "output_type": "execute_result"
    }
   ],
   "source": [
    "str1 = 'F.R.I.E.N.D.S'\n",
    "len(str1)"
   ]
  },
  {
   "cell_type": "code",
   "execution_count": 20,
   "id": "5563baa0-2b8a-4dd7-b50b-d6fadecaf14b",
   "metadata": {},
   "outputs": [
    {
     "data": {
      "text/plain": [
       "'AmitabhBachchan'"
      ]
     },
     "execution_count": 20,
     "metadata": {},
     "output_type": "execute_result"
    }
   ],
   "source": [
    "first_name='Amitabh'\n",
    "last_name='Bachchan'\n",
    "full_name=first_name+last_name\n",
    "full_name"
   ]
  },
  {
   "cell_type": "code",
   "execution_count": 21,
   "id": "9c210e90-161e-48a3-a84b-dd126af4f2b2",
   "metadata": {},
   "outputs": [
    {
     "data": {
      "text/plain": [
       "'Amitabh Bachchan'"
      ]
     },
     "execution_count": 21,
     "metadata": {},
     "output_type": "execute_result"
    }
   ],
   "source": [
    "first_name + ' ' +  last_name"
   ]
  },
  {
   "cell_type": "code",
   "execution_count": 22,
   "id": "2b886f8d-4a52-4f2e-83d1-e0a8a20f6282",
   "metadata": {},
   "outputs": [
    {
     "data": {
      "text/plain": [
       "'HElloHElloHElloHElloHEllo'"
      ]
     },
     "execution_count": 22,
     "metadata": {},
     "output_type": "execute_result"
    }
   ],
   "source": [
    "'HEllo'*5"
   ]
  },
  {
   "cell_type": "code",
   "execution_count": 23,
   "id": "7ede5084-a650-46d3-b8f1-7f938b7e40ea",
   "metadata": {},
   "outputs": [
    {
     "name": "stdout",
     "output_type": "stream",
     "text": [
      "----------------------------\n",
      "\tGood Morning\n",
      "----------------------------\n"
     ]
    }
   ],
   "source": [
    "print('-'*28)\n",
    "print('\\tGood Morning')\n",
    "print('-'*28)"
   ]
  },
  {
   "cell_type": "code",
   "execution_count": 3,
   "id": "2d2392c9-4587-48d0-9ab5-1f61e6747035",
   "metadata": {},
   "outputs": [
    {
     "data": {
      "text/plain": [
       "'B'"
      ]
     },
     "execution_count": 3,
     "metadata": {},
     "output_type": "execute_result"
    }
   ],
   "source": [
    "b='BIRTHDAY'\n",
    "b[0]"
   ]
  },
  {
   "cell_type": "code",
   "execution_count": 4,
   "id": "8a1a4106-9338-478b-b8de-f6f613123164",
   "metadata": {},
   "outputs": [
    {
     "data": {
      "text/plain": [
       "'H'"
      ]
     },
     "execution_count": 4,
     "metadata": {},
     "output_type": "execute_result"
    }
   ],
   "source": [
    "b[4]"
   ]
  },
  {
   "cell_type": "code",
   "execution_count": 6,
   "id": "54e138dd-895a-40a6-bc05-9e23fec6fbb5",
   "metadata": {},
   "outputs": [
    {
     "data": {
      "text/plain": [
       "8"
      ]
     },
     "execution_count": 6,
     "metadata": {},
     "output_type": "execute_result"
    }
   ],
   "source": [
    "len(b)"
   ]
  },
  {
   "cell_type": "code",
   "execution_count": 7,
   "id": "91dc4d1b-b202-4754-8892-e553829aab27",
   "metadata": {},
   "outputs": [
    {
     "ename": "IndexError",
     "evalue": "string index out of range",
     "output_type": "error",
     "traceback": [
      "\u001b[1;31m---------------------------------------------------------------------------\u001b[0m",
      "\u001b[1;31mIndexError\u001b[0m                                Traceback (most recent call last)",
      "Cell \u001b[1;32mIn[7], line 1\u001b[0m\n\u001b[1;32m----> 1\u001b[0m b[\u001b[38;5;241m8\u001b[39m]\n",
      "\u001b[1;31mIndexError\u001b[0m: string index out of range"
     ]
    }
   ],
   "source": [
    "b[8]"
   ]
  },
  {
   "cell_type": "code",
   "execution_count": 9,
   "id": "94831271-f5ce-4747-93a8-c62158320277",
   "metadata": {},
   "outputs": [
    {
     "data": {
      "text/plain": [
       "'Y'"
      ]
     },
     "execution_count": 9,
     "metadata": {},
     "output_type": "execute_result"
    }
   ],
   "source": [
    "b[-1]"
   ]
  },
  {
   "cell_type": "code",
   "execution_count": 10,
   "id": "3095b695-a50b-45eb-96a5-552282b18dc7",
   "metadata": {},
   "outputs": [
    {
     "data": {
      "text/plain": [
       "'B'"
      ]
     },
     "execution_count": 10,
     "metadata": {},
     "output_type": "execute_result"
    }
   ],
   "source": [
    "b[-8]"
   ]
  },
  {
   "cell_type": "code",
   "execution_count": 12,
   "id": "5ac49c3b-dbf9-476a-b8f8-b109b9f8aedb",
   "metadata": {},
   "outputs": [
    {
     "ename": "IndexError",
     "evalue": "string index out of range",
     "output_type": "error",
     "traceback": [
      "\u001b[1;31m---------------------------------------------------------------------------\u001b[0m",
      "\u001b[1;31mIndexError\u001b[0m                                Traceback (most recent call last)",
      "Cell \u001b[1;32mIn[12], line 1\u001b[0m\n\u001b[1;32m----> 1\u001b[0m b[\u001b[38;5;241m-\u001b[39m\u001b[38;5;241m9\u001b[39m]\n",
      "\u001b[1;31mIndexError\u001b[0m: string index out of range"
     ]
    }
   ],
   "source": [
    "b[-9]"
   ]
  },
  {
   "cell_type": "code",
   "execution_count": 13,
   "id": "07c9f586-f21b-4cbd-a3a9-5f62b04268bc",
   "metadata": {},
   "outputs": [
    {
     "data": {
      "text/plain": [
       "'BIRTHDAY'"
      ]
     },
     "execution_count": 13,
     "metadata": {},
     "output_type": "execute_result"
    }
   ],
   "source": [
    "b"
   ]
  },
  {
   "cell_type": "code",
   "execution_count": 14,
   "id": "fa85ce8a-b51b-451f-97c5-d7cf796c3f18",
   "metadata": {},
   "outputs": [
    {
     "data": {
      "text/plain": [
       "'IRT'"
      ]
     },
     "execution_count": 14,
     "metadata": {},
     "output_type": "execute_result"
    }
   ],
   "source": [
    "b[1:4]"
   ]
  },
  {
   "cell_type": "code",
   "execution_count": 16,
   "id": "5b85c5f7-92fc-40ac-bbf6-ab563c414a44",
   "metadata": {},
   "outputs": [
    {
     "data": {
      "text/plain": [
       "'BIRT'"
      ]
     },
     "execution_count": 16,
     "metadata": {},
     "output_type": "execute_result"
    }
   ],
   "source": [
    "b[:4]"
   ]
  },
  {
   "cell_type": "code",
   "execution_count": 17,
   "id": "1b4f4e0d-d415-4718-9bd5-307303744af0",
   "metadata": {},
   "outputs": [
    {
     "data": {
      "text/plain": [
       "'THDAY'"
      ]
     },
     "execution_count": 17,
     "metadata": {},
     "output_type": "execute_result"
    }
   ],
   "source": [
    "b[3:]"
   ]
  },
  {
   "cell_type": "code",
   "execution_count": 18,
   "id": "12da55dd-8b3b-4dac-83cd-05c6b7e86673",
   "metadata": {},
   "outputs": [
    {
     "data": {
      "text/plain": [
       "'HDA'"
      ]
     },
     "execution_count": 18,
     "metadata": {},
     "output_type": "execute_result"
    }
   ],
   "source": [
    "b[-4:-1]"
   ]
  },
  {
   "cell_type": "code",
   "execution_count": 19,
   "id": "4decc0ac-defd-4256-b6f1-bcd546db7dbf",
   "metadata": {},
   "outputs": [
    {
     "data": {
      "text/plain": [
       "'BIRTHDAY'"
      ]
     },
     "execution_count": 19,
     "metadata": {},
     "output_type": "execute_result"
    }
   ],
   "source": [
    "b"
   ]
  },
  {
   "cell_type": "code",
   "execution_count": 20,
   "id": "990190d6-8f8b-4690-bba9-697cb60b1b13",
   "metadata": {},
   "outputs": [
    {
     "data": {
      "text/plain": [
       "True"
      ]
     },
     "execution_count": 20,
     "metadata": {},
     "output_type": "execute_result"
    }
   ],
   "source": [
    "'H' in b"
   ]
  },
  {
   "cell_type": "code",
   "execution_count": 21,
   "id": "76c31ef5-023a-4c0b-a646-a673b77c5b25",
   "metadata": {},
   "outputs": [
    {
     "data": {
      "text/plain": [
       "False"
      ]
     },
     "execution_count": 21,
     "metadata": {},
     "output_type": "execute_result"
    }
   ],
   "source": [
    "'H' not in b"
   ]
  },
  {
   "cell_type": "code",
   "execution_count": 22,
   "id": "7ef6bd40-dabe-4671-bb94-9f7f678b5d34",
   "metadata": {},
   "outputs": [
    {
     "data": {
      "text/plain": [
       "True"
      ]
     },
     "execution_count": 22,
     "metadata": {},
     "output_type": "execute_result"
    }
   ],
   "source": [
    "'IRT' in b"
   ]
  },
  {
   "cell_type": "code",
   "execution_count": 23,
   "id": "208318dc-f22b-4618-bc91-aca8c06fa1ff",
   "metadata": {},
   "outputs": [
    {
     "data": {
      "text/plain": [
       "False"
      ]
     },
     "execution_count": 23,
     "metadata": {},
     "output_type": "execute_result"
    }
   ],
   "source": [
    "'IRH' in b"
   ]
  },
  {
   "cell_type": "code",
   "execution_count": 24,
   "id": "c8a82789-654f-4690-a85f-b9f89ca36a13",
   "metadata": {},
   "outputs": [
    {
     "name": "stdout",
     "output_type": "stream",
     "text": [
      "Happy\\n\\tBirthday\n"
     ]
    }
   ],
   "source": [
    "h=r'Happy\\n\\tBirthday'\n",
    "print(h)"
   ]
  },
  {
   "cell_type": "code",
   "execution_count": 25,
   "id": "fd1ab1b4-a508-4ee0-9e15-ee20bf2fa163",
   "metadata": {},
   "outputs": [
    {
     "data": {
      "text/plain": [
       "'BIRTHDAY'"
      ]
     },
     "execution_count": 25,
     "metadata": {},
     "output_type": "execute_result"
    }
   ],
   "source": [
    "b"
   ]
  },
  {
   "cell_type": "code",
   "execution_count": 27,
   "id": "0301f5f7-f794-4fef-9079-95845fd1a124",
   "metadata": {},
   "outputs": [
    {
     "ename": "TypeError",
     "evalue": "'str' object does not support item assignment",
     "output_type": "error",
     "traceback": [
      "\u001b[1;31m---------------------------------------------------------------------------\u001b[0m",
      "\u001b[1;31mTypeError\u001b[0m                                 Traceback (most recent call last)",
      "Cell \u001b[1;32mIn[27], line 1\u001b[0m\n\u001b[1;32m----> 1\u001b[0m b[\u001b[38;5;241m1\u001b[39m] \u001b[38;5;241m=\u001b[39m \u001b[38;5;124m'\u001b[39m\u001b[38;5;124mi\u001b[39m\u001b[38;5;124m'\u001b[39m\n",
      "\u001b[1;31mTypeError\u001b[0m: 'str' object does not support item assignment"
     ]
    }
   ],
   "source": [
    "b[1] = 'i'"
   ]
  },
  {
   "cell_type": "code",
   "execution_count": 28,
   "id": "68fe6579-9ead-4dfd-b594-89f4c9f91376",
   "metadata": {},
   "outputs": [
    {
     "data": {
      "text/plain": [
       "'BiRTHDAY'"
      ]
     },
     "execution_count": 28,
     "metadata": {},
     "output_type": "execute_result"
    }
   ],
   "source": [
    "b = 'BiRTHDAY'\n",
    "b"
   ]
  },
  {
   "cell_type": "code",
   "execution_count": 29,
   "id": "bdfe6640-8ff1-4c56-97e4-3929432cea15",
   "metadata": {},
   "outputs": [],
   "source": [
    "del b"
   ]
  },
  {
   "cell_type": "code",
   "execution_count": 30,
   "id": "454e5b3b-4afe-4f2e-8953-39da0fba955c",
   "metadata": {},
   "outputs": [
    {
     "ename": "NameError",
     "evalue": "name 'b' is not defined",
     "output_type": "error",
     "traceback": [
      "\u001b[1;31m---------------------------------------------------------------------------\u001b[0m",
      "\u001b[1;31mNameError\u001b[0m                                 Traceback (most recent call last)",
      "Cell \u001b[1;32mIn[30], line 1\u001b[0m\n\u001b[1;32m----> 1\u001b[0m b\n",
      "\u001b[1;31mNameError\u001b[0m: name 'b' is not defined"
     ]
    }
   ],
   "source": [
    "b"
   ]
  },
  {
   "cell_type": "code",
   "execution_count": 31,
   "id": "493662fa-e0f5-4a59-b5e3-0749bba19155",
   "metadata": {},
   "outputs": [
    {
     "name": "stdout",
     "output_type": "stream",
     "text": [
      "Python\n"
     ]
    }
   ],
   "source": [
    "strc = 'Python'\n",
    "print(strc)"
   ]
  },
  {
   "cell_type": "code",
   "execution_count": 32,
   "id": "45c4a5b7-df7f-428c-8894-e7cfeef8894a",
   "metadata": {},
   "outputs": [
    {
     "data": {
      "text/plain": [
       "True"
      ]
     },
     "execution_count": 32,
     "metadata": {},
     "output_type": "execute_result"
    }
   ],
   "source": [
    "strc=='Python'"
   ]
  },
  {
   "cell_type": "code",
   "execution_count": 33,
   "id": "210c8d9d-f487-47b4-ae55-5828532fd2a9",
   "metadata": {},
   "outputs": [
    {
     "data": {
      "text/plain": [
       "False"
      ]
     },
     "execution_count": 33,
     "metadata": {},
     "output_type": "execute_result"
    }
   ],
   "source": [
    "strc!='Python'"
   ]
  },
  {
   "cell_type": "code",
   "execution_count": 34,
   "id": "86a6d5f7-4596-4813-91a9-99665c6a2ba7",
   "metadata": {},
   "outputs": [
    {
     "data": {
      "text/plain": [
       "False"
      ]
     },
     "execution_count": 34,
     "metadata": {},
     "output_type": "execute_result"
    }
   ],
   "source": [
    "strc>'Python'"
   ]
  },
  {
   "cell_type": "code",
   "execution_count": 36,
   "id": "176f133b-260a-469e-a629-b8cd381ff2c0",
   "metadata": {},
   "outputs": [
    {
     "data": {
      "text/plain": [
       "True"
      ]
     },
     "execution_count": 36,
     "metadata": {},
     "output_type": "execute_result"
    }
   ],
   "source": [
    "strc<'python'"
   ]
  },
  {
   "cell_type": "code",
   "execution_count": 37,
   "id": "9ee3d713-a9d2-4863-affc-9feeccbb76ce",
   "metadata": {},
   "outputs": [],
   "source": [
    "b='BIRTHDAY'"
   ]
  },
  {
   "cell_type": "code",
   "execution_count": 38,
   "id": "d34bc0c9-cfb2-44f8-a2a3-6466c1ced7e2",
   "metadata": {},
   "outputs": [
    {
     "data": {
      "text/plain": [
       "5"
      ]
     },
     "execution_count": 38,
     "metadata": {},
     "output_type": "execute_result"
    }
   ],
   "source": [
    "b.find('DAY')"
   ]
  },
  {
   "cell_type": "code",
   "execution_count": 39,
   "id": "7ae327c5-9321-4340-a6af-ea619fe9be90",
   "metadata": {},
   "outputs": [
    {
     "data": {
      "text/plain": [
       "-1"
      ]
     },
     "execution_count": 39,
     "metadata": {},
     "output_type": "execute_result"
    }
   ],
   "source": [
    "b.find('Z')"
   ]
  },
  {
   "cell_type": "code",
   "execution_count": 40,
   "id": "d6b15747-6af2-483a-89ea-cc84b2743c8f",
   "metadata": {},
   "outputs": [
    {
     "data": {
      "text/plain": [
       "-1"
      ]
     },
     "execution_count": 40,
     "metadata": {},
     "output_type": "execute_result"
    }
   ],
   "source": [
    "b.find('RTH',4)"
   ]
  },
  {
   "cell_type": "code",
   "execution_count": 41,
   "id": "fe232b37-8cbd-4f65-859b-94ca63cf805e",
   "metadata": {},
   "outputs": [
    {
     "data": {
      "text/plain": [
       "2"
      ]
     },
     "execution_count": 41,
     "metadata": {},
     "output_type": "execute_result"
    }
   ],
   "source": [
    "b.find('RTH',2,6)"
   ]
  },
  {
   "cell_type": "code",
   "execution_count": 42,
   "id": "4de0b393-9423-49c6-82d5-1667e4ab93dc",
   "metadata": {},
   "outputs": [
    {
     "data": {
      "text/plain": [
       "5"
      ]
     },
     "execution_count": 42,
     "metadata": {},
     "output_type": "execute_result"
    }
   ],
   "source": [
    "b.find('DAY',2,8)"
   ]
  },
  {
   "cell_type": "code",
   "execution_count": 43,
   "id": "cde0b538-23a6-4fac-a38e-1f51f5f06a34",
   "metadata": {},
   "outputs": [],
   "source": [
    "h='Hello World'"
   ]
  },
  {
   "cell_type": "code",
   "execution_count": 44,
   "id": "7b80f03e-9f7e-4264-910a-081d4fc2658e",
   "metadata": {},
   "outputs": [
    {
     "data": {
      "text/plain": [
       "'Hello India'"
      ]
     },
     "execution_count": 44,
     "metadata": {},
     "output_type": "execute_result"
    }
   ],
   "source": [
    "h.replace('World','India')"
   ]
  },
  {
   "cell_type": "code",
   "execution_count": 46,
   "id": "929a4700-3f03-4b8a-83b5-47f3a3f2b418",
   "metadata": {},
   "outputs": [
    {
     "data": {
      "text/plain": [
       "'HeLlo World'"
      ]
     },
     "execution_count": 46,
     "metadata": {},
     "output_type": "execute_result"
    }
   ],
   "source": [
    "h.replace('l','L',1)"
   ]
  },
  {
   "cell_type": "code",
   "execution_count": 47,
   "id": "e62cfdfc-39ae-4b6c-840c-b932f5742469",
   "metadata": {},
   "outputs": [
    {
     "data": {
      "text/plain": [
       "'HeLLo WorLd'"
      ]
     },
     "execution_count": 47,
     "metadata": {},
     "output_type": "execute_result"
    }
   ],
   "source": [
    "h.replace('l','L')"
   ]
  },
  {
   "cell_type": "code",
   "execution_count": 48,
   "id": "6b8db705-131b-439d-ab6e-ffcdfa9e8eb0",
   "metadata": {},
   "outputs": [
    {
     "data": {
      "text/plain": [
       "'HeLLo World'"
      ]
     },
     "execution_count": 48,
     "metadata": {},
     "output_type": "execute_result"
    }
   ],
   "source": [
    "h.replace('l','L',2)"
   ]
  },
  {
   "cell_type": "code",
   "execution_count": 49,
   "id": "1206c7eb-9072-4eaf-aadc-246148dbbfff",
   "metadata": {},
   "outputs": [],
   "source": [
    "j=\"         Joey Doesn't Share Food!!!                  \""
   ]
  },
  {
   "cell_type": "code",
   "execution_count": 50,
   "id": "cf1461dd-f351-4db5-8bf1-b4053d74d983",
   "metadata": {},
   "outputs": [
    {
     "data": {
      "text/plain": [
       "\"Joey Doesn't Share Food!!!\""
      ]
     },
     "execution_count": 50,
     "metadata": {},
     "output_type": "execute_result"
    }
   ],
   "source": [
    "j.strip()"
   ]
  },
  {
   "cell_type": "code",
   "execution_count": 51,
   "id": "f05e9028-ca46-47d6-90c4-f2c842f360fb",
   "metadata": {},
   "outputs": [
    {
     "data": {
      "text/plain": [
       "\"Joey Doesn't Share Food!!!                  \""
      ]
     },
     "execution_count": 51,
     "metadata": {},
     "output_type": "execute_result"
    }
   ],
   "source": [
    "j.lstrip()"
   ]
  },
  {
   "cell_type": "code",
   "execution_count": 52,
   "id": "c9122cf5-40fe-4bbf-b8be-92ffd0408f34",
   "metadata": {},
   "outputs": [
    {
     "data": {
      "text/plain": [
       "\"         Joey Doesn't Share Food!!!\""
      ]
     },
     "execution_count": 52,
     "metadata": {},
     "output_type": "execute_result"
    }
   ],
   "source": [
    "j.rstrip()"
   ]
  },
  {
   "cell_type": "code",
   "execution_count": 54,
   "id": "876948eb-ec56-4ea4-9771-f843a2f68646",
   "metadata": {},
   "outputs": [
    {
     "name": "stdout",
     "output_type": "stream",
     "text": [
      "Joey Doesn't Share Food!!!\n"
     ]
    }
   ],
   "source": [
    "print(\"Joey Doesn't Share Food!!!\")"
   ]
  },
  {
   "cell_type": "code",
   "execution_count": 55,
   "id": "8cd321f5-2a5a-44af-8d49-49da994b9ef3",
   "metadata": {},
   "outputs": [
    {
     "name": "stdin",
     "output_type": "stream",
     "text": [
      "Name:  Akash\n",
      "Favourite Item:  Pizza\n"
     ]
    }
   ],
   "source": [
    "first_name=input(\"Name: \")\n",
    "fav_item=input(\"Favourite Item: \")"
   ]
  },
  {
   "cell_type": "code",
   "execution_count": 56,
   "id": "309bf6cd-108c-4bfa-ae9b-2822fe900842",
   "metadata": {},
   "outputs": [
    {
     "name": "stdout",
     "output_type": "stream",
     "text": [
      "Akash Doesn't Share Pizza !!!\n"
     ]
    }
   ],
   "source": [
    "print(first_name,\"Doesn't Share\",fav_item,\"!!!\")"
   ]
  },
  {
   "cell_type": "code",
   "execution_count": 57,
   "id": "705128a7-e99d-4f94-bea4-b39861379e89",
   "metadata": {},
   "outputs": [
    {
     "name": "stdout",
     "output_type": "stream",
     "text": [
      "Akash Doesn't SharePizza!!!\n"
     ]
    }
   ],
   "source": [
    "print(first_name,\"Doesn't Share\"+str(fav_item)+'!!!')"
   ]
  },
  {
   "cell_type": "code",
   "execution_count": 59,
   "id": "dccd9b0d-6c37-4e3b-982f-4942c5cc9ade",
   "metadata": {},
   "outputs": [
    {
     "name": "stdout",
     "output_type": "stream",
     "text": [
      "Akash Doesn't Share Pizza!!! Akash\n"
     ]
    }
   ],
   "source": [
    "print(\"{0} Doesn't Share {1}!!! {0}\".format(first_name,fav_item))"
   ]
  },
  {
   "cell_type": "code",
   "execution_count": 61,
   "id": "e0fe75cf-e1c2-4060-af4d-3f7ce6c18243",
   "metadata": {},
   "outputs": [
    {
     "name": "stdout",
     "output_type": "stream",
     "text": [
      "Akash Doesn't Share Pizza!!!\n"
     ]
    }
   ],
   "source": [
    "print(\"{name} Doesn't Share {fav}!!!\" .format(name=first_name,fav=fav_item))"
   ]
  },
  {
   "cell_type": "code",
   "execution_count": 62,
   "id": "fb1ba416-f42f-4a3b-9816-117aee9b4d6b",
   "metadata": {},
   "outputs": [],
   "source": [
    "s='I am learning Python'"
   ]
  },
  {
   "cell_type": "code",
   "execution_count": 63,
   "id": "9f5f7629-2454-4e71-b468-796b2b5b104b",
   "metadata": {},
   "outputs": [
    {
     "data": {
      "text/plain": [
       "20"
      ]
     },
     "execution_count": 63,
     "metadata": {},
     "output_type": "execute_result"
    }
   ],
   "source": [
    "len(s)"
   ]
  },
  {
   "cell_type": "code",
   "execution_count": 64,
   "id": "794df41d-e89e-4ec4-ae3e-19478acd5614",
   "metadata": {},
   "outputs": [
    {
     "data": {
      "text/plain": [
       "'I am learning Python     '"
      ]
     },
     "execution_count": 64,
     "metadata": {},
     "output_type": "execute_result"
    }
   ],
   "source": [
    "\"{0:25}\".format(s)"
   ]
  },
  {
   "cell_type": "code",
   "execution_count": 65,
   "id": "73d5c305-4bf3-4127-af4f-149fa2941a2e",
   "metadata": {},
   "outputs": [
    {
     "data": {
      "text/plain": [
       "'I am learning Python'"
      ]
     },
     "execution_count": 65,
     "metadata": {},
     "output_type": "execute_result"
    }
   ],
   "source": [
    "\"{0:10}\".format(s)"
   ]
  },
  {
   "cell_type": "code",
   "execution_count": 66,
   "id": "595d8bd3-187b-44b2-9eda-c679ad8e5b7a",
   "metadata": {},
   "outputs": [
    {
     "data": {
      "text/plain": [
       "'     I am learning Python'"
      ]
     },
     "execution_count": 66,
     "metadata": {},
     "output_type": "execute_result"
    }
   ],
   "source": [
    "\"{0:>25}\".format(s)"
   ]
  },
  {
   "cell_type": "code",
   "execution_count": 67,
   "id": "4ee83dcb-8254-492b-9116-7397d3ebb8eb",
   "metadata": {},
   "outputs": [
    {
     "data": {
      "text/plain": [
       "'  I am learning Python   '"
      ]
     },
     "execution_count": 67,
     "metadata": {},
     "output_type": "execute_result"
    }
   ],
   "source": [
    "\"{0:^25}\".format(s)"
   ]
  },
  {
   "cell_type": "code",
   "execution_count": 68,
   "id": "5e351160-61c6-4eee-809b-39f578461f26",
   "metadata": {},
   "outputs": [
    {
     "data": {
      "text/plain": [
       "'--I am learning Python---'"
      ]
     },
     "execution_count": 68,
     "metadata": {},
     "output_type": "execute_result"
    }
   ],
   "source": [
    "\"{0:-^25}\".format(s)"
   ]
  },
  {
   "cell_type": "code",
   "execution_count": 69,
   "id": "0768a409-e5aa-42ff-9abf-fed7a08d5002",
   "metadata": {},
   "outputs": [
    {
     "data": {
      "text/plain": [
       "'I am learn'"
      ]
     },
     "execution_count": 69,
     "metadata": {},
     "output_type": "execute_result"
    }
   ],
   "source": [
    "\"{0:.10}\".format(s)"
   ]
  },
  {
   "cell_type": "code",
   "execution_count": 71,
   "id": "d99d8fe2-8fb7-4fad-b2f6-bb8baf310428",
   "metadata": {},
   "outputs": [
    {
     "name": "stdout",
     "output_type": "stream",
     "text": [
      "Hello, I am Akshay. I am 26\n"
     ]
    }
   ],
   "source": [
    "name='Akshay'\n",
    "age=26\n",
    "print(f'Hello, I am {name}. I am {age}')"
   ]
  },
  {
   "cell_type": "code",
   "execution_count": 73,
   "id": "761ec84e-8084-4bb0-8a67-5329c26b5a28",
   "metadata": {},
   "outputs": [
    {
     "data": {
      "text/plain": [
       "'dog'"
      ]
     },
     "execution_count": 73,
     "metadata": {},
     "output_type": "execute_result"
    }
   ],
   "source": [
    "d='DOG'\n",
    "d.casefold()"
   ]
  },
  {
   "cell_type": "code",
   "execution_count": 74,
   "id": "ebc065bd-9c8e-45a8-b21f-dc95134ec37f",
   "metadata": {},
   "outputs": [
    {
     "data": {
      "text/plain": [
       "'DOG'"
      ]
     },
     "execution_count": 74,
     "metadata": {},
     "output_type": "execute_result"
    }
   ],
   "source": [
    "d.upper()"
   ]
  },
  {
   "cell_type": "code",
   "execution_count": 75,
   "id": "2eaeb90b-807f-44aa-b057-781a08136d1e",
   "metadata": {},
   "outputs": [],
   "source": [
    "str1=\"BIRTHDAY\""
   ]
  },
  {
   "cell_type": "code",
   "execution_count": 76,
   "id": "2382cffb-2788-4dca-a878-f3fde072f511",
   "metadata": {},
   "outputs": [
    {
     "name": "stdout",
     "output_type": "stream",
     "text": [
      "B\n",
      "I\n",
      "R\n",
      "T\n",
      "H\n",
      "D\n",
      "A\n",
      "Y\n"
     ]
    }
   ],
   "source": [
    "for i in str1:\n",
    "    print(i)"
   ]
  },
  {
   "cell_type": "code",
   "execution_count": 79,
   "id": "a34d543a-416c-4842-bda9-ba7a3557b97b",
   "metadata": {},
   "outputs": [
    {
     "name": "stdout",
     "output_type": "stream",
     "text": [
      "Hello World\n",
      "gm\n"
     ]
    }
   ],
   "source": [
    "print(\"Hello\",end=\" \")\n",
    "print(\"World\")\n",
    "print(\"gm\")"
   ]
  },
  {
   "cell_type": "code",
   "execution_count": 80,
   "id": "a5ac4082-7f89-4af8-9f1c-547028785612",
   "metadata": {},
   "outputs": [
    {
     "name": "stdout",
     "output_type": "stream",
     "text": [
      "Hello,World\n"
     ]
    }
   ],
   "source": [
    "print(\"Hello\",\"World\",sep=\",\")"
   ]
  },
  {
   "cell_type": "code",
   "execution_count": 81,
   "id": "547e413a-3211-4b8d-a78f-0aa61d24407f",
   "metadata": {},
   "outputs": [
    {
     "name": "stdout",
     "output_type": "stream",
     "text": [
      "Help on built-in function print in module builtins:\n",
      "\n",
      "print(*args, sep=' ', end='\\n', file=None, flush=False)\n",
      "    Prints the values to a stream, or to sys.stdout by default.\n",
      "\n",
      "    sep\n",
      "      string inserted between values, default a space.\n",
      "    end\n",
      "      string appended after the last value, default a newline.\n",
      "    file\n",
      "      a file-like object (stream); defaults to the current sys.stdout.\n",
      "    flush\n",
      "      whether to forcibly flush the stream.\n",
      "\n"
     ]
    }
   ],
   "source": [
    "help(print)"
   ]
  }
 ],
 "metadata": {
  "kernelspec": {
   "display_name": "Python 3 (ipykernel)",
   "language": "python",
   "name": "python3"
  },
  "language_info": {
   "codemirror_mode": {
    "name": "ipython",
    "version": 3
   },
   "file_extension": ".py",
   "mimetype": "text/x-python",
   "name": "python",
   "nbconvert_exporter": "python",
   "pygments_lexer": "ipython3",
   "version": "3.12.7"
  }
 },
 "nbformat": 4,
 "nbformat_minor": 5
}
