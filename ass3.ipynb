{
 "cells": [
  {
   "cell_type": "markdown",
   "id": "960098e7-087c-48dd-a0f5-9cbadb8ba3d6",
   "metadata": {},
   "source": [
    "Assignment - 5\n"
   ]
  },
  {
   "cell_type": "markdown",
   "id": "dc18e34a-2815-44d5-a649-33a56a267c63",
   "metadata": {},
   "source": [
    "1. Create a class 'Student' with rollno, studentName, course ,dictionary of \n",
    "marks(subjectName -> marks [5]). Provide following functionalities\n",
    "\n",
    "- A. initializer\n",
    "- B. override __str__ method\n",
    "- C. accept student data\n",
    "- D. Print student data for given id.\n",
    "- E. Print Student who has failed in any subject. Write menu driven program to test above functionalities.( accept records of students and store those in list ) "
   ]
  },
  {
   "cell_type": "code",
   "execution_count": 3,
   "id": "7d58f39d-b504-4d42-9832-6866fcfe8bf4",
   "metadata": {
    "scrolled": true
   },
   "outputs": [
    {
     "name": "stdin",
     "output_type": "stream",
     "text": [
      "Enter Roll No:  1\n",
      "Enter Name:  a\n",
      "Enter Course:  0\n",
      "Enter Subject 1 Name:  1\n",
      "Enter Marks for 1:  100\n",
      "Enter Subject 2 Name:  2\n",
      "Enter Marks for 2:  100\n",
      "Enter Subject 3 Name:  3\n",
      "Enter Marks for 3:  200\n",
      "Enter Subject 4 Name:  4\n",
      "Enter Marks for 4:  100\n",
      "Enter Subject 5 Name:  5\n",
      "Enter Marks for 5:  100\n",
      "Enter Roll No:  2\n",
      "Enter Name:  b\n",
      "Enter Course:  1\n",
      "Enter Subject 1 Name:  1\n",
      "Enter Marks for 1:  90\n",
      "Enter Subject 2 Name:  2\n",
      "Enter Marks for 2:  90\n",
      "Enter Subject 3 Name:  3\n",
      "Enter Marks for 3:  90\n",
      "Enter Subject 4 Name:  4\n",
      "Enter Marks for 4:  90\n",
      "Enter Subject 5 Name:  5\n",
      "Enter Marks for 5:  90\n",
      "Enter Roll No:  3\n",
      "Enter Name:  c\n",
      "Enter Course:  2\n",
      "Enter Subject 1 Name:  1\n",
      "Enter Marks for 1:  80\n",
      "Enter Subject 2 Name:  2\n",
      "Enter Marks for 2:  80\n",
      "Enter Subject 3 Name:  3\n",
      "Enter Marks for 3:  80\n",
      "Enter Subject 4 Name:  4\n",
      "Enter Marks for 4:  80\n",
      "Enter Subject 5 Name:  5\n",
      "Enter Marks for 5:  80\n",
      "Enter Roll No:  4\n",
      "Enter Name:  d\n",
      "Enter Course:  3\n",
      "Enter Subject 1 Name:  1\n",
      "Enter Marks for 1:  70\n",
      "Enter Subject 2 Name:  2\n",
      "Enter Marks for 2:  70\n",
      "Enter Subject 3 Name:  3\n",
      "Enter Marks for 3:  70\n",
      "Enter Subject 4 Name:  4\n",
      "Enter Marks for 4:  70\n",
      "Enter Subject 5 Name:  5\n",
      "Enter Marks for 5:  70\n",
      "Enter Roll No:  5\n",
      "Enter Name:  e\n",
      "Enter Course:  4\n",
      "Enter Subject 1 Name:  1\n",
      "Enter Marks for 1:  60\n",
      "Enter Subject 2 Name:  2\n",
      "Enter Marks for 2:  60\n",
      "Enter Subject 3 Name:  3\n",
      "Enter Marks for 3:  60\n",
      "Enter Subject 4 Name:  4\n",
      "Enter Marks for 4:  60\n",
      "Enter Subject 5 Name:  5\n",
      "Enter Marks for 5:  60\n"
     ]
    },
    {
     "name": "stdout",
     "output_type": "stream",
     "text": [
      "\n",
      "1. Display Student by ID\n",
      "2. Students who failed\n",
      "3. Exit\n"
     ]
    },
    {
     "name": "stdin",
     "output_type": "stream",
     "text": [
      "Enter choice:  1\n",
      "Enter Roll No:  1\n"
     ]
    },
    {
     "name": "stdout",
     "output_type": "stream",
     "text": [
      "Roll No: 1, Name: a, Course: 0, Marks: {'1': 100, '2': 100, '3': 200, '4': 100, '5': 100}\n",
      "\n",
      "1. Display Student by ID\n",
      "2. Students who failed\n",
      "3. Exit\n"
     ]
    },
    {
     "name": "stdin",
     "output_type": "stream",
     "text": [
      "Enter choice:  2\n"
     ]
    },
    {
     "name": "stdout",
     "output_type": "stream",
     "text": [
      "Students who failed in any subject:\n",
      "\n",
      "1. Display Student by ID\n",
      "2. Students who failed\n",
      "3. Exit\n"
     ]
    },
    {
     "name": "stdin",
     "output_type": "stream",
     "text": [
      "Enter choice:  3\n"
     ]
    }
   ],
   "source": [
    "class Student:\n",
    "    def __init__(self, rollno, name, course, marks):\n",
    "        self.rollno = rollno\n",
    "        self.name = name\n",
    "        self.course = course\n",
    "        self.marks = marks\n",
    "\n",
    "    def __str__(self):\n",
    "        return f\"Roll No: {self.rollno}, Name: {self.name}, Course: {self.course}, Marks: {self.marks}\"\n",
    "\n",
    "    @staticmethod\n",
    "    def accept_student():\n",
    "        rollno = int(input(\"Enter Roll No: \"))\n",
    "        name = input(\"Enter Name: \")\n",
    "        course = input(\"Enter Course: \")\n",
    "        marks = {}\n",
    "        for i in range(5):\n",
    "            subject = input(f\"Enter Subject {i+1} Name: \")\n",
    "            marks[subject] = int(input(f\"Enter Marks for {subject}: \"))\n",
    "        return Student(rollno, name, course, marks)\n",
    "\n",
    "    def has_failed(self):\n",
    "        return any(m < 40 for m in self.marks.values())\n",
    "students = []\n",
    "for i in range(5):\n",
    "    students.append(Student.accept_student())\n",
    "\n",
    "while True:\n",
    "    print(\"\\n1. Display Student by ID\\n2. Students who failed\\n3. Exit\")\n",
    "    choice = int(input(\"Enter choice: \"))\n",
    "\n",
    "    if choice == 1:\n",
    "        search_id = int(input(\"Enter Roll No: \"))\n",
    "        found = False\n",
    "        for student in students:\n",
    "            if student.rollno == search_id:\n",
    "                print(student)\n",
    "                found = True\n",
    "                break\n",
    "        if not found:\n",
    "            print(\"Student Not Found!\")\n",
    "\n",
    "    elif choice == 2:\n",
    "        print(\"Students who failed in any subject:\")\n",
    "        for student in students:\n",
    "            if student.has_failed():\n",
    "                print(student)\n",
    "\n",
    "    elif choice == 3:\n",
    "        break\n",
    "\n",
    "    else:\n",
    "        print(\"Invalid choice!\")\n"
   ]
  },
  {
   "cell_type": "markdown",
   "id": "52d4eec5-bb93-43b0-b78a-adce8c542f34",
   "metadata": {},
   "source": [
    "2. Write a menu-driven program to maintain student information. for every student \n",
    "store studetid, sname, and m1,m2,m3 marks for 3 subject. also store gpa in \n",
    "student class, add a function in student class to return GPA of a student\n",
    " -  Calculate GPA() \n",
    " -  gpa=(1/3)*m1+(1/2)*m2+(1/4)*m3 \n",
    " -  Create an array to store Multiple students. \n",
    "1. Display All Student \n",
    "2. Search by id \n",
    "3. Search by name \n",
    "4. calculate GPA of a student \n",
    "5. Exit"
   ]
  },
  {
   "cell_type": "code",
   "execution_count": 5,
   "id": "491f378f-95c2-4bd8-9f25-4d1cd37b6dc1",
   "metadata": {},
   "outputs": [
    {
     "name": "stdin",
     "output_type": "stream",
     "text": [
      "Enter Student ID:  1\n",
      "Enter Name:  a\n",
      "Enter Marks for Subject 1:  20\n",
      "Enter Marks for Subject 2:  45\n",
      "Enter Marks for Subject 3:  54\n",
      "Enter Student ID:  2\n",
      "Enter Name:  \n",
      "Enter Marks for Subject 1:  65\n",
      "Enter Marks for Subject 2:  85\n",
      "Enter Marks for Subject 3:  86\n",
      "Enter Student ID:  3\n",
      "Enter Name:  c\n",
      "Enter Marks for Subject 1:  59\n",
      "Enter Marks for Subject 2:  23\n",
      "Enter Marks for Subject 3:  59\n",
      "Enter Student ID:  4\n",
      "Enter Name:  \n",
      "Enter Marks for Subject 1:  41\n",
      "Enter Marks for Subject 2:  8\n",
      "Enter Marks for Subject 3:  89\n",
      "Enter Student ID:  5\n",
      "Enter Name:  e\n",
      "Enter Marks for Subject 1:  48\n",
      "Enter Marks for Subject 2:  145\n",
      "Enter Marks for Subject 3:  18\n"
     ]
    },
    {
     "name": "stdout",
     "output_type": "stream",
     "text": [
      "\n",
      "1. Display All Students\n",
      "2. Search by ID\n",
      "3. Search by Name\n",
      "4. Calculate GPA\n",
      "5. Exit\n"
     ]
    },
    {
     "name": "stdin",
     "output_type": "stream",
     "text": [
      "Enter choice:  1\n"
     ]
    },
    {
     "name": "stdout",
     "output_type": "stream",
     "text": [
      "ID: 1, Name: a, GPA: 42.67\n",
      "ID: 2, Name: , GPA: 85.67\n",
      "ID: 3, Name: c, GPA: 45.92\n",
      "ID: 4, Name: , GPA: 39.92\n",
      "ID: 5, Name: e, GPA: 93.00\n",
      "\n",
      "1. Display All Students\n",
      "2. Search by ID\n",
      "3. Search by Name\n",
      "4. Calculate GPA\n",
      "5. Exit\n"
     ]
    },
    {
     "name": "stdin",
     "output_type": "stream",
     "text": [
      "Enter choice:  2\n",
      "Enter Student ID:  4\n"
     ]
    },
    {
     "name": "stdout",
     "output_type": "stream",
     "text": [
      "ID: 4, Name: , GPA: 39.92\n",
      "\n",
      "1. Display All Students\n",
      "2. Search by ID\n",
      "3. Search by Name\n",
      "4. Calculate GPA\n",
      "5. Exit\n"
     ]
    },
    {
     "name": "stdin",
     "output_type": "stream",
     "text": [
      "Enter choice:  3\n",
      "Enter Name:  e\n"
     ]
    },
    {
     "name": "stdout",
     "output_type": "stream",
     "text": [
      "ID: 5, Name: e, GPA: 93.00\n",
      "\n",
      "1. Display All Students\n",
      "2. Search by ID\n",
      "3. Search by Name\n",
      "4. Calculate GPA\n",
      "5. Exit\n"
     ]
    },
    {
     "name": "stdin",
     "output_type": "stream",
     "text": [
      "Enter choice:  4\n",
      "Enter Student ID:  1\n"
     ]
    },
    {
     "name": "stdout",
     "output_type": "stream",
     "text": [
      "GPA of a: 42.67\n",
      "\n",
      "1. Display All Students\n",
      "2. Search by ID\n",
      "3. Search by Name\n",
      "4. Calculate GPA\n",
      "5. Exit\n"
     ]
    },
    {
     "name": "stdin",
     "output_type": "stream",
     "text": [
      "Enter choice:  5\n"
     ]
    }
   ],
   "source": [
    "class StudentGPA:\n",
    "    def __init__(self, student_id, name, m1, m2, m3):\n",
    "        self.student_id = student_id\n",
    "        self.name = name\n",
    "        self.m1 = m1\n",
    "        self.m2 = m2\n",
    "        self.m3 = m3\n",
    "        self.gpa = self.calculate_gpa()\n",
    "\n",
    "    def calculate_gpa(self):\n",
    "        return (1/3) * self.m1 + (1/2) * self.m2 + (1/4) * self.m3\n",
    "\n",
    "    def __str__(self):\n",
    "        return f\"ID: {self.student_id}, Name: {self.name}, GPA: {self.gpa:.2f}\"\n",
    "\n",
    "students = []\n",
    "for i in range(5):\n",
    "    student_id = int(input(\"Enter Student ID: \"))\n",
    "    name = input(\"Enter Name: \")\n",
    "    m1 = int(input(\"Enter Marks for Subject 1: \"))\n",
    "    m2 = int(input(\"Enter Marks for Subject 2: \"))\n",
    "    m3 = int(input(\"Enter Marks for Subject 3: \"))\n",
    "    students.append(StudentGPA(student_id, name, m1, m2, m3))\n",
    "\n",
    "while True:\n",
    "    print(\"\\n1. Display All Students\\n2. Search by ID\\n3. Search by Name\\n4. Calculate GPA\\n5. Exit\")\n",
    "    choice = int(input(\"Enter choice: \"))\n",
    "\n",
    "    if choice == 1:\n",
    "        for s in students:\n",
    "            print(s)\n",
    "\n",
    "    elif choice == 2:\n",
    "        search_id = int(input(\"Enter Student ID: \"))\n",
    "        for s in students:\n",
    "            if s.student_id == search_id:\n",
    "                print(s)\n",
    "                break\n",
    "        else:\n",
    "            print(\"Student not found.\")\n",
    "\n",
    "    elif choice == 3:\n",
    "        search_name = input(\"Enter Name: \")\n",
    "        for s in students:\n",
    "            if s.name.lower() == search_name.lower():\n",
    "                print(s)\n",
    "                break\n",
    "        else:\n",
    "            print(\"Student not found.\")\n",
    "\n",
    "    elif choice == 4:\n",
    "        search_id = int(input(\"Enter Student ID: \"))\n",
    "        for s in students:\n",
    "            if s.student_id == search_id:\n",
    "                print(f\"GPA of {s.name}: {s.gpa:.2f}\")\n",
    "                break\n",
    "        else:\n",
    "            print(\"Student not found.\")\n",
    "\n",
    "    elif choice == 5:\n",
    "        break\n",
    "\n",
    "    else:\n",
    "        print(\"Invalid choice!\")\n"
   ]
  },
  {
   "cell_type": "markdown",
   "id": "2643ed31-6679-4539-ac76-ee89f1be7b10",
   "metadata": {},
   "source": [
    "3. Generators:\n",
    "Create a class NumberSeries that includes a generator method to generate a series of even numbers up to a given limit. Write a script to create an instance of this class and print all the even numbers generated."
   ]
  },
  {
   "cell_type": "code",
   "execution_count": 7,
   "id": "91ebe3b9-fd8b-42a0-96b4-8b281fa0fbd3",
   "metadata": {},
   "outputs": [
    {
     "name": "stdin",
     "output_type": "stream",
     "text": [
      "Enter the limit for even numbers:  100\n"
     ]
    },
    {
     "name": "stdout",
     "output_type": "stream",
     "text": [
      "Even Numbers:\n",
      "0 2 4 6 8 10 12 14 16 18 20 22 24 26 28 30 32 34 36 38 40 42 44 46 48 50 52 54 56 58 60 62 64 66 68 70 72 74 76 78 80 82 84 86 88 90 92 94 96 98 100 "
     ]
    }
   ],
   "source": [
    "class NumberSeries:\n",
    "    def __init__(self, limit):\n",
    "        self.limit = limit\n",
    "\n",
    "    def even_generator(self):\n",
    "        for num in range(0, self.limit + 1, 2):\n",
    "            yield num\n",
    "\n",
    "limit = int(input(\"Enter the limit for even numbers: \"))\n",
    "series = NumberSeries(limit)\n",
    "\n",
    "print(\"Even Numbers:\")\n",
    "for even in series.even_generator():\n",
    "    print(even, end=\" \")"
   ]
  },
  {
   "cell_type": "code",
   "execution_count": null,
   "id": "8d7acc54-6f9b-41ae-a9c3-2c84adaba102",
   "metadata": {},
   "outputs": [],
   "source": []
  }
 ],
 "metadata": {
  "kernelspec": {
   "display_name": "Python 3 (ipykernel)",
   "language": "python",
   "name": "python3"
  },
  "language_info": {
   "codemirror_mode": {
    "name": "ipython",
    "version": 3
   },
   "file_extension": ".py",
   "mimetype": "text/x-python",
   "name": "python",
   "nbconvert_exporter": "python",
   "pygments_lexer": "ipython3",
   "version": "3.12.7"
  }
 },
 "nbformat": 4,
 "nbformat_minor": 5
}
