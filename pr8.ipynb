{
 "cells": [
  {
   "cell_type": "code",
   "execution_count": 30,
   "id": "a6b131d9-711c-4b5e-8743-faa1eeffe9a6",
   "metadata": {},
   "outputs": [],
   "source": [
    "city_temp={'Mumbai':32,'Hyderabad':38,'Vishkhapanam':31,'Delhi':42}"
   ]
  },
  {
   "cell_type": "code",
   "execution_count": 2,
   "id": "0f4cc658-8650-43c5-8e8c-51973af01d89",
   "metadata": {},
   "outputs": [
    {
     "name": "stdout",
     "output_type": "stream",
     "text": [
      "{'Mumbai': 32, 'Hyderabad': 38, 'Vishkhapanam': 31, 'Delhi': 42}\n",
      "<class 'dict'>\n",
      "4\n"
     ]
    }
   ],
   "source": [
    "print(city_temp)\n",
    "print(type(city_temp))\n",
    "print(len(city_temp))"
   ]
  },
  {
   "cell_type": "code",
   "execution_count": 4,
   "id": "d1623333-b32a-4602-a38f-ea59406da79e",
   "metadata": {},
   "outputs": [],
   "source": [
    "d1= dict([('two',2),('one',1),('three',3)])"
   ]
  },
  {
   "cell_type": "code",
   "execution_count": 5,
   "id": "dc6f53cb-65e3-4af9-8907-5984b75b2897",
   "metadata": {},
   "outputs": [
    {
     "data": {
      "text/plain": [
       "{'two': 2, 'one': 1, 'three': 3}"
      ]
     },
     "execution_count": 5,
     "metadata": {},
     "output_type": "execute_result"
    }
   ],
   "source": [
    "d1"
   ]
  },
  {
   "cell_type": "code",
   "execution_count": 6,
   "id": "8c6186c6-58ef-49a5-9b5c-9bbcafd37fa2",
   "metadata": {},
   "outputs": [
    {
     "data": {
      "text/plain": [
       "32"
      ]
     },
     "execution_count": 6,
     "metadata": {},
     "output_type": "execute_result"
    }
   ],
   "source": [
    "city_temp['Mumbai']"
   ]
  },
  {
   "cell_type": "code",
   "execution_count": 7,
   "id": "0cdddb26-8825-480e-9055-af8109bbe2ba",
   "metadata": {},
   "outputs": [],
   "source": [
    "city_temp['Hyderabad']=40"
   ]
  },
  {
   "cell_type": "code",
   "execution_count": 8,
   "id": "7ccc82b6-a860-4ea7-89eb-86edff4ec7d6",
   "metadata": {},
   "outputs": [
    {
     "data": {
      "text/plain": [
       "{'Mumbai': 32, 'Hyderabad': 40, 'Vishkhapanam': 31, 'Delhi': 42}"
      ]
     },
     "execution_count": 8,
     "metadata": {},
     "output_type": "execute_result"
    }
   ],
   "source": [
    "city_temp"
   ]
  },
  {
   "cell_type": "code",
   "execution_count": 18,
   "id": "bf3c855f-7e17-4c27-ac2b-bad053762bb2",
   "metadata": {},
   "outputs": [],
   "source": [
    "city_temp['Bhopal']=38"
   ]
  },
  {
   "cell_type": "code",
   "execution_count": 10,
   "id": "b782443d-6a10-4a9e-9533-1bc3f090d961",
   "metadata": {},
   "outputs": [
    {
     "data": {
      "text/plain": [
       "{'Mumbai': 32, 'Hyderabad': 40, 'Vishkhapanam': 31, 'Delhi': 42, 'Bhopal': 38}"
      ]
     },
     "execution_count": 10,
     "metadata": {},
     "output_type": "execute_result"
    }
   ],
   "source": [
    "city_temp"
   ]
  },
  {
   "cell_type": "code",
   "execution_count": 11,
   "id": "a87ccc4d-803f-4570-88f2-99c93f79b8a2",
   "metadata": {},
   "outputs": [],
   "source": [
    "del city_temp"
   ]
  },
  {
   "cell_type": "code",
   "execution_count": 13,
   "id": "2324f0d6-ca19-4231-afcb-44d93432caea",
   "metadata": {},
   "outputs": [
    {
     "data": {
      "text/plain": [
       "dict_keys(['Mumbai', 'Hyderabad', 'Vishkhapanam', 'Delhi'])"
      ]
     },
     "execution_count": 13,
     "metadata": {},
     "output_type": "execute_result"
    }
   ],
   "source": [
    "city_temp.keys()"
   ]
  },
  {
   "cell_type": "code",
   "execution_count": 14,
   "id": "6ea2522c-dd8a-4673-8d40-e8f1356b285a",
   "metadata": {},
   "outputs": [
    {
     "data": {
      "text/plain": [
       "dict_values([32, 38, 31, 42])"
      ]
     },
     "execution_count": 14,
     "metadata": {},
     "output_type": "execute_result"
    }
   ],
   "source": [
    "city_temp.values()"
   ]
  },
  {
   "cell_type": "code",
   "execution_count": 15,
   "id": "20b8f854-6fa7-4209-9c83-ea1a705ad0e8",
   "metadata": {},
   "outputs": [
    {
     "data": {
      "text/plain": [
       "dict_items([('Mumbai', 32), ('Hyderabad', 38), ('Vishkhapanam', 31), ('Delhi', 42)])"
      ]
     },
     "execution_count": 15,
     "metadata": {},
     "output_type": "execute_result"
    }
   ],
   "source": [
    "city_temp.items()"
   ]
  },
  {
   "cell_type": "code",
   "execution_count": 19,
   "id": "53f1de77-9d27-4874-bb05-79f2da1bf6ca",
   "metadata": {},
   "outputs": [
    {
     "data": {
      "text/plain": [
       "38"
      ]
     },
     "execution_count": 19,
     "metadata": {},
     "output_type": "execute_result"
    }
   ],
   "source": [
    "city_temp.get('Bhopal')"
   ]
  },
  {
   "cell_type": "code",
   "execution_count": 20,
   "id": "c77d5a45-09f4-49e0-94fa-bb0ec69ae109",
   "metadata": {},
   "outputs": [
    {
     "data": {
      "text/plain": [
       "38"
      ]
     },
     "execution_count": 20,
     "metadata": {},
     "output_type": "execute_result"
    }
   ],
   "source": [
    "city_temp['Bhopal']"
   ]
  },
  {
   "cell_type": "code",
   "execution_count": 21,
   "id": "12b9ccd6-7c36-4391-9253-d6e17a7b5a6b",
   "metadata": {},
   "outputs": [
    {
     "data": {
      "text/plain": [
       "\"{'Mumbai': 32, 'Hyderabad': 38, 'Vishkhapanam': 31, 'Delhi': 42, 'Bhopal': 38}\""
      ]
     },
     "execution_count": 21,
     "metadata": {},
     "output_type": "execute_result"
    }
   ],
   "source": [
    "str(city_temp)"
   ]
  },
  {
   "cell_type": "code",
   "execution_count": 22,
   "id": "2a2735ba-65a5-4a78-ae6f-dae7d433f73b",
   "metadata": {},
   "outputs": [
    {
     "data": {
      "text/plain": [
       "42"
      ]
     },
     "execution_count": 22,
     "metadata": {},
     "output_type": "execute_result"
    }
   ],
   "source": [
    "city_temp.pop('Delhi')"
   ]
  },
  {
   "cell_type": "code",
   "execution_count": 24,
   "id": "55b200bf-cb7b-43d1-bb5c-8f2f8ef6fc82",
   "metadata": {},
   "outputs": [
    {
     "data": {
      "text/plain": [
       "('Bhopal', 38)"
      ]
     },
     "execution_count": 24,
     "metadata": {},
     "output_type": "execute_result"
    }
   ],
   "source": [
    "city_temp.popitem()"
   ]
  },
  {
   "cell_type": "code",
   "execution_count": 25,
   "id": "6e5fec1b-de22-4077-a836-e4c99dec213d",
   "metadata": {},
   "outputs": [
    {
     "data": {
      "text/plain": [
       "{'Mumbai': 32, 'Hyderabad': 38, 'Vishkhapanam': 31}"
      ]
     },
     "execution_count": 25,
     "metadata": {},
     "output_type": "execute_result"
    }
   ],
   "source": [
    "city_temp"
   ]
  },
  {
   "cell_type": "code",
   "execution_count": 27,
   "id": "d0083a87-6a45-4ec7-aed0-991189203696",
   "metadata": {},
   "outputs": [],
   "source": [
    "city_temp.update({'Banglore':30})"
   ]
  },
  {
   "cell_type": "code",
   "execution_count": 28,
   "id": "01832f88-e6e5-4416-b63d-fafe4c61c078",
   "metadata": {},
   "outputs": [
    {
     "data": {
      "text/plain": [
       "{'Mumbai': 32, 'Hyderabad': 38, 'Vishkhapanam': 31, 'Banglore': 30}"
      ]
     },
     "execution_count": 28,
     "metadata": {},
     "output_type": "execute_result"
    }
   ],
   "source": [
    "city_temp"
   ]
  },
  {
   "cell_type": "code",
   "execution_count": 29,
   "id": "670e96d4-0b78-49c7-98f7-712e75545456",
   "metadata": {},
   "outputs": [],
   "source": [
    "city_temp.clear()"
   ]
  },
  {
   "cell_type": "code",
   "execution_count": 31,
   "id": "07759208-c500-4658-815c-bf9e3b7abc5d",
   "metadata": {},
   "outputs": [
    {
     "name": "stdout",
     "output_type": "stream",
     "text": [
      "Mumbai\n",
      "-----\n",
      "Hyderabad\n",
      "-----\n",
      "Vishkhapanam\n",
      "-----\n",
      "Delhi\n",
      "-----\n"
     ]
    }
   ],
   "source": [
    "for i in city_temp:\n",
    "    print(i)\n",
    "    print('-'*5)"
   ]
  },
  {
   "cell_type": "code",
   "execution_count": 32,
   "id": "2f0ca390-f68b-4d60-833e-b69155addfc6",
   "metadata": {},
   "outputs": [
    {
     "name": "stdout",
     "output_type": "stream",
     "text": [
      "32\n",
      "-----\n",
      "38\n",
      "-----\n",
      "31\n",
      "-----\n",
      "42\n",
      "-----\n"
     ]
    }
   ],
   "source": [
    "for i in city_temp:\n",
    "    print(city_temp[i])\n",
    "    print('-'*5)"
   ]
  },
  {
   "cell_type": "code",
   "execution_count": 33,
   "id": "f92767b8-0e2f-4727-8b37-170b280b6371",
   "metadata": {},
   "outputs": [
    {
     "name": "stdout",
     "output_type": "stream",
     "text": [
      "Mumbai : 32\n",
      "-----\n",
      "Hyderabad : 38\n",
      "-----\n",
      "Vishkhapanam : 31\n",
      "-----\n",
      "Delhi : 42\n",
      "-----\n"
     ]
    }
   ],
   "source": [
    "for i in city_temp:\n",
    "    print(i,':',city_temp[i])\n",
    "    print('-'*5)"
   ]
  },
  {
   "cell_type": "code",
   "execution_count": 34,
   "id": "a7fdaf43-4220-4612-9a48-bc226f07a198",
   "metadata": {},
   "outputs": [
    {
     "name": "stdout",
     "output_type": "stream",
     "text": [
      "Mumbai\n",
      "-----\n",
      "Hyderabad\n",
      "-----\n",
      "Vishkhapanam\n",
      "-----\n",
      "Delhi\n",
      "-----\n"
     ]
    }
   ],
   "source": [
    "for i in city_temp.keys():\n",
    "    print(i)\n",
    "    print('-'*5)"
   ]
  },
  {
   "cell_type": "code",
   "execution_count": 35,
   "id": "276f28f0-5a6f-4b5c-83f9-2ffcf2455c71",
   "metadata": {},
   "outputs": [
    {
     "name": "stdout",
     "output_type": "stream",
     "text": [
      "32\n",
      "-----\n",
      "38\n",
      "-----\n",
      "31\n",
      "-----\n",
      "42\n",
      "-----\n"
     ]
    }
   ],
   "source": [
    "for i in city_temp.values():\n",
    "    print(i)\n",
    "    print('-'*5)"
   ]
  },
  {
   "cell_type": "code",
   "execution_count": 37,
   "id": "72604df3-4050-4e60-8e23-b4bbf8e46804",
   "metadata": {},
   "outputs": [
    {
     "name": "stdout",
     "output_type": "stream",
     "text": [
      "('Mumbai', 32)\n",
      "-----\n",
      "('Hyderabad', 38)\n",
      "-----\n",
      "('Vishkhapanam', 31)\n",
      "-----\n",
      "('Delhi', 42)\n",
      "-----\n"
     ]
    }
   ],
   "source": [
    "for i in city_temp.items():\n",
    "    print(i)\n",
    "    print('-'*5)"
   ]
  },
  {
   "cell_type": "code",
   "execution_count": null,
   "id": "7e0136f4-60ed-460a-820c-9435aa3aec75",
   "metadata": {},
   "outputs": [],
   "source": []
  },
  {
   "cell_type": "code",
   "execution_count": null,
   "id": "bce9ece6-9512-4cc7-bfb1-9db007a81243",
   "metadata": {},
   "outputs": [],
   "source": []
  }
 ],
 "metadata": {
  "kernelspec": {
   "display_name": "Python 3 (ipykernel)",
   "language": "python",
   "name": "python3"
  },
  "language_info": {
   "codemirror_mode": {
    "name": "ipython",
    "version": 3
   },
   "file_extension": ".py",
   "mimetype": "text/x-python",
   "name": "python",
   "nbconvert_exporter": "python",
   "pygments_lexer": "ipython3",
   "version": "3.12.7"
  }
 },
 "nbformat": 4,
 "nbformat_minor": 5
}
