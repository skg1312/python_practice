{
 "cells": [
  {
   "cell_type": "code",
   "execution_count": 1,
   "id": "21b4ba33-08d4-492d-98ad-3d64cf421f01",
   "metadata": {},
   "outputs": [],
   "source": [
    "cities=[\"bangalore\",\"mumbai\",\"delhi\",\"kolkata\"]"
   ]
  },
  {
   "cell_type": "code",
   "execution_count": 3,
   "id": "eb04e3a3-7340-4b81-8c61-fd35c5db6bb5",
   "metadata": {},
   "outputs": [
    {
     "name": "stdout",
     "output_type": "stream",
     "text": [
      "['bangalore', 'mumbai', 'delhi', 'kolkata']\n"
     ]
    }
   ],
   "source": [
    "print(cities)"
   ]
  },
  {
   "cell_type": "code",
   "execution_count": 4,
   "id": "31d36bfc-2227-404c-a9b9-258a3ea7f34e",
   "metadata": {},
   "outputs": [
    {
     "data": {
      "text/plain": [
       "list"
      ]
     },
     "execution_count": 4,
     "metadata": {},
     "output_type": "execute_result"
    }
   ],
   "source": [
    "type(cities)"
   ]
  },
  {
   "cell_type": "code",
   "execution_count": 5,
   "id": "49932f04-5caf-4b3d-952a-518a3ef306a7",
   "metadata": {},
   "outputs": [
    {
     "data": {
      "text/plain": [
       "list"
      ]
     },
     "execution_count": 5,
     "metadata": {},
     "output_type": "execute_result"
    }
   ],
   "source": [
    "even_nos = [2,40,16,8,10,62,74,98,32]\n",
    "type(even_nos)"
   ]
  },
  {
   "cell_type": "code",
   "execution_count": 6,
   "id": "591a4ba0-86fa-4f53-af01-fac7e0da41eb",
   "metadata": {},
   "outputs": [],
   "source": [
    "multi = [\"hi\",78,True,3.14,\"sorry\"]"
   ]
  },
  {
   "cell_type": "code",
   "execution_count": 7,
   "id": "5a1334ec-3c13-4754-a426-65a81485d381",
   "metadata": {},
   "outputs": [
    {
     "data": {
      "text/plain": [
       "list"
      ]
     },
     "execution_count": 7,
     "metadata": {},
     "output_type": "execute_result"
    }
   ],
   "source": [
    "type(multi)"
   ]
  },
  {
   "cell_type": "code",
   "execution_count": 8,
   "id": "86a6f656-150d-4665-ad3f-27e61d9604cc",
   "metadata": {},
   "outputs": [
    {
     "data": {
      "text/plain": [
       "4"
      ]
     },
     "execution_count": 8,
     "metadata": {},
     "output_type": "execute_result"
    }
   ],
   "source": [
    "len(cities)"
   ]
  },
  {
   "cell_type": "code",
   "execution_count": 9,
   "id": "c1c1bf88-ccaf-411e-af9d-7bc8d2c99377",
   "metadata": {},
   "outputs": [
    {
     "data": {
      "text/plain": [
       "9"
      ]
     },
     "execution_count": 9,
     "metadata": {},
     "output_type": "execute_result"
    }
   ],
   "source": [
    "len(even_nos)"
   ]
  },
  {
   "cell_type": "code",
   "execution_count": 10,
   "id": "302be5e1-7f2d-42cc-9451-4239af4c0614",
   "metadata": {},
   "outputs": [],
   "source": [
    "el=list()"
   ]
  },
  {
   "cell_type": "code",
   "execution_count": 11,
   "id": "620f5474-00ba-4872-990c-dc106f1a0bfa",
   "metadata": {},
   "outputs": [
    {
     "data": {
      "text/plain": [
       "0"
      ]
     },
     "execution_count": 11,
     "metadata": {},
     "output_type": "execute_result"
    }
   ],
   "source": [
    "len(el)"
   ]
  },
  {
   "cell_type": "code",
   "execution_count": 12,
   "id": "1a599009-b907-42fa-ab7f-d6f8786012dc",
   "metadata": {},
   "outputs": [
    {
     "data": {
      "text/plain": [
       "list"
      ]
     },
     "execution_count": 12,
     "metadata": {},
     "output_type": "execute_result"
    }
   ],
   "source": [
    "type(el)"
   ]
  },
  {
   "cell_type": "code",
   "execution_count": 13,
   "id": "93da4afc-4a38-4bb8-bdd4-35021960a933",
   "metadata": {},
   "outputs": [],
   "source": [
    "el2=[]"
   ]
  },
  {
   "cell_type": "code",
   "execution_count": 14,
   "id": "e6a1d6ff-addb-485a-b306-5030c1aa25da",
   "metadata": {},
   "outputs": [
    {
     "data": {
      "text/plain": [
       "['bangalore', 'mumbai', 'delhi', 'kolkata']"
      ]
     },
     "execution_count": 14,
     "metadata": {},
     "output_type": "execute_result"
    }
   ],
   "source": [
    "cities"
   ]
  },
  {
   "cell_type": "code",
   "execution_count": 15,
   "id": "4c1a20f9-06bf-47c0-8df5-bfecdfb69ac8",
   "metadata": {},
   "outputs": [
    {
     "data": {
      "text/plain": [
       "'bangalore'"
      ]
     },
     "execution_count": 15,
     "metadata": {},
     "output_type": "execute_result"
    }
   ],
   "source": [
    "cities[0]"
   ]
  },
  {
   "cell_type": "code",
   "execution_count": 16,
   "id": "e921a2ab-de03-4949-99f8-795fca6e12fb",
   "metadata": {},
   "outputs": [
    {
     "data": {
      "text/plain": [
       "'kolkata'"
      ]
     },
     "execution_count": 16,
     "metadata": {},
     "output_type": "execute_result"
    }
   ],
   "source": [
    "cities[-1]"
   ]
  },
  {
   "cell_type": "code",
   "execution_count": 17,
   "id": "1beeb46e-7279-4f09-8973-c2ea7ba80366",
   "metadata": {},
   "outputs": [
    {
     "data": {
      "text/plain": [
       "[2, 40, 16, 8, 10, 62, 74, 98, 32]"
      ]
     },
     "execution_count": 17,
     "metadata": {},
     "output_type": "execute_result"
    }
   ],
   "source": [
    "even_nos"
   ]
  },
  {
   "cell_type": "code",
   "execution_count": 18,
   "id": "4dfaa193-eae2-4fab-9de1-fd8147ed8cde",
   "metadata": {},
   "outputs": [
    {
     "data": {
      "text/plain": [
       "9"
      ]
     },
     "execution_count": 18,
     "metadata": {},
     "output_type": "execute_result"
    }
   ],
   "source": [
    "len(even_nos)"
   ]
  },
  {
   "cell_type": "code",
   "execution_count": 19,
   "id": "39b78804-697d-44af-9282-2a0b7d7d97e8",
   "metadata": {},
   "outputs": [
    {
     "data": {
      "text/plain": [
       "[16, 8, 10, 62, 74, 98]"
      ]
     },
     "execution_count": 19,
     "metadata": {},
     "output_type": "execute_result"
    }
   ],
   "source": [
    "even_nos[2:8]"
   ]
  },
  {
   "cell_type": "code",
   "execution_count": 20,
   "id": "15b139c3-4f9b-43e9-8505-655f57558cec",
   "metadata": {},
   "outputs": [
    {
     "data": {
      "text/plain": [
       "[2, 40, 16, 8, 10, 62]"
      ]
     },
     "execution_count": 20,
     "metadata": {},
     "output_type": "execute_result"
    }
   ],
   "source": [
    "even_nos[:6]"
   ]
  },
  {
   "cell_type": "code",
   "execution_count": 21,
   "id": "6b507449-cd09-46cd-ae53-2a198c9b0fc0",
   "metadata": {},
   "outputs": [
    {
     "data": {
      "text/plain": [
       "[8, 10, 62, 74, 98, 32]"
      ]
     },
     "execution_count": 21,
     "metadata": {},
     "output_type": "execute_result"
    }
   ],
   "source": [
    "even_nos[3:]"
   ]
  },
  {
   "cell_type": "code",
   "execution_count": 22,
   "id": "90fa6f7b-7bf5-47ce-b88a-aba4ec7d77f5",
   "metadata": {},
   "outputs": [
    {
     "data": {
      "text/plain": [
       "['mumbai', 'delhi']"
      ]
     },
     "execution_count": 22,
     "metadata": {},
     "output_type": "execute_result"
    }
   ],
   "source": [
    "cities[1:3]"
   ]
  },
  {
   "cell_type": "code",
   "execution_count": 23,
   "id": "f5f5bb46-dee6-41f6-9987-b3f558201bf7",
   "metadata": {},
   "outputs": [],
   "source": [
    "cities2=[\"mysore\",\"nagpur\",\"bhopal\"]"
   ]
  },
  {
   "cell_type": "code",
   "execution_count": 24,
   "id": "d6b2f606-bbde-4dee-a0a7-58c90620b30f",
   "metadata": {},
   "outputs": [],
   "source": [
    "cities.extend(cities2)"
   ]
  },
  {
   "cell_type": "code",
   "execution_count": 25,
   "id": "dc306999-feef-41eb-a8b6-de5e9f171b3b",
   "metadata": {},
   "outputs": [
    {
     "data": {
      "text/plain": [
       "['bangalore', 'mumbai', 'delhi', 'kolkata', 'mysore', 'nagpur', 'bhopal']"
      ]
     },
     "execution_count": 25,
     "metadata": {},
     "output_type": "execute_result"
    }
   ],
   "source": [
    "cities"
   ]
  },
  {
   "cell_type": "code",
   "execution_count": 26,
   "id": "878ada2c-f1d8-4d64-b424-4a92b24e019a",
   "metadata": {},
   "outputs": [],
   "source": [
    "cities.insert(1,'mumbai')"
   ]
  },
  {
   "cell_type": "code",
   "execution_count": 27,
   "id": "4f663dff-5cc5-480d-9e92-46ebdfabe7c1",
   "metadata": {},
   "outputs": [],
   "source": [
    "cities.insert(-1,'surat')"
   ]
  },
  {
   "cell_type": "code",
   "execution_count": 28,
   "id": "79e2de27-4cd3-4d70-8cc1-43ea67888e74",
   "metadata": {},
   "outputs": [
    {
     "data": {
      "text/plain": [
       "['bangalore',\n",
       " 'mumbai',\n",
       " 'mumbai',\n",
       " 'delhi',\n",
       " 'kolkata',\n",
       " 'mysore',\n",
       " 'nagpur',\n",
       " 'surat',\n",
       " 'bhopal']"
      ]
     },
     "execution_count": 28,
     "metadata": {},
     "output_type": "execute_result"
    }
   ],
   "source": [
    "cities"
   ]
  },
  {
   "cell_type": "code",
   "execution_count": 29,
   "id": "45589ba8-06cc-4b6a-a537-2b9af6bd2e1b",
   "metadata": {},
   "outputs": [],
   "source": [
    "cities.remove('mysore')"
   ]
  },
  {
   "cell_type": "code",
   "execution_count": 30,
   "id": "f12a45fa-8b19-4f84-8cc7-5114d925fbe4",
   "metadata": {},
   "outputs": [
    {
     "data": {
      "text/plain": [
       "['bangalore',\n",
       " 'mumbai',\n",
       " 'mumbai',\n",
       " 'delhi',\n",
       " 'kolkata',\n",
       " 'nagpur',\n",
       " 'surat',\n",
       " 'bhopal']"
      ]
     },
     "execution_count": 30,
     "metadata": {},
     "output_type": "execute_result"
    }
   ],
   "source": [
    "cities"
   ]
  },
  {
   "cell_type": "code",
   "execution_count": 31,
   "id": "0834288d-2546-4de9-b2f4-9222383ccf09",
   "metadata": {},
   "outputs": [
    {
     "data": {
      "text/plain": [
       "'bhopal'"
      ]
     },
     "execution_count": 31,
     "metadata": {},
     "output_type": "execute_result"
    }
   ],
   "source": [
    "cities.pop()"
   ]
  },
  {
   "cell_type": "code",
   "execution_count": 32,
   "id": "f51bbf0d-aa74-4511-9b0d-03e8fa0a3c00",
   "metadata": {},
   "outputs": [
    {
     "data": {
      "text/plain": [
       "'delhi'"
      ]
     },
     "execution_count": 32,
     "metadata": {},
     "output_type": "execute_result"
    }
   ],
   "source": [
    "cities.pop(3)"
   ]
  },
  {
   "cell_type": "code",
   "execution_count": 33,
   "id": "0d2775e9-63ee-4932-b8bd-fbf494cf35b4",
   "metadata": {},
   "outputs": [],
   "source": [
    "c=cities.pop()"
   ]
  },
  {
   "cell_type": "code",
   "execution_count": 34,
   "id": "2d0e862d-29fe-4b1a-9a39-05c64f792205",
   "metadata": {},
   "outputs": [
    {
     "data": {
      "text/plain": [
       "'surat'"
      ]
     },
     "execution_count": 34,
     "metadata": {},
     "output_type": "execute_result"
    }
   ],
   "source": [
    "c"
   ]
  },
  {
   "cell_type": "code",
   "execution_count": 36,
   "id": "4ecc74f7-7bcc-49e5-8632-8d3a2e0816c3",
   "metadata": {},
   "outputs": [
    {
     "data": {
      "text/plain": [
       "1"
      ]
     },
     "execution_count": 36,
     "metadata": {},
     "output_type": "execute_result"
    }
   ],
   "source": [
    "cities.index('mumbai')"
   ]
  },
  {
   "cell_type": "code",
   "execution_count": 37,
   "id": "ff27c939-4e44-4423-899c-f227cc556ee6",
   "metadata": {},
   "outputs": [],
   "source": [
    "cities.append('mumbai')"
   ]
  },
  {
   "cell_type": "code",
   "execution_count": 38,
   "id": "37cb7a2f-cb40-4f32-9d4c-cc7f74b1c925",
   "metadata": {},
   "outputs": [
    {
     "data": {
      "text/plain": [
       "3"
      ]
     },
     "execution_count": 38,
     "metadata": {},
     "output_type": "execute_result"
    }
   ],
   "source": [
    "cities.count('mumbai')"
   ]
  },
  {
   "cell_type": "code",
   "execution_count": 44,
   "id": "21427886-8bee-4833-b590-adcd51a7b209",
   "metadata": {},
   "outputs": [
    {
     "data": {
      "text/plain": [
       "['bangalore', 'kolkata', 'mumbai', 'mumbai', 'mumbai', 'nagpur']"
      ]
     },
     "execution_count": 44,
     "metadata": {},
     "output_type": "execute_result"
    }
   ],
   "source": [
    "cities.sort()\n",
    "cities"
   ]
  },
  {
   "cell_type": "code",
   "execution_count": 47,
   "id": "7e9819ca-863a-44e9-80fa-e4fc7b425f26",
   "metadata": {},
   "outputs": [
    {
     "data": {
      "text/plain": [
       "['nagpur', 'mumbai', 'mumbai', 'mumbai', 'kolkata', 'bangalore']"
      ]
     },
     "execution_count": 47,
     "metadata": {},
     "output_type": "execute_result"
    }
   ],
   "source": [
    "cities.sort(reverse=True)\n",
    "cities"
   ]
  },
  {
   "cell_type": "code",
   "execution_count": 49,
   "id": "c05165e4-781c-4395-a1d9-66cc9f3c08f5",
   "metadata": {},
   "outputs": [
    {
     "data": {
      "text/plain": [
       "['nagpur', 'mumbai', 'mumbai', 'mumbai', 'kolkata', 'bangalore']"
      ]
     },
     "execution_count": 49,
     "metadata": {},
     "output_type": "execute_result"
    }
   ],
   "source": [
    "cities.reverse()\n",
    "cities"
   ]
  },
  {
   "cell_type": "code",
   "execution_count": 50,
   "id": "f6b91fc6-8ba3-4151-9684-3c9a3daf2364",
   "metadata": {},
   "outputs": [],
   "source": [
    "cities.clear()"
   ]
  },
  {
   "cell_type": "code",
   "execution_count": 51,
   "id": "ebbad86b-c9c4-4e31-b44c-04b147fb44bc",
   "metadata": {},
   "outputs": [
    {
     "data": {
      "text/plain": [
       "[]"
      ]
     },
     "execution_count": 51,
     "metadata": {},
     "output_type": "execute_result"
    }
   ],
   "source": [
    "cities"
   ]
  },
  {
   "cell_type": "code",
   "execution_count": 52,
   "id": "0d121197-d224-429d-a1c4-f09f5eca7b7c",
   "metadata": {},
   "outputs": [],
   "source": [
    "del even_nos"
   ]
  },
  {
   "cell_type": "code",
   "execution_count": 53,
   "id": "e5c05f1f-ef71-4e6f-af14-bfb0eed7e4d1",
   "metadata": {},
   "outputs": [
    {
     "data": {
      "text/plain": [
       "['hi', 78, True, 3.14, 'sorry']"
      ]
     },
     "execution_count": 53,
     "metadata": {},
     "output_type": "execute_result"
    }
   ],
   "source": [
    "multi"
   ]
  },
  {
   "cell_type": "code",
   "execution_count": 54,
   "id": "5007ace2-b8e6-4157-a1a4-71f900f56719",
   "metadata": {},
   "outputs": [
    {
     "data": {
      "text/plain": [
       "True"
      ]
     },
     "execution_count": 54,
     "metadata": {},
     "output_type": "execute_result"
    }
   ],
   "source": [
    "78 in multi"
   ]
  },
  {
   "cell_type": "code",
   "execution_count": 55,
   "id": "207a60e1-290c-4dae-8f43-9074cf6bd5a8",
   "metadata": {},
   "outputs": [
    {
     "data": {
      "text/plain": [
       "True"
      ]
     },
     "execution_count": 55,
     "metadata": {},
     "output_type": "execute_result"
    }
   ],
   "source": [
    "40 not in multi"
   ]
  },
  {
   "cell_type": "code",
   "execution_count": 56,
   "id": "3ba9a18d-3ddb-4030-9517-9cece560e028",
   "metadata": {},
   "outputs": [
    {
     "data": {
      "text/plain": [
       "False"
      ]
     },
     "execution_count": 56,
     "metadata": {},
     "output_type": "execute_result"
    }
   ],
   "source": [
    "'hi' not in multi"
   ]
  },
  {
   "cell_type": "code",
   "execution_count": 57,
   "id": "f18de196-f908-4690-aa05-ab312a0fb371",
   "metadata": {},
   "outputs": [
    {
     "data": {
      "text/plain": [
       "True"
      ]
     },
     "execution_count": 57,
     "metadata": {},
     "output_type": "execute_result"
    }
   ],
   "source": [
    "True in multi"
   ]
  },
  {
   "cell_type": "code",
   "execution_count": 58,
   "id": "63bdeff0-e277-429f-a667-b50ba67c7204",
   "metadata": {},
   "outputs": [],
   "source": [
    "p = [1,2,3]\n",
    "q=[4,5,6]"
   ]
  },
  {
   "cell_type": "code",
   "execution_count": 59,
   "id": "d97b4196-a92e-46d9-9f59-e38c72df8e17",
   "metadata": {},
   "outputs": [
    {
     "data": {
      "text/plain": [
       "[1, 2, 3, 4, 5, 6]"
      ]
     },
     "execution_count": 59,
     "metadata": {},
     "output_type": "execute_result"
    }
   ],
   "source": [
    "p+q"
   ]
  },
  {
   "cell_type": "code",
   "execution_count": 60,
   "id": "eefce397-f892-40ff-b040-668c4aa8053a",
   "metadata": {},
   "outputs": [
    {
     "data": {
      "text/plain": [
       "[1, 2, 3, 1, 2, 3, 1, 2, 3]"
      ]
     },
     "execution_count": 60,
     "metadata": {},
     "output_type": "execute_result"
    }
   ],
   "source": [
    "p*3"
   ]
  },
  {
   "cell_type": "code",
   "execution_count": 61,
   "id": "db733dd9-759a-4a91-ad56-b3f117c59270",
   "metadata": {},
   "outputs": [],
   "source": [
    "nest1 = [\"Monday\",\"Today\",[1,2,3]]"
   ]
  },
  {
   "cell_type": "code",
   "execution_count": 62,
   "id": "a3e8df59-f229-4721-83ab-17462d241d7b",
   "metadata": {},
   "outputs": [
    {
     "data": {
      "text/plain": [
       "'Monday'"
      ]
     },
     "execution_count": 62,
     "metadata": {},
     "output_type": "execute_result"
    }
   ],
   "source": [
    "nest1[0]"
   ]
  },
  {
   "cell_type": "code",
   "execution_count": 63,
   "id": "877ad22a-c719-4759-9974-2718220954dd",
   "metadata": {},
   "outputs": [
    {
     "data": {
      "text/plain": [
       "1"
      ]
     },
     "execution_count": 63,
     "metadata": {},
     "output_type": "execute_result"
    }
   ],
   "source": [
    "nest1[2][0]"
   ]
  },
  {
   "cell_type": "code",
   "execution_count": 64,
   "id": "63f3efea-0715-440f-976e-a0d1841ae59a",
   "metadata": {},
   "outputs": [
    {
     "data": {
      "text/plain": [
       "[[1, 2, 3], [4, 5, 6], [7, 8, 9]]"
      ]
     },
     "execution_count": 64,
     "metadata": {},
     "output_type": "execute_result"
    }
   ],
   "source": [
    "mx = [[1,2,3],[4,5,6],[7,8,9]]\n",
    "mx"
   ]
  },
  {
   "cell_type": "code",
   "execution_count": 65,
   "id": "cbc34b2a-4427-41f8-a6df-22c9c174bafe",
   "metadata": {},
   "outputs": [
    {
     "data": {
      "text/plain": [
       "3"
      ]
     },
     "execution_count": 65,
     "metadata": {},
     "output_type": "execute_result"
    }
   ],
   "source": [
    "mx[0][2]"
   ]
  },
  {
   "cell_type": "code",
   "execution_count": 66,
   "id": "16e1c32c-af40-4358-9ef6-df128c39e2f3",
   "metadata": {},
   "outputs": [
    {
     "data": {
      "text/plain": [
       "['When',\n",
       " 'the',\n",
       " 'winter',\n",
       " 'comes,',\n",
       " 'the',\n",
       " 'lone',\n",
       " 'wpld',\n",
       " 'dies',\n",
       " 'but',\n",
       " 'the',\n",
       " 'pck',\n",
       " 'survies.']"
      ]
     },
     "execution_count": 66,
     "metadata": {},
     "output_type": "execute_result"
    }
   ],
   "source": [
    "sentence = \"When the winter comes, the lone wpld dies but the pck survies.\"\n",
    "sentence.split()"
   ]
  },
  {
   "cell_type": "code",
   "execution_count": 67,
   "id": "6e9f9ab0-c7ba-4c8e-8375-449390dfc587",
   "metadata": {},
   "outputs": [
    {
     "data": {
      "text/plain": [
       "['When the winter comes', ' the lone wpld dies but the pck survies.']"
      ]
     },
     "execution_count": 67,
     "metadata": {},
     "output_type": "execute_result"
    }
   ],
   "source": [
    "sentence.split(\",\")"
   ]
  },
  {
   "cell_type": "code",
   "execution_count": 68,
   "id": "3cfae3f6-e7f2-4b45-b59a-9db0148d9f9c",
   "metadata": {},
   "outputs": [
    {
     "data": {
      "text/plain": [
       "['When', 'the', 'winter comes, the lone wpld dies but the pck survies.']"
      ]
     },
     "execution_count": 68,
     "metadata": {},
     "output_type": "execute_result"
    }
   ],
   "source": [
    "sentence.split(maxsplit=2)"
   ]
  },
  {
   "cell_type": "code",
   "execution_count": 69,
   "id": "7094c650-5e90-4edb-82a4-5932c5cce59e",
   "metadata": {},
   "outputs": [
    {
     "data": {
      "text/plain": [
       "['When',\n",
       " 'the',\n",
       " 'winter',\n",
       " 'comes,',\n",
       " 'the',\n",
       " 'lone',\n",
       " 'wpld',\n",
       " 'dies',\n",
       " 'but',\n",
       " 'the',\n",
       " 'pck',\n",
       " 'survies.']"
      ]
     },
     "execution_count": 69,
     "metadata": {},
     "output_type": "execute_result"
    }
   ],
   "source": [
    "sentence_list=sentence.split()\n",
    "sentence_list"
   ]
  },
  {
   "cell_type": "code",
   "execution_count": 70,
   "id": "bfa136cf-8d30-4cdc-8537-7447caacaff7",
   "metadata": {},
   "outputs": [
    {
     "data": {
      "text/plain": [
       "'When the winter comes, the lone wpld dies but the pck survies.'"
      ]
     },
     "execution_count": 70,
     "metadata": {},
     "output_type": "execute_result"
    }
   ],
   "source": [
    "\" \".join(sentence_list)"
   ]
  },
  {
   "cell_type": "code",
   "execution_count": 71,
   "id": "44a75e29-214e-44ed-bf00-efe0d55d1843",
   "metadata": {},
   "outputs": [
    {
     "name": "stdout",
     "output_type": "stream",
     "text": [
      "When\n",
      ".-.-.-.-\n",
      "the\n",
      ".-.-.-.-\n",
      "winter\n",
      ".-.-.-.-\n",
      "comes,\n",
      ".-.-.-.-\n",
      "the\n",
      ".-.-.-.-\n",
      "lone\n",
      ".-.-.-.-\n",
      "wpld\n",
      ".-.-.-.-\n",
      "dies\n",
      ".-.-.-.-\n",
      "but\n",
      ".-.-.-.-\n",
      "the\n",
      ".-.-.-.-\n",
      "pck\n",
      ".-.-.-.-\n",
      "survies.\n",
      ".-.-.-.-\n"
     ]
    }
   ],
   "source": [
    "for i in sentence_list:\n",
    "    print(i)\n",
    "    print('.-'*4)"
   ]
  },
  {
   "cell_type": "code",
   "execution_count": 72,
   "id": "b976593b-406d-4cb0-855f-8f24f5de5784",
   "metadata": {},
   "outputs": [],
   "source": [
    "matrix = [[1,2,3],[4,5,6],[7,8,9]]"
   ]
  },
  {
   "cell_type": "code",
   "execution_count": 73,
   "id": "27fdddd8-caeb-4a04-9d51-c818b2b96d63",
   "metadata": {},
   "outputs": [
    {
     "name": "stdout",
     "output_type": "stream",
     "text": [
      "\t 1\n",
      "\\/\\/\\/\\/\\/\\/\\/\\/\\/\\/\n",
      "\t 2\n",
      "\\/\\/\\/\\/\\/\\/\\/\\/\\/\\/\n",
      "\t 3\n",
      "\\/\\/\\/\\/\\/\\/\\/\\/\\/\\/\n",
      "\t 4\n",
      "\\/\\/\\/\\/\\/\\/\\/\\/\\/\\/\n",
      "\t 5\n",
      "\\/\\/\\/\\/\\/\\/\\/\\/\\/\\/\n",
      "\t 6\n",
      "\\/\\/\\/\\/\\/\\/\\/\\/\\/\\/\n",
      "\t 7\n",
      "\\/\\/\\/\\/\\/\\/\\/\\/\\/\\/\n",
      "\t 8\n",
      "\\/\\/\\/\\/\\/\\/\\/\\/\\/\\/\n",
      "\t 9\n",
      "\\/\\/\\/\\/\\/\\/\\/\\/\\/\\/\n"
     ]
    },
    {
     "name": "stderr",
     "output_type": "stream",
     "text": [
      "<>:4: SyntaxWarning: invalid escape sequence '\\/'\n",
      "<>:4: SyntaxWarning: invalid escape sequence '\\/'\n",
      "C:\\Users\\dbda38\\AppData\\Local\\Temp\\ipykernel_4256\\3407470125.py:4: SyntaxWarning: invalid escape sequence '\\/'\n",
      "  print('\\/'*10)\n"
     ]
    }
   ],
   "source": [
    "for i in matrix:\n",
    "    for j in i:\n",
    "        print('\\t',j)\n",
    "        print('\\/'*10)"
   ]
  },
  {
   "cell_type": "code",
   "execution_count": null,
   "id": "90129947-7d3e-45ad-aac7-b461e3f7234c",
   "metadata": {},
   "outputs": [],
   "source": []
  }
 ],
 "metadata": {
  "kernelspec": {
   "display_name": "Python 3 (ipykernel)",
   "language": "python",
   "name": "python3"
  },
  "language_info": {
   "codemirror_mode": {
    "name": "ipython",
    "version": 3
   },
   "file_extension": ".py",
   "mimetype": "text/x-python",
   "name": "python",
   "nbconvert_exporter": "python",
   "pygments_lexer": "ipython3",
   "version": "3.12.7"
  }
 },
 "nbformat": 4,
 "nbformat_minor": 5
}
