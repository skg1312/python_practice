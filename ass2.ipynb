{
 "cells": [
  {
   "cell_type": "markdown",
   "id": "0367cc3c-db49-474a-835d-5c1dd3f427ef",
   "metadata": {},
   "source": [
    "Assignments - 4"
   ]
  },
  {
   "cell_type": "markdown",
   "id": "ac9f4e41-7c66-468f-8997-ebae737a730b",
   "metadata": {},
   "source": [
    "Questions on Flow of Control and Variables"
   ]
  },
  {
   "cell_type": "markdown",
   "id": "ceec10f3-4219-41e5-8972-706654002a36",
   "metadata": {},
   "source": [
    "1. Branching with If, If-Else, and Nested If-Else"
   ]
  },
  {
   "cell_type": "markdown",
   "id": "d5159020-ee89-44a0-aa54-ffa1bbaf9e60",
   "metadata": {},
   "source": [
    "1. Movie Ticket Pricing: Write a program that calculates the cost of a movie ticket\n",
    "based on a person’s age (stored in a variable age). Rules: Children (age < 13) pay $5, adults (13-64) pay $10, and seniors (65+) pay $7. Use if-else statements to\n",
    "determine and print the price.\n"
   ]
  },
  {
   "cell_type": "code",
   "execution_count": 5,
   "id": "a8d67ed1-ada3-4394-b441-46a95a2dc165",
   "metadata": {},
   "outputs": [
    {
     "name": "stdin",
     "output_type": "stream",
     "text": [
      "Enter age: 2\n"
     ]
    },
    {
     "name": "stdout",
     "output_type": "stream",
     "text": [
      "Pay $5\n"
     ]
    }
   ],
   "source": [
    "age = int(input(\"Enter age:\"))\n",
    "if age<13:\n",
    "    print(\"Pay $5\")\n",
    "elif age<64:\n",
    "    print(\"Pay $10\")\n",
    "else:\n",
    "    print(\"Pay $7\")"
   ]
  },
  {
   "cell_type": "markdown",
   "id": "ae5149a2-c42c-4b5e-98c7-3b91e510f8fb",
   "metadata": {},
   "source": [
    "2. Weather Clothing Advisor: Create a program that takes two variables: temperature\n",
    "(in Celsius) and is_raining (True/False). Use nested if-else to suggest clothing:\n",
    "\"Jacket\" if temp < 15, \"Umbrella\" if raining, \"Jacket and Umbrella\" if both, or \"T-shirt\"\n",
    "otherwise.\n"
   ]
  },
  {
   "cell_type": "code",
   "execution_count": 10,
   "id": "2581a5c4-f0de-489a-85eb-1808134e5573",
   "metadata": {},
   "outputs": [
    {
     "name": "stdin",
     "output_type": "stream",
     "text": [
      "Enter the Temperature in Celsius:  20\n",
      "Is it Raining Enter (True/False):  True\n"
     ]
    },
    {
     "name": "stdout",
     "output_type": "stream",
     "text": [
      "Umbrella\n"
     ]
    }
   ],
   "source": [
    "temperature = int(input(\"Enter the Temperature in Celsius: \"))\n",
    "is_raining = input(\"Is it Raining Enter (True/False): \")\n",
    "if temperature<15:\n",
    "    if is_raining=='True':\n",
    "        print(\"Jacket and Umbrella\")\n",
    "    else:\n",
    "        print(\"Jacket\")\n",
    "else:\n",
    "    if is_raining=='True':\n",
    "        print(\"Umbrella\")\n",
    "    else:\n",
    "        print(\"T-shirt\")"
   ]
  },
  {
   "cell_type": "markdown",
   "id": "31ae8acb-e9c0-4cfe-9e46-f75a8f932080",
   "metadata": {},
   "source": [
    "3. Grocery Discount: Write a program that takes a variable total_purchase (in dollars)\n",
    "and checks if a customer qualifies for a discount: 10% off if total > $50, 20% off if\n",
    "total > $100. Use if-elif-else to calculate and print the discounted amount."
   ]
  },
  {
   "cell_type": "code",
   "execution_count": 12,
   "id": "ab18cf4a-5639-4ad0-af7a-6e90807ddcac",
   "metadata": {},
   "outputs": [
    {
     "name": "stdin",
     "output_type": "stream",
     "text": [
      "Enter the total purchase amount in dollars: $ 200\n"
     ]
    },
    {
     "name": "stdout",
     "output_type": "stream",
     "text": [
      "Total purchase amount: $200.00\n",
      "Discount percentage: 20%\n",
      "Discounted amount: $160.00\n"
     ]
    }
   ],
   "source": [
    "total_purchase = float(input(\"Enter the total purchase amount in dollars: $\"))\n",
    "discount = 0\n",
    "if total_purchase > 100:\n",
    "    discount = 0.20\n",
    "elif total_purchase > 50:\n",
    "    discount = 0.10\n",
    "else:\n",
    "    discount = 0.0\n",
    "discounted_amount = total_purchase * (1 - discount)\n",
    "print(f\"Total purchase amount: ${total_purchase:.2f}\")\n",
    "print(f\"Discount percentage: {discount * 100:.0f}%\")\n",
    "print(f\"Discounted amount: ${discounted_amount:.2f}\")"
   ]
  },
  {
   "cell_type": "markdown",
   "id": "5d1e9aa1-7ffe-4203-b53d-9b65280d590c",
   "metadata": {},
   "source": [
    "2. Looping with For and While"
   ]
  },
  {
   "cell_type": "markdown",
   "id": "1f5b9c1e-fdea-4a34-8a8f-987c1e62b2f3",
   "metadata": {},
   "source": [
    "4. Daily Step Counter: Imagine a fitness tracker with a goal of 10,000 steps. Write a\n",
    "program using a for loop to simulate 7 days, taking a variable steps_per_day (e.g., 8000) and printing how many steps are still needed each day to reach the goal.\n"
   ]
  },
  {
   "cell_type": "code",
   "execution_count": 22,
   "id": "7c105294-fa06-4aff-82ad-58238bff6ddd",
   "metadata": {},
   "outputs": [
    {
     "name": "stdin",
     "output_type": "stream",
     "text": [
      "Enter the Steps per day:  9000\n"
     ]
    },
    {
     "name": "stdout",
     "output_type": "stream",
     "text": [
      "143steps are still needed each day to reach the goal.\n"
     ]
    }
   ],
   "source": [
    "goal = 10000\n",
    "totalSteps=0\n",
    "steps_per_day = int(input(\"Enter the Steps per day: \"))\n",
    "for i in range(1,8):\n",
    "    totalSteps = steps_per_day\n",
    "still = (goal - totalSteps)/7\n",
    "print(f\"{still:.0f}steps are still needed each day to reach the goal.\")"
   ]
  },
  {
   "cell_type": "markdown",
   "id": "b8e0938d-a851-4750-b44d-ce49c12d68b0",
   "metadata": {},
   "source": [
    "5. Savings Goal: You’re saving  $50$ per month to buy a  500 gadget. Use a while loop\n",
    "to calculate how many months it takes, storing the total savings in a variable balance\n",
    "and printing it each month until you can afford it"
   ]
  },
  {
   "cell_type": "code",
   "execution_count": 31,
   "id": "e4551cc3-9dc4-423e-8909-4c89a45da490",
   "metadata": {},
   "outputs": [
    {
     "name": "stdout",
     "output_type": "stream",
     "text": [
      "1 as saved upto now : 50\n",
      "2 as saved upto now : 100\n",
      "3 as saved upto now : 150\n",
      "4 as saved upto now : 200\n",
      "5 as saved upto now : 250\n",
      "6 as saved upto now : 300\n",
      "7 as saved upto now : 350\n",
      "8 as saved upto now : 400\n",
      "9 as saved upto now : 450\n",
      "10 as saved upto now : 500\n",
      "It will take 10 months to save enough to buy the gadget.\n"
     ]
    }
   ],
   "source": [
    "target = 500\n",
    "month=0\n",
    "saving = 0\n",
    "while saving<target:\n",
    "    month+=1\n",
    "    saving += 50\n",
    "    print(f'{month} as saved upto now : {saving}')\n",
    "    \n",
    "print(f'It will take {months} months to save enough to buy the gadget.')"
   ]
  },
  {
   "cell_type": "markdown",
   "id": "0b309640-b792-4032-a1a0-d3dc53fedad8",
   "metadata": {},
   "source": [
    "6. Bus Stop Countdown: A bus arrives every 15 minutes. Write a program using a for\n",
    "loop to print the time remaining (in minutes) for the next 5 buses, starting from a\n",
    "variable current_time (e.g., 10 minutes past the hour)."
   ]
  },
  {
   "cell_type": "code",
   "execution_count": 36,
   "id": "032364d4-bea6-4c33-a15f-81bd5fa61d07",
   "metadata": {},
   "outputs": [
    {
     "name": "stdin",
     "output_type": "stream",
     "text": [
      "Enter the Current Time:  10\n"
     ]
    },
    {
     "name": "stdout",
     "output_type": "stream",
     "text": [
      "Time remaining for the next 5 buses:\n",
      "Bus 1: 5 minutes remaining.\n",
      "Bus 2: 20 minutes remaining.\n",
      "Bus 3: 35 minutes remaining.\n",
      "Bus 4: 50 minutes remaining.\n",
      "Bus 5: 65 minutes remaining.\n"
     ]
    }
   ],
   "source": [
    "current_time = int(input(\"Enter the Current Time: \"))\n",
    "bus_interval = 15\n",
    "print(\"Time remaining for the next 5 buses:\")\n",
    "for bus in range(1, 6):\n",
    "    time_remaining = bus_interval * bus - (current_time % bus_interval)\n",
    "    if time_remaining < 0:\n",
    "        time_remaining += bus_interval\n",
    "    print(f\"Bus {bus}: {time_remaining} minutes remaining.\")"
   ]
  },
  {
   "cell_type": "markdown",
   "id": "4d115e8c-ab13-45b6-b038-cd23d369abb8",
   "metadata": {},
   "source": [
    "3. Nested Loops and Variable Scope"
   ]
  },
  {
   "cell_type": "markdown",
   "id": "f07ae729-29bb-4641-8586-c68dd71b2f09",
   "metadata": {},
   "source": [
    "7. Classroom Seating Plan: A classroom has 4 rows and 5 seats per row. Use nested\n",
    "for loops to assign seat numbers (e.g., \"Row 1, Seat 1\") to students, storing row and\n",
    "seat in variables, and print the layout."
   ]
  },
  {
   "cell_type": "code",
   "execution_count": 40,
   "id": "ceb33135-9aa3-470d-ab5a-50bf88223503",
   "metadata": {},
   "outputs": [
    {
     "name": "stdout",
     "output_type": "stream",
     "text": [
      "1\t2\t3\t4\t5\t\n",
      "6\t7\t8\t9\t10\t\n",
      "11\t12\t13\t14\t15\t\n",
      "16\t17\t18\t19\t20\t\n"
     ]
    }
   ],
   "source": [
    "i=1\n",
    "for row in range(4):\n",
    "    for seat in range(5):\n",
    "        print(f'{i}',end='\\t')\n",
    "        i+=1\n",
    "    print(end='\\n')"
   ]
  },
  {
   "cell_type": "markdown",
   "id": "21499398-1cd6-446e-8fdd-538b5073730a",
   "metadata": {},
   "source": [
    "8. Weekly Chore Tracker: Write a program with nested loops to track chores over 3\n",
    "days, with 2 chores per day (e.g., \"Day 1: Clean\", \"Day 1: Cook\"). Store the day and\n",
    "chore in variables and print the schedule"
   ]
  },
  {
   "cell_type": "code",
   "execution_count": 45,
   "id": "2d6ec3d9-9534-404a-bc36-2ffd7e03be44",
   "metadata": {},
   "outputs": [
    {
     "name": "stdout",
     "output_type": "stream",
     "text": [
      "Weekly Chore Tracker:\n",
      "Day 1:\tClean\tCook\t\n",
      "Day 2:\tClean\tCook\t\n",
      "Day 3:\tClean\tCook\t\n"
     ]
    }
   ],
   "source": [
    "days = [\"Day 1\", \"Day 2\", \"Day 3\"]\n",
    "chores = [\"Clean\", \"Cook\"]\n",
    "print(\"Weekly Chore Tracker:\")\n",
    "for day in days:\n",
    "    print(f\"{day}:\",end='\\t')\n",
    "    for chore in chores:\n",
    "        print(f\"{chore}\",end='\\t')\n",
    "    print(end='\\n')"
   ]
  },
  {
   "cell_type": "markdown",
   "id": "8011710b-243c-4366-85b9-047b0a88392a",
   "metadata": {},
   "source": [
    "9. Parking Lot Availability: A parking lot has 2 sections with 3 spots each. Use nested\n",
    "loops to check availability (stored in a variable spots_taken, e.g., 4). Print \"Spot\n",
    "available\" or \"Spot taken\" for each position.\n"
   ]
  },
  {
   "cell_type": "code",
   "execution_count": 47,
   "id": "e8d23dc9-222e-4d06-9951-09a9cab1a4b9",
   "metadata": {},
   "outputs": [
    {
     "name": "stdout",
     "output_type": "stream",
     "text": [
      "Section 1, Spot 1: Spot taken\n",
      "Section 1, Spot 2: Spot taken\n",
      "Section 1, Spot 3: Spot taken\n",
      "Section 2, Spot 1: Spot taken\n",
      "Section 2, Spot 2: Spot available\n",
      "Section 2, Spot 3: Spot available\n"
     ]
    }
   ],
   "source": [
    "sections = 2\n",
    "spots_per_section = 3\n",
    "spots_taken = 4\n",
    "available_counter = 0\n",
    "for section in range(1, sections + 1):\n",
    "    for spot in range(1, spots_per_section + 1):\n",
    "        if available_counter < spots_taken:\n",
    "            print(f\"Section {section}, Spot {spot}: Spot taken\")\n",
    "            available_counter += 1\n",
    "        else:\n",
    "            print(f\"Section {section}, Spot {spot}: Spot available\")"
   ]
  },
  {
   "cell_type": "markdown",
   "id": "80c375b0-f054-4563-8401-cb840ad614d7",
   "metadata": {},
   "source": [
    "4. Control Statements: Break, Continue, and Pass"
   ]
  },
  {
   "cell_type": "markdown",
   "id": "39c693e4-d333-4b72-b1ac-66fe8a367536",
   "metadata": {},
   "source": [
    "10. Traffic Light Simulator: Write a program that loops through 10 seconds of a traffic\n",
    "light cycle. Use a for loop and break when the light turns green (at second 4), printing\n",
    "\"Red\" or \"Yellow\" until then. Store the current second in a variable"
   ]
  },
  {
   "cell_type": "code",
   "execution_count": 48,
   "id": "5b7ef080-7f5f-42c6-a9a8-4ef1290a82a5",
   "metadata": {},
   "outputs": [
    {
     "name": "stdout",
     "output_type": "stream",
     "text": [
      "Red\n",
      "Red\n",
      "Red\n",
      "Green\n"
     ]
    }
   ],
   "source": [
    "for second in range(10):\n",
    "    current_second = second + 1\n",
    "    if current_second < 4:\n",
    "        print(\"Red\")\n",
    "    elif current_second == 4:\n",
    "        print(\"Green\")\n",
    "        break\n",
    "    else:\n",
    "        print(\"Yellow\")"
   ]
  },
  {
   "cell_type": "markdown",
   "id": "d39f8991-a82d-434e-8034-cb63fa156673",
   "metadata": {},
   "source": [
    "11. Supermarket Queue: Simulate a checkout line with a for loop over 8 customers. Use\n",
    "continue to skip customers with more than 10 items (stored in a variable items),\n",
    "printing \"Next customer\" for those served.\n"
   ]
  },
  {
   "cell_type": "code",
   "execution_count": 49,
   "id": "44bfebdb-aa1f-43c9-a7c1-81721a9b5bf2",
   "metadata": {},
   "outputs": [
    {
     "name": "stdin",
     "output_type": "stream",
     "text": [
      "Customer 1, enter number of items:  10\n"
     ]
    },
    {
     "name": "stdout",
     "output_type": "stream",
     "text": [
      "Serving customer 1 with 10 items.\n"
     ]
    },
    {
     "name": "stdin",
     "output_type": "stream",
     "text": [
      "Customer 2, enter number of items:  11\n"
     ]
    },
    {
     "name": "stdout",
     "output_type": "stream",
     "text": [
      "Next customer\n"
     ]
    },
    {
     "name": "stdin",
     "output_type": "stream",
     "text": [
      "Customer 3, enter number of items:  101\n"
     ]
    },
    {
     "name": "stdout",
     "output_type": "stream",
     "text": [
      "Next customer\n"
     ]
    },
    {
     "name": "stdin",
     "output_type": "stream",
     "text": [
      "Customer 4, enter number of items:  10\n"
     ]
    },
    {
     "name": "stdout",
     "output_type": "stream",
     "text": [
      "Serving customer 4 with 10 items.\n"
     ]
    },
    {
     "name": "stdin",
     "output_type": "stream",
     "text": [
      "Customer 5, enter number of items:  1\n"
     ]
    },
    {
     "name": "stdout",
     "output_type": "stream",
     "text": [
      "Serving customer 5 with 1 items.\n"
     ]
    },
    {
     "name": "stdin",
     "output_type": "stream",
     "text": [
      "Customer 6, enter number of items:  1\n"
     ]
    },
    {
     "name": "stdout",
     "output_type": "stream",
     "text": [
      "Serving customer 6 with 1 items.\n"
     ]
    },
    {
     "name": "stdin",
     "output_type": "stream",
     "text": [
      "Customer 7, enter number of items:  1\n"
     ]
    },
    {
     "name": "stdout",
     "output_type": "stream",
     "text": [
      "Serving customer 7 with 1 items.\n"
     ]
    },
    {
     "name": "stdin",
     "output_type": "stream",
     "text": [
      "Customer 8, enter number of items:  2\n"
     ]
    },
    {
     "name": "stdout",
     "output_type": "stream",
     "text": [
      "Serving customer 8 with 2 items.\n"
     ]
    }
   ],
   "source": [
    "for customer in range(1, 9):\n",
    "    items = int(input(f\"Customer {customer}, enter number of items: \"))\n",
    "    if items > 10:\n",
    "        print(\"Next customer\")\n",
    "        continue\n",
    "    print(f\"Serving customer {customer} with {items} items.\")"
   ]
  },
  {
   "cell_type": "markdown",
   "id": "218b6119-c86c-464b-af2f-a9648ab01b02",
   "metadata": {},
   "source": [
    "12. Rainy Day Backup Plan: Loop through 5 days of weather forecasts (variable\n",
    "rain_chance, 0-100%). Use pass for days with < 20% chance (no action needed) and\n",
    "print \"Bring umbrella\" for higher chances."
   ]
  },
  {
   "cell_type": "code",
   "execution_count": 50,
   "id": "4b1be947-d939-464c-a013-ad1f1c2f10b8",
   "metadata": {},
   "outputs": [
    {
     "name": "stdin",
     "output_type": "stream",
     "text": [
      "Enter the raining chances percent :  10\n",
      "Enter the raining chances percent :  90\n"
     ]
    },
    {
     "name": "stdout",
     "output_type": "stream",
     "text": [
      "Bring umbrella\n"
     ]
    },
    {
     "name": "stdin",
     "output_type": "stream",
     "text": [
      "Enter the raining chances percent :  9\n",
      "Enter the raining chances percent :  20\n"
     ]
    },
    {
     "name": "stdout",
     "output_type": "stream",
     "text": [
      "Bring umbrella\n"
     ]
    },
    {
     "name": "stdin",
     "output_type": "stream",
     "text": [
      "Enter the raining chances percent :  30\n"
     ]
    },
    {
     "name": "stdout",
     "output_type": "stream",
     "text": [
      "Bring umbrella\n"
     ]
    }
   ],
   "source": [
    "for i in range(5):\n",
    "    rain_chance = int(input(\"Enter the raining chances percent : \"))\n",
    "    if rain_chance<20:\n",
    "        pass\n",
    "    else:\n",
    "        print(\"Bring umbrella\")"
   ]
  },
  {
   "cell_type": "markdown",
   "id": "b668d819-1fd0-4c12-bcb5-233febb7029e",
   "metadata": {},
   "source": [
    "5. Mixed Real-Life Scenarios"
   ]
  },
  {
   "cell_type": "markdown",
   "id": "a478ec48-ce75-42aa-a98c-d97f5c4dd053",
   "metadata": {},
   "source": [
    "13. Coffee Shop Orders: Write a program that processes coffee orders. Take a variable\n",
    "order_size (\"small\", \"medium\", \"large\") with if-else to set prices ($2, $3, $4), then use\n",
    "a for loop to handle 3 customers, summing the total cost in a variable."
   ]
  },
  {
   "cell_type": "code",
   "execution_count": 51,
   "id": "c6ee7d8e-e1f5-4151-a104-93afa43f7577",
   "metadata": {},
   "outputs": [
    {
     "name": "stdin",
     "output_type": "stream",
     "text": [
      "Customer 1, please enter your order size (small, medium, large):  small\n"
     ]
    },
    {
     "name": "stdout",
     "output_type": "stream",
     "text": [
      "Customer 1 ordered a small coffee for $2.\n"
     ]
    },
    {
     "name": "stdin",
     "output_type": "stream",
     "text": [
      "Customer 2, please enter your order size (small, medium, large):  large\n"
     ]
    },
    {
     "name": "stdout",
     "output_type": "stream",
     "text": [
      "Customer 2 ordered a large coffee for $4.\n"
     ]
    },
    {
     "name": "stdin",
     "output_type": "stream",
     "text": [
      "Customer 3, please enter your order size (small, medium, large):  medium\n"
     ]
    },
    {
     "name": "stdout",
     "output_type": "stream",
     "text": [
      "Customer 3 ordered a medium coffee for $3.\n",
      "\n",
      "Total cost for all customers: $9\n"
     ]
    }
   ],
   "source": [
    "total_cost = 0\n",
    "for customer in range(1, 4):\n",
    "    order_size = input(f\"Customer {customer}, please enter your order size (small, medium, large): \").lower()\n",
    "    if order_size == \"small\":\n",
    "        price = 2\n",
    "    elif order_size == \"medium\":\n",
    "        price = 3\n",
    "    elif order_size == \"large\":\n",
    "        price = 4\n",
    "    else:\n",
    "        print(\"Invalid order size! Please choose 'small', 'medium', or 'large'.\")\n",
    "        continue\n",
    "    total_cost += price\n",
    "    print(f\"Customer {customer} ordered a {order_size} coffee for ${price}.\")\n",
    "print(f\"\\nTotal cost for all customers: ${total_cost}\")"
   ]
  },
  {
   "cell_type": "markdown",
   "id": "9a7ff5cd-338f-4140-b2a1-36d3c15940f6",
   "metadata": {},
   "source": [
    "14. Library Late Fees: A library charges 0.50 per day for late books, up to 10 max.\n",
    "Use a while loop to calculate the fee for a book days_late (e.g., 15), breaking when\n",
    "the fee hits $10. Store the fee in a variable and print it."
   ]
  },
  {
   "cell_type": "code",
   "execution_count": 54,
   "id": "ccd7f1e3-ca35-468c-bad2-8b6c82a9c63e",
   "metadata": {},
   "outputs": [
    {
     "name": "stdin",
     "output_type": "stream",
     "text": [
      "Enter the number of days the book is late:  10\n"
     ]
    },
    {
     "name": "stdout",
     "output_type": "stream",
     "text": [
      "The total late fee is: $5.00\n"
     ]
    }
   ],
   "source": [
    "days_late = int(input(\"Enter the number of days the book is late: \"))  \n",
    "max_fee = 10.00\n",
    "fee_per_day = 0.50\n",
    "total_fee = 0.00    \n",
    "while days_late > 0 and total_fee < max_fee:\n",
    "    total_fee += fee_per_day  \n",
    "    days_late -= 1            \n",
    "    if total_fee >= max_fee:  \n",
    "        total_fee = max_fee\n",
    "        break\n",
    "print(f\"The total late fee is: ${total_fee:.2f}\")"
   ]
  },
  {
   "cell_type": "markdown",
   "id": "31efb4b6-c07d-4e6a-a653-f04750622de1",
   "metadata": {},
   "source": [
    "15. Workout Rep Counter: Simulate a workout with 3 sets of 10 reps. Use nested loops\n",
    "to count reps, but use continue to skip any rep if energy_level (starting at 100) drops\n",
    "below 20 after each set (decrease by 30 per set).\n"
   ]
  },
  {
   "cell_type": "code",
   "execution_count": 58,
   "id": "d55cb2cc-c01d-4b67-91a8-28c58f8ef04b",
   "metadata": {},
   "outputs": [
    {
     "name": "stdout",
     "output_type": "stream",
     "text": [
      "\n",
      "Starting Set 0... (Energy Level: 100)\n",
      "Performing rep 0 of set 0\n",
      "Performing rep 1 of set 0\n",
      "Performing rep 2 of set 0\n",
      "Performing rep 3 of set 0\n",
      "Performing rep 4 of set 0\n",
      "Performing rep 5 of set 0\n",
      "Performing rep 6 of set 0\n",
      "Performing rep 7 of set 0\n",
      "Performing rep 8 of set 0\n",
      "Performing rep 9 of set 0\n",
      "\n",
      "Starting Set 1... (Energy Level: 90)\n",
      "Performing rep 0 of set 1\n",
      "Performing rep 1 of set 1\n",
      "Performing rep 2 of set 1\n",
      "Performing rep 3 of set 1\n",
      "Performing rep 4 of set 1\n",
      "Performing rep 5 of set 1\n",
      "Performing rep 6 of set 1\n",
      "Performing rep 7 of set 1\n",
      "Performing rep 8 of set 1\n",
      "Performing rep 9 of set 1\n",
      "\n",
      "Starting Set 2... (Energy Level: 80)\n",
      "Performing rep 0 of set 2\n",
      "Performing rep 1 of set 2\n",
      "Performing rep 2 of set 2\n",
      "Performing rep 3 of set 2\n",
      "Performing rep 4 of set 2\n",
      "Performing rep 5 of set 2\n",
      "Performing rep 6 of set 2\n",
      "Performing rep 7 of set 2\n",
      "Performing rep 8 of set 2\n",
      "Performing rep 9 of set 2\n",
      "\n",
      "Workout complete!\n",
      "Final Energy Level: 40\n"
     ]
    }
   ],
   "source": [
    "energy_level=100\n",
    "for set_number in range(3):\n",
    "    print(f\"\\nStarting Set {set_number}... (Energy Level: {energy_level})\")\n",
    "\n",
    "    if set_number > 1:\n",
    "        energy_level -= 30\n",
    "    \n",
    "    for rep in range(10):\n",
    "        if energy_level < 20:\n",
    "            print(\"Energy level too low! Skipping the rest of the reps.\")\n",
    "            break \n",
    "        print(f\"Performing rep {rep} of set {set_number}\")\n",
    "        energy_level -= 1\n",
    "        if energy_level < 20:\n",
    "            print(\"Resting due to low energy...\")\n",
    "\n",
    "print(\"\\nWorkout complete!\")\n",
    "print(f\"Final Energy Level: {energy_level}\")"
   ]
  },
  {
   "cell_type": "markdown",
   "id": "951c61df-6dd8-403b-b0bc-d30c99054bc4",
   "metadata": {},
   "source": [
    "6. Advanced Real-Life Application\n"
   ]
  },
  {
   "cell_type": "markdown",
   "id": "d8a42514-a174-43bb-a5a5-301a42e0c14a",
   "metadata": {},
   "source": [
    "16. Electricity Bill Calculator: Write a program that calculates an electricity bill based\n",
    "on units used (variable units). Rates: 0.10/unit for 0-100 units, 0.15/unit for\n",
    "101-200, 0.20/unit above 200. Use if-elif-else and print the total cost."
   ]
  },
  {
   "cell_type": "code",
   "execution_count": 61,
   "id": "0b8fd3e7-b7b4-4fa5-a61f-8a8f55eac833",
   "metadata": {},
   "outputs": [
    {
     "name": "stdin",
     "output_type": "stream",
     "text": [
      "Enter the Electric units used :  123\n"
     ]
    },
    {
     "name": "stdout",
     "output_type": "stream",
     "text": [
      "18.45 is your electric bill\n"
     ]
    }
   ],
   "source": [
    "ele_units = float(input(\"Enter the Electric units used : \"))\n",
    "if ele_units<100:\n",
    "    print(f\"{ele_units*0.10} is your electric bill\")\n",
    "elif ele_units<200:\n",
    "    print(f\"{ele_units*0.15} is your electric bill\")\n",
    "else:\n",
    "    print(f\"{ele_units*0.20} is your electric bill\")"
   ]
  },
  {
   "cell_type": "markdown",
   "id": "5aa56b12-1c12-4458-8e39-a8fd5a53af30",
   "metadata": {},
   "source": [
    "17. Road Trip Fuel Stops: You’re driving 500 miles, and your car gets 25 miles per\n",
    "gallon with a 15-gallon tank. Use a while loop to calculate how many fuel stops are\n",
    "needed, tracking distance_traveled and fuel_left in variables"
   ]
  },
  {
   "cell_type": "code",
   "execution_count": 63,
   "id": "7cbdb63a-c4a3-4920-a3a5-a2bfd757bf5e",
   "metadata": {},
   "outputs": [
    {
     "name": "stdout",
     "output_type": "stream",
     "text": [
      "After stop 1, traveled 375 miles, refueling...\n",
      "After stop 2, traveled 750 miles, refueling...\n",
      "Trip completed! Total fuel stops made: 2\n"
     ]
    }
   ],
   "source": [
    "\n",
    "total_distance = 500 \n",
    "miles_per_gallon = 25 \n",
    "tank_capacity = 15  \n",
    "distance_per_tank = miles_per_gallon * tank_capacity\n",
    "distance_traveled = 0 \n",
    "fuel_left = tank_capacity \n",
    "fuel_stops = 0  \n",
    "while distance_traveled < total_distance:\n",
    "    if fuel_left <= 0:\n",
    "        print(\"Out of fuel! Unable to continue the trip.\")\n",
    "        break\n",
    "    distance_traveled += distance_per_tank\n",
    "    fuel_left = 0  \n",
    "    fuel_stops += 1\n",
    "    print(f\"After stop {fuel_stops}, traveled {distance_traveled} miles, refueling...\")\n",
    "    fuel_left = tank_capacity \n",
    "if distance_traveled >= total_distance:\n",
    "    print(f\"Trip completed! Total fuel stops made: {fuel_stops}\")\n",
    "else:\n",
    "    print(\"Trip not completed due to fuel issues.\")"
   ]
  },
  {
   "cell_type": "markdown",
   "id": "384b68a1-281c-4455-abdb-dbe85cbb850b",
   "metadata": {},
   "source": [
    "18. Event RSVP Tracker: Loop through 10 invitees, asking for RSVP (\"yes\"/\"no\") via\n",
    "input. Use break if 5 say \"yes\" (venue capacity reached), and store the count of \"yes\"\n",
    "responses in a variable.\n"
   ]
  },
  {
   "cell_type": "code",
   "execution_count": 69,
   "id": "92c716ec-53b1-49f6-84a3-8db4bc1d05ef",
   "metadata": {},
   "outputs": [
    {
     "name": "stdin",
     "output_type": "stream",
     "text": [
      "Enter RSVP - 1 (yes/no):  yes\n",
      "Enter RSVP - 2 (yes/no):  no\n",
      "Enter RSVP - 3 (yes/no):  yes\n",
      "Enter RSVP - 4 (yes/no):  no\n",
      "Enter RSVP - 5 (yes/no):  yes\n",
      "Enter RSVP - 6 (yes/no):  no\n",
      "Enter RSVP - 7 (yes/no):  yes\n",
      "Enter RSVP - 8 (yes/no):  Yes\n"
     ]
    },
    {
     "name": "stdout",
     "output_type": "stream",
     "text": [
      "Venue Capacity Reached\n"
     ]
    }
   ],
   "source": [
    "count=0\n",
    "for i in range(1,11):\n",
    "    if count >= 5:\n",
    "        print(\"Venue Capacity Reached\")\n",
    "        break\n",
    "    else:\n",
    "        RSVP = input(f\"Enter RSVP - {i} (yes/no): \").lower()\n",
    "        if RSVP==\"yes\":\n",
    "            count+=1\n",
    "        else:\n",
    "            pass"
   ]
  },
  {
   "cell_type": "markdown",
   "id": "54b51784-3dae-4d29-84f3-03c71a7243e5",
   "metadata": {},
   "source": [
    "7. Creative and Intuitive Challenges"
   ]
  },
  {
   "cell_type": "markdown",
   "id": "84bd9cd9-4470-43a6-84a8-6e31d5a21812",
   "metadata": {},
   "source": [
    "19. Gardening Watering Schedule: A garden has 4 plant types needing water every 2,\n",
    "3, 4, and 5 days. Use a for loop over 15 days, checking with if statements which\n",
    "plants need water each day (store days in variables), and print the schedule.\n"
   ]
  },
  {
   "cell_type": "code",
   "execution_count": 70,
   "id": "9b6084c5-6752-40b4-be2a-da539f3575b8",
   "metadata": {},
   "outputs": [
    {
     "name": "stdout",
     "output_type": "stream",
     "text": [
      "\n",
      "Day 1:\n",
      "No plants need watering today.\n",
      "\n",
      "Day 2:\n",
      "Plants needing water: Plant Type 1\n",
      "\n",
      "Day 3:\n",
      "Plants needing water: Plant Type 2\n",
      "\n",
      "Day 4:\n",
      "Plants needing water: Plant Type 1, Plant Type 3\n",
      "\n",
      "Day 5:\n",
      "Plants needing water: Plant Type 4\n",
      "\n",
      "Day 6:\n",
      "Plants needing water: Plant Type 1, Plant Type 2\n",
      "\n",
      "Day 7:\n",
      "No plants need watering today.\n",
      "\n",
      "Day 8:\n",
      "Plants needing water: Plant Type 1, Plant Type 3\n",
      "\n",
      "Day 9:\n",
      "Plants needing water: Plant Type 2\n",
      "\n",
      "Day 10:\n",
      "Plants needing water: Plant Type 1, Plant Type 4\n",
      "\n",
      "Day 11:\n",
      "No plants need watering today.\n",
      "\n",
      "Day 12:\n",
      "Plants needing water: Plant Type 1, Plant Type 2, Plant Type 3\n",
      "\n",
      "Day 13:\n",
      "No plants need watering today.\n",
      "\n",
      "Day 14:\n",
      "Plants needing water: Plant Type 1\n",
      "\n",
      "Day 15:\n",
      "Plants needing water: Plant Type 2, Plant Type 4\n"
     ]
    }
   ],
   "source": [
    "water_days = {\n",
    "    \"Plant Type 1\": 2, \n",
    "    \"Plant Type 2\": 3,  \n",
    "    \"Plant Type 3\": 4, \n",
    "    \"Plant Type 4\": 5  \n",
    "}\n",
    "total_days = 15\n",
    "for day in range(1, total_days + 1):\n",
    "    print(f\"\\nDay {day}:\")\n",
    "    needs_water = []  \n",
    "    for plant, frequency in water_days.items():\n",
    "        if day % frequency == 0: \n",
    "            needs_water.append(plant)\n",
    "    if needs_water:\n",
    "        print(\"Plants needing water:\", \", \".join(needs_water))\n",
    "    else:\n",
    "        print(\"No plants need watering today.\")"
   ]
  },
  {
   "cell_type": "markdown",
   "id": "915dc272-7a22-4aac-afd4-fa84c93718bf",
   "metadata": {},
   "source": [
    "20. Pizza Delivery Timer: A pizza takes 20 minutes to deliver. Use a while loop to count\n",
    "down from 20, printing \"X minutes left\" each minute. If traffic_delay (True/False) is\n",
    "True, add 5 minutes once with an if statement and continue counting"
   ]
  },
  {
   "cell_type": "code",
   "execution_count": 78,
   "id": "682cb267-298a-430d-b39c-0ae9ee93f949",
   "metadata": {},
   "outputs": [
    {
     "name": "stdin",
     "output_type": "stream",
     "text": [
      "Enter the traffic delay(True/False):  true\n"
     ]
    },
    {
     "name": "stdout",
     "output_type": "stream",
     "text": [
      "25 minutes left\n",
      "24 minutes left\n",
      "23 minutes left\n",
      "22 minutes left\n",
      "21 minutes left\n",
      "20 minutes left\n",
      "19 minutes left\n",
      "18 minutes left\n",
      "17 minutes left\n",
      "16 minutes left\n",
      "15 minutes left\n",
      "14 minutes left\n",
      "13 minutes left\n",
      "12 minutes left\n",
      "11 minutes left\n",
      "10 minutes left\n",
      "9 minutes left\n",
      "8 minutes left\n",
      "7 minutes left\n",
      "6 minutes left\n",
      "5 minutes left\n",
      "4 minutes left\n",
      "3 minutes left\n",
      "2 minutes left\n",
      "1 minutes left\n",
      "Pizza delivered!\n"
     ]
    }
   ],
   "source": [
    "count=20\n",
    "traffic = input(\"Enter the traffic delay(True/False): \").title()    \n",
    "if traffic==\"True\":\n",
    "    count+=5\n",
    "while count>=1:\n",
    "    print(f\"{count} minutes left\")\n",
    "    count-=1\n",
    "print(\"Pizza delivered!\")"
   ]
  },
  {
   "cell_type": "code",
   "execution_count": null,
   "id": "7d98bb1f-b1ad-4420-9769-895a61619632",
   "metadata": {},
   "outputs": [],
   "source": []
  }
 ],
 "metadata": {
  "kernelspec": {
   "display_name": "Python 3 (ipykernel)",
   "language": "python",
   "name": "python3"
  },
  "language_info": {
   "codemirror_mode": {
    "name": "ipython",
    "version": 3
   },
   "file_extension": ".py",
   "mimetype": "text/x-python",
   "name": "python",
   "nbconvert_exporter": "python",
   "pygments_lexer": "ipython3",
   "version": "3.12.7"
  }
 },
 "nbformat": 4,
 "nbformat_minor": 5
}
