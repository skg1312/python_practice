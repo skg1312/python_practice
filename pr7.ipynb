{
 "cells": [
  {
   "cell_type": "code",
   "execution_count": 37,
   "id": "e72d802e-4f64-4baa-9866-573f56c6fd5a",
   "metadata": {},
   "outputs": [],
   "source": [
    "movies=('Tenet','Ice Age','Gravity','Joker','Spiderman','Ávengers:Endgame')"
   ]
  },
  {
   "cell_type": "code",
   "execution_count": 5,
   "id": "9dd91e6d-683f-4e0d-91f5-04fd13c4456a",
   "metadata": {},
   "outputs": [
    {
     "name": "stdout",
     "output_type": "stream",
     "text": [
      "<class 'tuple'>\n"
     ]
    },
    {
     "data": {
      "text/plain": [
       "6"
      ]
     },
     "execution_count": 5,
     "metadata": {},
     "output_type": "execute_result"
    }
   ],
   "source": [
    "movies\n",
    "print(type(movies))\n",
    "len(movies)"
   ]
  },
  {
   "cell_type": "code",
   "execution_count": 6,
   "id": "8fec9d61-c73e-46b4-8d13-d0ddbf170fbb",
   "metadata": {},
   "outputs": [],
   "source": [
    "mix_tup = ('BLR',23.4,'HYD',34,True,343,None)"
   ]
  },
  {
   "cell_type": "code",
   "execution_count": 9,
   "id": "91a7af97-22c5-4393-b6a4-98b9b1c69822",
   "metadata": {},
   "outputs": [
    {
     "name": "stdout",
     "output_type": "stream",
     "text": [
      "Gravity\n",
      "Ávengers:Endgame\n"
     ]
    }
   ],
   "source": [
    "print(movies[2])\n",
    "print(movies[-1])"
   ]
  },
  {
   "cell_type": "code",
   "execution_count": 11,
   "id": "e6bd6e30-9421-46f4-9f34-4297ba130486",
   "metadata": {},
   "outputs": [
    {
     "name": "stdout",
     "output_type": "stream",
     "text": [
      "('Ice Age', 'Gravity', 'Joker')\n",
      "('Tenet', 'Ice Age', 'Gravity')\n",
      "('Spiderman', 'Ávengers:Endgame')\n",
      "('Gravity', 'Joker')\n"
     ]
    }
   ],
   "source": [
    "print(movies[1:4])\n",
    "print(movies[:3])\n",
    "print(movies[4:])\n",
    "print(movies[-4:-2])"
   ]
  },
  {
   "cell_type": "code",
   "execution_count": 12,
   "id": "0cd85337-80e8-4fa1-8f48-e5a8440b1933",
   "metadata": {},
   "outputs": [
    {
     "data": {
      "text/plain": [
       "3"
      ]
     },
     "execution_count": 12,
     "metadata": {},
     "output_type": "execute_result"
    }
   ],
   "source": [
    "movies.index('Joker')"
   ]
  },
  {
   "cell_type": "code",
   "execution_count": 39,
   "id": "c4e603e8-a265-462f-a06c-1289e22f770b",
   "metadata": {},
   "outputs": [
    {
     "data": {
      "text/plain": [
       "3"
      ]
     },
     "execution_count": 39,
     "metadata": {},
     "output_type": "execute_result"
    }
   ],
   "source": [
    "movies.index('Joker',2,5)"
   ]
  },
  {
   "cell_type": "code",
   "execution_count": 25,
   "id": "851e128b-db13-466f-8858-acfee871df9d",
   "metadata": {},
   "outputs": [
    {
     "data": {
      "text/plain": [
       "1"
      ]
     },
     "execution_count": 25,
     "metadata": {},
     "output_type": "execute_result"
    }
   ],
   "source": [
    "movies.count('Joker')"
   ]
  },
  {
   "cell_type": "code",
   "execution_count": 26,
   "id": "af0f46cb-6980-4ad2-a164-f23c9c805ddd",
   "metadata": {},
   "outputs": [],
   "source": [
    "del movies"
   ]
  },
  {
   "cell_type": "code",
   "execution_count": 27,
   "id": "4ec92ced-cfb2-41a3-892f-f5cd8c609c99",
   "metadata": {},
   "outputs": [],
   "source": [
    "a = (12,6,8,3,5,9,1,0,2,8,6,6)"
   ]
  },
  {
   "cell_type": "code",
   "execution_count": 28,
   "id": "8ae0e51e-d305-428a-8f61-fd842709e53c",
   "metadata": {},
   "outputs": [
    {
     "data": {
      "text/plain": [
       "True"
      ]
     },
     "execution_count": 28,
     "metadata": {},
     "output_type": "execute_result"
    }
   ],
   "source": [
    "5 in a"
   ]
  },
  {
   "cell_type": "code",
   "execution_count": 29,
   "id": "06adea60-9fcb-4e67-b66a-8a570b439eae",
   "metadata": {},
   "outputs": [
    {
     "data": {
      "text/plain": [
       "True"
      ]
     },
     "execution_count": 29,
     "metadata": {},
     "output_type": "execute_result"
    }
   ],
   "source": [
    "4 not in a"
   ]
  },
  {
   "cell_type": "code",
   "execution_count": 31,
   "id": "c7002514-c5fe-4f83-bdd0-90e5826ee62f",
   "metadata": {},
   "outputs": [],
   "source": [
    "b=('a','b')"
   ]
  },
  {
   "cell_type": "code",
   "execution_count": 32,
   "id": "246db1bc-e98b-4a78-b8e6-e9e815b34eed",
   "metadata": {},
   "outputs": [
    {
     "data": {
      "text/plain": [
       "(12, 6, 8, 3, 5, 9, 1, 0, 2, 8, 6, 6, 'a', 'b')"
      ]
     },
     "execution_count": 32,
     "metadata": {},
     "output_type": "execute_result"
    }
   ],
   "source": [
    "a+b"
   ]
  },
  {
   "cell_type": "code",
   "execution_count": 33,
   "id": "450f8580-82d0-4682-9165-5a772f8e6829",
   "metadata": {},
   "outputs": [
    {
     "data": {
      "text/plain": [
       "('a', 'b', 'a', 'b', 'a', 'b', 'a', 'b', 'a', 'b')"
      ]
     },
     "execution_count": 33,
     "metadata": {},
     "output_type": "execute_result"
    }
   ],
   "source": [
    "b*5"
   ]
  },
  {
   "cell_type": "code",
   "execution_count": 34,
   "id": "f6291983-e082-41cb-bfc1-789ba186bc6c",
   "metadata": {},
   "outputs": [],
   "source": [
    "nest1=('Moday','Today',[1,2,3])"
   ]
  },
  {
   "cell_type": "code",
   "execution_count": 36,
   "id": "7a39b593-99bc-4e65-af91-292b8f466860",
   "metadata": {},
   "outputs": [
    {
     "data": {
      "text/plain": [
       "3"
      ]
     },
     "execution_count": 36,
     "metadata": {},
     "output_type": "execute_result"
    }
   ],
   "source": [
    "nest1[2][2]"
   ]
  },
  {
   "cell_type": "code",
   "execution_count": 38,
   "id": "2bc1276c-4ac0-4a75-8767-c6f8e8d48e4f",
   "metadata": {},
   "outputs": [
    {
     "name": "stdout",
     "output_type": "stream",
     "text": [
      "tenet\n",
      "..........\n",
      "ice age\n",
      "..........\n",
      "gravity\n",
      "..........\n",
      "joker\n",
      "..........\n",
      "spiderman\n",
      "..........\n",
      "ávengers:endgame\n",
      "..........\n"
     ]
    }
   ],
   "source": [
    "for i in movies:\n",
    "    print(i.lower())\n",
    "    print('.'*10)"
   ]
  },
  {
   "cell_type": "code",
   "execution_count": null,
   "id": "b6aa7822-7f6a-4084-a725-91515fc8f3fa",
   "metadata": {},
   "outputs": [],
   "source": []
  }
 ],
 "metadata": {
  "kernelspec": {
   "display_name": "Python 3 (ipykernel)",
   "language": "python",
   "name": "python3"
  },
  "language_info": {
   "codemirror_mode": {
    "name": "ipython",
    "version": 3
   },
   "file_extension": ".py",
   "mimetype": "text/x-python",
   "name": "python",
   "nbconvert_exporter": "python",
   "pygments_lexer": "ipython3",
   "version": "3.12.7"
  }
 },
 "nbformat": 4,
 "nbformat_minor": 5
}
