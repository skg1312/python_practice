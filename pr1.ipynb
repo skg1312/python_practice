{
 "cells": [
  {
   "cell_type": "code",
   "execution_count": 1,
   "id": "dd42efec-9875-4f2a-8450-4972d7dc1a82",
   "metadata": {},
   "outputs": [
    {
     "name": "stdout",
     "output_type": "stream",
     "text": [
      "DBDA\n"
     ]
    }
   ],
   "source": [
    "print('DBDA')"
   ]
  },
  {
   "cell_type": "code",
   "execution_count": 2,
   "id": "b8d99400-a736-40f2-9caa-7ca62bf77187",
   "metadata": {},
   "outputs": [
    {
     "name": "stdout",
     "output_type": "stream",
     "text": [
      "DCAC\n"
     ]
    }
   ],
   "source": [
    "print(\"DCAC\")"
   ]
  },
  {
   "cell_type": "code",
   "execution_count": 3,
   "id": "fcd1935a-1cc3-43bc-8ef0-010d5f9b2c7f",
   "metadata": {},
   "outputs": [
    {
     "name": "stdout",
     "output_type": "stream",
     "text": [
      "ACTS\n"
     ]
    }
   ],
   "source": [
    "print('''ACTS''')"
   ]
  },
  {
   "cell_type": "code",
   "execution_count": 7,
   "id": "0e1e532f-7319-4b72-b6e6-281a23ae18b1",
   "metadata": {},
   "outputs": [
    {
     "name": "stdout",
     "output_type": "stream",
     "text": [
      "BDA\n"
     ]
    },
    {
     "data": {
      "text/plain": [
       "str"
      ]
     },
     "execution_count": 7,
     "metadata": {},
     "output_type": "execute_result"
    }
   ],
   "source": [
    "a = 'BDA'\n",
    "print(a)\n",
    "type(a)"
   ]
  },
  {
   "cell_type": "code",
   "execution_count": 8,
   "id": "b0fda280-8a5d-4ca5-b9fe-cf3e710a7aba",
   "metadata": {},
   "outputs": [
    {
     "name": "stdout",
     "output_type": "stream",
     "text": [
      "38\n"
     ]
    },
    {
     "data": {
      "text/plain": [
       "int"
      ]
     },
     "execution_count": 8,
     "metadata": {},
     "output_type": "execute_result"
    }
   ],
   "source": [
    "b = 38\n",
    "print(b)\n",
    "type(b)"
   ]
  },
  {
   "cell_type": "code",
   "execution_count": 10,
   "id": "cea51bd2-5bb6-46ab-bdb4-481e2ab38a27",
   "metadata": {},
   "outputs": [
    {
     "name": "stdout",
     "output_type": "stream",
     "text": [
      "38.09\n"
     ]
    },
    {
     "data": {
      "text/plain": [
       "float"
      ]
     },
     "execution_count": 10,
     "metadata": {},
     "output_type": "execute_result"
    }
   ],
   "source": [
    "c = 38.09\n",
    "print(c)\n",
    "type(c)"
   ]
  },
  {
   "cell_type": "code",
   "execution_count": 11,
   "id": "8dcd66b2-7237-44f6-851a-9513ef853e67",
   "metadata": {},
   "outputs": [
    {
     "name": "stdout",
     "output_type": "stream",
     "text": [
      "(38+38j)\n"
     ]
    },
    {
     "data": {
      "text/plain": [
       "complex"
      ]
     },
     "execution_count": 11,
     "metadata": {},
     "output_type": "execute_result"
    }
   ],
   "source": [
    "d = 38+38j\n",
    "print(d)\n",
    "type(d)"
   ]
  },
  {
   "cell_type": "code",
   "execution_count": 19,
   "id": "6a90fe6c-9046-4c23-9e2c-0ba44d57b727",
   "metadata": {},
   "outputs": [
    {
     "name": "stdout",
     "output_type": "stream",
     "text": [
      "123\n",
      "123123\n",
      "123\n",
      "246\n"
     ]
    }
   ],
   "source": [
    "e = '123'\n",
    "print(e)\n",
    "type(e)\n",
    "print(e+'123')\n",
    "f = int(e)\n",
    "print(f)\n",
    "type(f)\n",
    "print(f+123)"
   ]
  },
  {
   "cell_type": "code",
   "execution_count": 22,
   "id": "9cf125c8-807e-4297-938e-4e611ffe162f",
   "metadata": {},
   "outputs": [
    {
     "name": "stdout",
     "output_type": "stream",
     "text": [
      "38\n",
      "38.0\n"
     ]
    },
    {
     "data": {
      "text/plain": [
       "float"
      ]
     },
     "execution_count": 22,
     "metadata": {},
     "output_type": "execute_result"
    }
   ],
   "source": [
    "g = 38\n",
    "print(g)\n",
    "type(g)\n",
    "h=float(g)\n",
    "print(h)\n",
    "type(h)"
   ]
  },
  {
   "cell_type": "code",
   "execution_count": 24,
   "id": "e605375c-cc0f-414b-9163-468b88260e38",
   "metadata": {},
   "outputs": [
    {
     "name": "stdout",
     "output_type": "stream",
     "text": [
      "38.09\n",
      "38\n"
     ]
    },
    {
     "data": {
      "text/plain": [
       "int"
      ]
     },
     "execution_count": 24,
     "metadata": {},
     "output_type": "execute_result"
    }
   ],
   "source": [
    "i = 38.09\n",
    "print(i)\n",
    "type(i)\n",
    "j = int(i)\n",
    "print(j)\n",
    "type(j)"
   ]
  },
  {
   "cell_type": "code",
   "execution_count": 25,
   "id": "a6429635-78f0-400c-b52e-d86f7453bf36",
   "metadata": {},
   "outputs": [
    {
     "name": "stdout",
     "output_type": "stream",
     "text": [
      "38\n",
      "(38+0j)\n"
     ]
    },
    {
     "data": {
      "text/plain": [
       "complex"
      ]
     },
     "execution_count": 25,
     "metadata": {},
     "output_type": "execute_result"
    }
   ],
   "source": [
    "k = 38\n",
    "print(k)\n",
    "type(k)\n",
    "l = complex(k)\n",
    "print(l)\n",
    "type(l)"
   ]
  },
  {
   "cell_type": "code",
   "execution_count": 30,
   "id": "db676af9-32a2-4405-b577-8e1a45b8ede6",
   "metadata": {},
   "outputs": [
    {
     "name": "stdout",
     "output_type": "stream",
     "text": [
      "38.09\n",
      "(38.09+0j)\n"
     ]
    },
    {
     "data": {
      "text/plain": [
       "complex"
      ]
     },
     "execution_count": 30,
     "metadata": {},
     "output_type": "execute_result"
    }
   ],
   "source": [
    "m = 38.09\n",
    "print(m)\n",
    "type(m)\n",
    "n = complex(m)\n",
    "print(n)\n",
    "type(n)"
   ]
  },
  {
   "cell_type": "code",
   "execution_count": 34,
   "id": "0d59f863-e2c6-40d3-844d-8f64d7889598",
   "metadata": {},
   "outputs": [
    {
     "name": "stdout",
     "output_type": "stream",
     "text": [
      "38\n",
      "0.9\n",
      "(38+0.9j)\n"
     ]
    },
    {
     "data": {
      "text/plain": [
       "complex"
      ]
     },
     "execution_count": 34,
     "metadata": {},
     "output_type": "execute_result"
    }
   ],
   "source": [
    "o = 38\n",
    "print(o)\n",
    "type(o)\n",
    "p = 0.9\n",
    "print(p)\n",
    "type(p)\n",
    "q =complex(o,p)\n",
    "print(q)\n",
    "type(q)"
   ]
  },
  {
   "cell_type": "code",
   "execution_count": 36,
   "id": "b81ca427-96c0-4f86-8497-dd3e4c913c34",
   "metadata": {},
   "outputs": [
    {
     "name": "stdout",
     "output_type": "stream",
     "text": [
      "0 0 0\n"
     ]
    }
   ],
   "source": [
    "r,s,t = 0,0,0\n",
    "print(r,s,t)"
   ]
  },
  {
   "cell_type": "code",
   "execution_count": 37,
   "id": "878c2aa1-68af-45ce-a0d9-b573a852d56e",
   "metadata": {},
   "outputs": [
    {
     "name": "stdout",
     "output_type": "stream",
     "text": [
      "CDAC DBDA ACTS\n",
      "CDACDBDAACTS\n"
     ]
    }
   ],
   "source": [
    "u,v,w = 'CDAC','DBDA','ACTS'\n",
    "print(u,v,w)\n",
    "print(u+v+w)"
   ]
  },
  {
   "cell_type": "code",
   "execution_count": 41,
   "id": "ef4c40c7-a3c9-4668-ab21-ea14588eb0eb",
   "metadata": {},
   "outputs": [
    {
     "name": "stdout",
     "output_type": "stream",
     "text": [
      "38 38.09 (38+0.9j)\n"
     ]
    },
    {
     "data": {
      "text/plain": [
       "complex"
      ]
     },
     "execution_count": 41,
     "metadata": {},
     "output_type": "execute_result"
    }
   ],
   "source": [
    "x,y,z = 38,38.09,38+0.9j\n",
    "print(x,y,z)\n",
    "type(x)\n",
    "type(y)\n",
    "type(z)"
   ]
  },
  {
   "cell_type": "code",
   "execution_count": 42,
   "id": "719acbff-2eaf-43d8-adae-832b0135b267",
   "metadata": {},
   "outputs": [
    {
     "name": "stdout",
     "output_type": "stream",
     "text": [
      "[1, 2, 2, 44, 45, 2, 4, 'a', 'b']\n"
     ]
    },
    {
     "data": {
      "text/plain": [
       "list"
      ]
     },
     "execution_count": 42,
     "metadata": {},
     "output_type": "execute_result"
    }
   ],
   "source": [
    "list1 = [1,2,2,44,45,2,4,'a','b']\n",
    "print(list1)\n",
    "type(list1)"
   ]
  },
  {
   "cell_type": "code",
   "execution_count": 43,
   "id": "aace8305-7d06-4d6e-9b15-8937224054f3",
   "metadata": {},
   "outputs": [
    {
     "name": "stdout",
     "output_type": "stream",
     "text": [
      "1\n"
     ]
    }
   ],
   "source": [
    "print(list1[0])"
   ]
  },
  {
   "cell_type": "code",
   "execution_count": 47,
   "id": "14343ffe-9a21-4bbf-9597-ff3af283a0d1",
   "metadata": {},
   "outputs": [
    {
     "name": "stdout",
     "output_type": "stream",
     "text": [
      "[1, 2, 2, 44, 45, 2, 4, 'a', 'b', 'c', 'c', 'c']\n"
     ]
    }
   ],
   "source": [
    "list1.append('c')\n",
    "print(list1)"
   ]
  },
  {
   "cell_type": "code",
   "execution_count": 50,
   "id": "e44566f9-51e6-44ce-b3a8-69ed25dcd9c4",
   "metadata": {},
   "outputs": [
    {
     "name": "stdout",
     "output_type": "stream",
     "text": [
      "[1, 2, 2, 44, 45, 2, 4, 'a', 'b', 'c', 'c']\n"
     ]
    }
   ],
   "source": [
    "list1.pop()\n",
    "print(list1)"
   ]
  },
  {
   "cell_type": "code",
   "execution_count": 51,
   "id": "b964cd28-c1f8-433f-bb86-a4f78da2dedd",
   "metadata": {},
   "outputs": [
    {
     "name": "stdout",
     "output_type": "stream",
     "text": [
      "[1, 2, 3, 2, 44, 45, 2, 4, 'a', 'b', 'c', 'c']\n"
     ]
    }
   ],
   "source": [
    "list1.insert(2,3)\n",
    "print(list1)"
   ]
  },
  {
   "cell_type": "code",
   "execution_count": 52,
   "id": "68f74171-e6ae-422c-92dc-08eba16bdce5",
   "metadata": {},
   "outputs": [
    {
     "name": "stdout",
     "output_type": "stream",
     "text": [
      "[1, 2, 3, 2, 44, 45, 2, 4, 'a', 'b', 'c', 'c', 'd', 'e', 9]\n"
     ]
    }
   ],
   "source": [
    "list1.extend(['d','e',9])\n",
    "print(list1)"
   ]
  },
  {
   "cell_type": "code",
   "execution_count": 58,
   "id": "68e22bbc-005f-4e71-8550-1658b53561ec",
   "metadata": {},
   "outputs": [
    {
     "name": "stdout",
     "output_type": "stream",
     "text": [
      "[3, 2, 44, 45, 2, 4, 'b', 'd', 'e', 9]\n"
     ]
    }
   ],
   "source": [
    "list1.remove('a')\n",
    "print(list1)"
   ]
  },
  {
   "cell_type": "code",
   "execution_count": 60,
   "id": "924a4495-0002-4fc4-9ae7-931de97c124c",
   "metadata": {},
   "outputs": [
    {
     "name": "stdout",
     "output_type": "stream",
     "text": [
      "[44, 45, 2, 4, 'b', 'd', 'e', 9]\n"
     ]
    }
   ],
   "source": [
    "del list1[0]\n",
    "print(list1)"
   ]
  },
  {
   "cell_type": "code",
   "execution_count": 62,
   "id": "b12d5a10-2bb9-4ca0-bbdf-d574b43d37c8",
   "metadata": {},
   "outputs": [
    {
     "data": {
      "text/plain": [
       "1"
      ]
     },
     "execution_count": 62,
     "metadata": {},
     "output_type": "execute_result"
    }
   ],
   "source": [
    "list1.count(9)"
   ]
  },
  {
   "cell_type": "code",
   "execution_count": 63,
   "id": "68ad6438-837c-4e08-a35a-a61e6e9334f1",
   "metadata": {},
   "outputs": [
    {
     "name": "stdout",
     "output_type": "stream",
     "text": [
      "[9, 'e', 'd', 'b', 45, 44, 4, 2]\n"
     ]
    }
   ],
   "source": [
    "list1.reverse()\n",
    "print(list1)"
   ]
  },
  {
   "cell_type": "code",
   "execution_count": 64,
   "id": "47eda5b0-efcc-4c02-8666-7776acd96132",
   "metadata": {},
   "outputs": [
    {
     "name": "stdout",
     "output_type": "stream",
     "text": [
      "8\n"
     ]
    }
   ],
   "source": [
    "print(len(list1))"
   ]
  },
  {
   "cell_type": "code",
   "execution_count": 65,
   "id": "3084f45a-feec-4673-b7ca-06b3dd8da346",
   "metadata": {},
   "outputs": [
    {
     "data": {
      "text/plain": [
       "0"
      ]
     },
     "execution_count": 65,
     "metadata": {},
     "output_type": "execute_result"
    }
   ],
   "source": [
    "list1.index(9)"
   ]
  },
  {
   "cell_type": "code",
   "execution_count": 67,
   "id": "b48350f5-8fcd-4665-83b9-2d85d079bc34",
   "metadata": {},
   "outputs": [
    {
     "name": "stdout",
     "output_type": "stream",
     "text": [
      "[]\n"
     ]
    }
   ],
   "source": [
    "list1.clear()\n",
    "print(list1)"
   ]
  },
  {
   "cell_type": "code",
   "execution_count": 69,
   "id": "3590a1d8-2901-4084-8368-f878bb63d98c",
   "metadata": {},
   "outputs": [
    {
     "name": "stdout",
     "output_type": "stream",
     "text": [
      "(1, 2, 3, 4, 5, 6, 7, 8, 9, 0)\n"
     ]
    }
   ],
   "source": [
    "tuple1=(1,2,3,4,5,6,7,8,9,0)\n",
    "print(tuple1)"
   ]
  },
  {
   "cell_type": "code",
   "execution_count": 70,
   "id": "cad4609b-276e-4dfb-a5a1-658e4fed6c26",
   "metadata": {},
   "outputs": [
    {
     "name": "stdout",
     "output_type": "stream",
     "text": [
      "1\n"
     ]
    }
   ],
   "source": [
    "print(tuple1[0])"
   ]
  },
  {
   "cell_type": "code",
   "execution_count": 72,
   "id": "f34cae9b-4c7c-476f-9b34-491155ffdeb3",
   "metadata": {},
   "outputs": [
    {
     "name": "stdout",
     "output_type": "stream",
     "text": [
      "CDACDBDA\n"
     ]
    }
   ],
   "source": [
    "tuple2='CDAC'\n",
    "tuple3='DBDA'\n",
    "print(tuple2+tuple3)"
   ]
  },
  {
   "cell_type": "code",
   "execution_count": 74,
   "id": "da5558ff-0149-48ed-a27d-ead6ecc41224",
   "metadata": {},
   "outputs": [
    {
     "name": "stdout",
     "output_type": "stream",
     "text": [
      "10\n"
     ]
    }
   ],
   "source": [
    "print(len(tuple1))"
   ]
  },
  {
   "cell_type": "code",
   "execution_count": 75,
   "id": "6435328d-a8f7-49ee-86cb-c9caafcc6c57",
   "metadata": {},
   "outputs": [
    {
     "name": "stdout",
     "output_type": "stream",
     "text": [
      "{'org': 'DBDA', 'suborg': 'ACTS', 'course': 'DBDA', 'duration': 6}\n"
     ]
    }
   ],
   "source": [
    "dist1 = {'org':'DBDA','suborg':'ACTS','course':'DBDA','duration':6}\n",
    "print(dist1)"
   ]
  },
  {
   "cell_type": "code",
   "execution_count": 77,
   "id": "9e6d8cd3-fec5-4ccb-a5a1-623ca5be81f2",
   "metadata": {},
   "outputs": [
    {
     "name": "stdout",
     "output_type": "stream",
     "text": [
      "DBDA\n"
     ]
    }
   ],
   "source": [
    "print(dist1['org'])"
   ]
  },
  {
   "cell_type": "code",
   "execution_count": 81,
   "id": "ce11235c-38cd-4781-b8bc-e79b2885d930",
   "metadata": {},
   "outputs": [
    {
     "name": "stdout",
     "output_type": "stream",
     "text": [
      "{'org': 'DBDA', 'suborg': 'ACTS', 'course': 'DBDA', 'duration': 6, 'degree': 'PG'}\n"
     ]
    }
   ],
   "source": [
    "dist1['degree']='PG'\n",
    "print(dist1)"
   ]
  },
  {
   "cell_type": "code",
   "execution_count": 82,
   "id": "01cbce3f-290d-4baa-8268-a73f69883e58",
   "metadata": {},
   "outputs": [
    {
     "name": "stdout",
     "output_type": "stream",
     "text": [
      "{'org': 'DBDA', 'suborg': 'ACTS', 'course': 'DBDA', 'duration': 6, 'degree': 'PGD'}\n"
     ]
    }
   ],
   "source": [
    "dist1['degree']='PGD'\n",
    "print(dist1)"
   ]
  },
  {
   "cell_type": "code",
   "execution_count": 84,
   "id": "3151a511-7a1e-4abd-a19a-d56ddc78c33d",
   "metadata": {},
   "outputs": [
    {
     "name": "stdout",
     "output_type": "stream",
     "text": [
      "{'org': 'DBDA', 'suborg': 'ACTS', 'course': 'DBDA', 'duration': 6}\n"
     ]
    }
   ],
   "source": [
    "dist1.pop('degree')\n",
    "print(dist1)"
   ]
  },
  {
   "cell_type": "code",
   "execution_count": 87,
   "id": "497a35d5-9ec3-4fdb-b328-fc354f2c320b",
   "metadata": {},
   "outputs": [
    {
     "name": "stdout",
     "output_type": "stream",
     "text": [
      "{'org': 'DBDA', 'course': 'DBDA', 'duration': 6}\n"
     ]
    }
   ],
   "source": [
    "del dist1['suborg']\n",
    "print(dist1)"
   ]
  },
  {
   "cell_type": "code",
   "execution_count": 88,
   "id": "912bd0fc-7072-4c29-94d5-7382d63619a9",
   "metadata": {},
   "outputs": [
    {
     "name": "stdout",
     "output_type": "stream",
     "text": [
      "dict_values(['DBDA', 'DBDA', 6])\n"
     ]
    }
   ],
   "source": [
    "print(dist1.values())"
   ]
  },
  {
   "cell_type": "code",
   "execution_count": 89,
   "id": "45eeff4d-fa36-40db-b711-ea83bced2e2e",
   "metadata": {},
   "outputs": [
    {
     "name": "stdout",
     "output_type": "stream",
     "text": [
      "dict_keys(['org', 'course', 'duration'])\n"
     ]
    }
   ],
   "source": [
    "print(dist1.keys())"
   ]
  },
  {
   "cell_type": "code",
   "execution_count": 90,
   "id": "6eead747-4792-42d8-bc06-f106b7389faa",
   "metadata": {},
   "outputs": [
    {
     "name": "stdout",
     "output_type": "stream",
     "text": [
      "dict_items([('org', 'DBDA'), ('course', 'DBDA'), ('duration', 6)])\n"
     ]
    }
   ],
   "source": [
    "print(dist1.items())"
   ]
  },
  {
   "cell_type": "code",
   "execution_count": 95,
   "id": "c5ec9ec9-6e94-4202-a3a9-a0b280ec578b",
   "metadata": {},
   "outputs": [
    {
     "name": "stdout",
     "output_type": "stream",
     "text": [
      "{'name': 'rocky', 'as': 'rocky'}\n"
     ]
    }
   ],
   "source": [
    "key1=('name','as')\n",
    "value1=('rocky')\n",
    "dist2 = dict.fromkeys(key1,value1)\n",
    "print(dist2)"
   ]
  },
  {
   "cell_type": "code",
   "execution_count": 97,
   "id": "e7e9afbd-9a47-4772-aaf0-ac77409c16c5",
   "metadata": {},
   "outputs": [
    {
     "name": "stdout",
     "output_type": "stream",
     "text": [
      "{}\n"
     ]
    }
   ],
   "source": [
    "dist2.clear()\n",
    "print(dist2)"
   ]
  },
  {
   "cell_type": "code",
   "execution_count": 98,
   "id": "a1eef9bf-9fbd-4233-823b-5e0ddd947c71",
   "metadata": {},
   "outputs": [
    {
     "name": "stdout",
     "output_type": "stream",
     "text": [
      "DBDA\n"
     ]
    }
   ],
   "source": [
    "print(dist1.get('org'))"
   ]
  },
  {
   "cell_type": "code",
   "execution_count": 100,
   "id": "f6f35acc-c8ef-4a74-8b51-a8d90423706b",
   "metadata": {},
   "outputs": [
    {
     "name": "stdout",
     "output_type": "stream",
     "text": [
      "{'org': 'DBDA', 'course': 'DBDA'}\n"
     ]
    }
   ],
   "source": [
    "dist1.popitem()\n",
    "print(dist1)"
   ]
  },
  {
   "cell_type": "code",
   "execution_count": 101,
   "id": "9a2095f3-b865-4be0-8231-65ea7e82e501",
   "metadata": {},
   "outputs": [
    {
     "name": "stdout",
     "output_type": "stream",
     "text": [
      "{'org': 'DBDA', 'course': 'DBDA', 'duration': 6}\n"
     ]
    }
   ],
   "source": [
    "dist1.update({'duration':6})\n",
    "print(dist1)"
   ]
  },
  {
   "cell_type": "code",
   "execution_count": 102,
   "id": "44fb124e-b5b8-426e-872f-ffe42e35f3f8",
   "metadata": {},
   "outputs": [
    {
     "name": "stdout",
     "output_type": "stream",
     "text": [
      "{3, 4, 43, 12, 44}\n"
     ]
    }
   ],
   "source": [
    "set1 = {12,3,43,4,4,4,44,4,}\n",
    "print(set1)"
   ]
  },
  {
   "cell_type": "code",
   "execution_count": 107,
   "id": "03b0ef27-431d-4fbe-8f1e-08f818003a06",
   "metadata": {},
   "outputs": [
    {
     "name": "stdout",
     "output_type": "stream",
     "text": [
      "{2, 3, 4, 43, 12, 44}\n"
     ]
    }
   ],
   "source": [
    "set1.add(2)\n",
    "print(set1)"
   ]
  },
  {
   "cell_type": "code",
   "execution_count": 121,
   "id": "34883c19-0275-4e10-8467-ee6884ddaea8",
   "metadata": {},
   "outputs": [
    {
     "name": "stdout",
     "output_type": "stream",
     "text": [
      "{2, 44, 5}\n"
     ]
    }
   ],
   "source": [
    "set2 = set1.copy()\n",
    "print(set2)"
   ]
  },
  {
   "cell_type": "code",
   "execution_count": 111,
   "id": "58ebda6c-db0f-46e1-970d-719bcbff2e71",
   "metadata": {},
   "outputs": [
    {
     "name": "stdout",
     "output_type": "stream",
     "text": [
      "{2, 3, 4, 5, 43, 12, 44}\n"
     ]
    }
   ],
   "source": [
    "set1.add(5)\n",
    "print(set1.union(set2))"
   ]
  },
  {
   "cell_type": "code",
   "execution_count": 114,
   "id": "f9aa7565-bf8f-4731-9a52-e99989a2a50e",
   "metadata": {},
   "outputs": [
    {
     "name": "stdout",
     "output_type": "stream",
     "text": [
      "{2, 44, 5}\n"
     ]
    }
   ],
   "source": [
    "set2.remove(44)\n",
    "print(set1.difference(set2))"
   ]
  },
  {
   "cell_type": "code",
   "execution_count": 115,
   "id": "ddd3d462-1546-4dc4-8c76-178dc94777aa",
   "metadata": {},
   "outputs": [
    {
     "name": "stdout",
     "output_type": "stream",
     "text": [
      "None\n"
     ]
    }
   ],
   "source": [
    "print(set1.difference_update(set2))"
   ]
  },
  {
   "cell_type": "code",
   "execution_count": 118,
   "id": "3a8c5d85-7c8c-4a1c-84d5-fe42c656e595",
   "metadata": {},
   "outputs": [
    {
     "name": "stdout",
     "output_type": "stream",
     "text": [
      "{3, 4}\n"
     ]
    }
   ],
   "source": [
    "set2.discard(43)\n",
    "print(set2)"
   ]
  },
  {
   "cell_type": "code",
   "execution_count": 119,
   "id": "8b4c6bc5-fc3a-4272-b377-93788020d3b6",
   "metadata": {},
   "outputs": [
    {
     "name": "stdout",
     "output_type": "stream",
     "text": [
      "{4}\n"
     ]
    }
   ],
   "source": [
    "set2.pop()\n",
    "print(set2)"
   ]
  },
  {
   "cell_type": "code",
   "execution_count": 122,
   "id": "db237404-ae2d-4a57-be60-08b6fa0d97eb",
   "metadata": {},
   "outputs": [
    {
     "name": "stdout",
     "output_type": "stream",
     "text": [
      "{2, 44, 5}\n"
     ]
    }
   ],
   "source": [
    "print(set1.intersection(set2))"
   ]
  },
  {
   "cell_type": "code",
   "execution_count": 123,
   "id": "8fd5ce85-fdaf-4099-9882-e7ef71a1944d",
   "metadata": {},
   "outputs": [
    {
     "name": "stdout",
     "output_type": "stream",
     "text": [
      "None\n"
     ]
    }
   ],
   "source": [
    "print(set1.intersection_update(set2))"
   ]
  },
  {
   "cell_type": "code",
   "execution_count": 124,
   "id": "27c187e8-69bc-4e56-a3fd-b0d1e9628a47",
   "metadata": {},
   "outputs": [
    {
     "name": "stdout",
     "output_type": "stream",
     "text": [
      "False\n"
     ]
    }
   ],
   "source": [
    "print(set1.isdisjoint(set2))"
   ]
  },
  {
   "cell_type": "code",
   "execution_count": 125,
   "id": "773a816e-65a2-453f-976f-480617376753",
   "metadata": {},
   "outputs": [
    {
     "name": "stdout",
     "output_type": "stream",
     "text": [
      "True\n"
     ]
    }
   ],
   "source": [
    "print(set1.issubset(set2))"
   ]
  },
  {
   "cell_type": "code",
   "execution_count": 126,
   "id": "204ac7a2-fa2d-4e48-9d4b-caa23d7d9366",
   "metadata": {},
   "outputs": [
    {
     "name": "stdout",
     "output_type": "stream",
     "text": [
      "True\n"
     ]
    }
   ],
   "source": [
    "print(set2.issuperset(set1))"
   ]
  },
  {
   "cell_type": "code",
   "execution_count": 127,
   "id": "8dc709c4-0f45-4af6-8bec-365f2ec8c394",
   "metadata": {},
   "outputs": [
    {
     "name": "stdout",
     "output_type": "stream",
     "text": [
      "set()\n"
     ]
    }
   ],
   "source": [
    "print(set1.symmetric_difference(set2))"
   ]
  },
  {
   "cell_type": "code",
   "execution_count": 128,
   "id": "054cca1d-f5e6-40eb-9925-9253b5407253",
   "metadata": {},
   "outputs": [
    {
     "name": "stdout",
     "output_type": "stream",
     "text": [
      "None\n"
     ]
    }
   ],
   "source": [
    "print(set1.symmetric_difference_update(set2))"
   ]
  },
  {
   "cell_type": "code",
   "execution_count": null,
   "id": "4934a58e-0974-438e-89c7-878783564dbc",
   "metadata": {},
   "outputs": [],
   "source": []
  }
 ],
 "metadata": {
  "kernelspec": {
   "display_name": "Python 3 (ipykernel)",
   "language": "python",
   "name": "python3"
  },
  "language_info": {
   "codemirror_mode": {
    "name": "ipython",
    "version": 3
   },
   "file_extension": ".py",
   "mimetype": "text/x-python",
   "name": "python",
   "nbconvert_exporter": "python",
   "pygments_lexer": "ipython3",
   "version": "3.12.7"
  }
 },
 "nbformat": 4,
 "nbformat_minor": 5
}
