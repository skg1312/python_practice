{
 "cells": [
  {
   "cell_type": "markdown",
   "id": "761dee61",
   "metadata": {},
   "source": [
    "Python Programming Assignment 1"
   ]
  },
  {
   "cell_type": "markdown",
   "id": "965dec98",
   "metadata": {},
   "source": [
    "1. Write a python code that takes two numbers as input and performs addition, subtraction, \n",
    "multiplication, and division. Print the results"
   ]
  },
  {
   "cell_type": "code",
   "execution_count": 3,
   "id": "d678cf4a",
   "metadata": {},
   "outputs": [
    {
     "name": "stdout",
     "output_type": "stream",
     "text": [
      "Enter the first number: 4\n",
      "Enter the second number: 9\n",
      "Addition: 13.0\n",
      "Subtraction: -5.0\n",
      "Multiplication: 36.0\n",
      "Division: 0.4444444444444444\n"
     ]
    }
   ],
   "source": [
    "num1 = float(input(\"Enter the first number: \"))\n",
    "num2 = float(input(\"Enter the second number: \"))\n",
    "print(\"Addition:\", num1 + num2)\n",
    "print(\"Subtraction:\", num1 - num2)\n",
    "print(\"Multiplication:\", num1 * num2)\n",
    "print(\"Division:\", num1 / num2 if num2 != 0 else \"undefined\")"
   ]
  },
  {
   "cell_type": "markdown",
   "id": "4279d323",
   "metadata": {},
   "source": [
    "2. Write a python code that takes two numbers and returns the larger of the two without using functions."
   ]
  },
  {
   "cell_type": "code",
   "execution_count": 4,
   "id": "883758a8",
   "metadata": {},
   "outputs": [
    {
     "name": "stdout",
     "output_type": "stream",
     "text": [
      "Enter the first number: 34\n",
      "Enter the second number: 98\n",
      "The larger number is: 98.0\n"
     ]
    }
   ],
   "source": [
    "num1 = float(input(\"Enter the first number: \"))\n",
    "num2 = float(input(\"Enter the second number: \"))\n",
    "\n",
    "if num1 > num2:\n",
    "    larger = num1\n",
    "else:\n",
    "    larger = num2\n",
    "\n",
    "print(f\"The larger number is: {larger}\")"
   ]
  },
  {
   "cell_type": "markdown",
   "id": "37986be5",
   "metadata": {},
   "source": [
    "3. Write a python code to merge two lists and get all the elements in a single list."
   ]
  },
  {
   "cell_type": "code",
   "execution_count": 5,
   "id": "1139c9a3",
   "metadata": {},
   "outputs": [
    {
     "name": "stdout",
     "output_type": "stream",
     "text": [
      "Merged List: [1, 2, 3, 4, 5, 6]\n"
     ]
    }
   ],
   "source": [
    "list1 = [1, 2, 3]\n",
    "list2 = [4, 5, 6]\n",
    "\n",
    "merged_list = list1 + list2\n",
    "\n",
    "print(f\"Merged List: {merged_list}\")"
   ]
  },
  {
   "cell_type": "markdown",
   "id": "2f62f9df",
   "metadata": {},
   "source": [
    "4. Write a python code to define a nested Lists (2D List) and show how to access its elements."
   ]
  },
  {
   "cell_type": "code",
   "execution_count": 6,
   "id": "26bae15e",
   "metadata": {},
   "outputs": [
    {
     "name": "stdout",
     "output_type": "stream",
     "text": [
      "1\n",
      "5\n",
      "9\n"
     ]
    }
   ],
   "source": [
    "nested_list = [[1, 2, 3], [4, 5, 6], [7, 8, 9]]\n",
    "print(nested_list[0][0])\n",
    "print(nested_list[1][1])\n",
    "print(nested_list[2][2])"
   ]
  },
  {
   "cell_type": "markdown",
   "id": "a4aa1f1b",
   "metadata": {},
   "source": [
    "5. Input a list of 10 elements and try to add 3 more elements in the last using python code."
   ]
  },
  {
   "cell_type": "code",
   "execution_count": 13,
   "id": "330e0cd9",
   "metadata": {},
   "outputs": [
    {
     "name": "stdout",
     "output_type": "stream",
     "text": [
      "[1, 2, 3, 4, 5, 6, 7, 8, 9, 10, 11, 12, 13]\n"
     ]
    }
   ],
   "source": [
    "my_list =[1, 2, 3, 4, 5, 6, 7, 8, 9, 10]\n",
    "my_list.extend([11, 12, 13])\n",
    "print(my_list)"
   ]
  },
  {
   "cell_type": "markdown",
   "id": "ef0e1b44",
   "metadata": {},
   "source": [
    "6. Write a python code to get 5 elements from user for forming a list. Also print the final and reverse list."
   ]
  },
  {
   "cell_type": "code",
   "execution_count": 11,
   "id": "b1c4e9a8",
   "metadata": {},
   "outputs": [
    {
     "name": "stdout",
     "output_type": "stream",
     "text": [
      "[10, 9, 8, 7, 6, 5, 4, 3, 2, 1]\n"
     ]
    }
   ],
   "source": [
    "my_list =[1, 2, 3, 4, 5, 6, 7, 8, 9, 10]\n",
    "print(my_list[::-1])"
   ]
  },
  {
   "cell_type": "markdown",
   "id": "2f0d3003",
   "metadata": {},
   "source": [
    "7. Find the largest and smallest number in the list which taken as input from user using list operations with python code."
   ]
  },
  {
   "cell_type": "code",
   "execution_count": 17,
   "id": "40b4fa6f",
   "metadata": {},
   "outputs": [
    {
     "name": "stdout",
     "output_type": "stream",
     "text": [
      "2\n",
      "3\n",
      "3\n",
      "42\n",
      "54\n",
      "Max number in the list 54\n",
      "Min number in the list 2\n"
     ]
    }
   ],
   "source": [
    "user_list = [input() for _ in range(5)]\n",
    "print('Max number in the list',max(user_list))\n",
    "print('Min number in the list',min(user_list))"
   ]
  },
  {
   "cell_type": "markdown",
   "id": "99a7fa33",
   "metadata": {},
   "source": [
    "8. Given a dictionary of students and their favourite colours:\n",
    "\n",
    "people={'Arham':'Blue','Lisa':'Yellow',''Vinod:'Purple','Jenny':'Pink'} \n",
    "\n",
    "a) Find out how many students are in the list \n",
    "\n",
    "b) Change Lisa’s favourite colour \n",
    "\n",
    "c) Remove 'Jenny' and her favourite colour \n",
    "\n",
    "d) Sort and print students and their favourite colours alphabetically by name"
   ]
  },
  {
   "cell_type": "code",
   "execution_count": 19,
   "id": "18ce9afc",
   "metadata": {},
   "outputs": [
    {
     "name": "stdout",
     "output_type": "stream",
     "text": [
      "Number of students: 4\n",
      "Sorted students and their favourite colours: {'Arham': 'Blue', 'Lisa': 'Green', 'Vinod': 'Purple'}\n"
     ]
    }
   ],
   "source": [
    "people = {'Arham': 'Blue', 'Lisa': 'Yellow', 'Vinod': 'Purple', 'Jenny': 'Pink'}\n",
    "print(\"Number of students:\", len(people))\n",
    "people['Lisa'] = 'Green'\n",
    "people.pop('Jenny', None)\n",
    "\n",
    "sorted_people = dict(sorted(people.items()))\n",
    "\n",
    "print(\"Sorted students and their favourite colours:\", sorted_people)"
   ]
  },
  {
   "cell_type": "markdown",
   "id": "270d2c56",
   "metadata": {},
   "source": [
    "9. Write a Python program to swap two variables."
   ]
  },
  {
   "cell_type": "code",
   "execution_count": 20,
   "id": "c6047f5b",
   "metadata": {},
   "outputs": [
    {
     "name": "stdout",
     "output_type": "stream",
     "text": [
      "a: 10 b: 5\n"
     ]
    }
   ],
   "source": [
    "a = 5\n",
    "b = 10\n",
    "temp = a\n",
    "a = b\n",
    "b = temp\n",
    "print(\"a:\", a, \"b:\", b)"
   ]
  },
  {
   "cell_type": "markdown",
   "id": "c46738a6",
   "metadata": {},
   "source": [
    "10. Write a python program to swap two variables without using a third variable."
   ]
  },
  {
   "cell_type": "code",
   "execution_count": 21,
   "id": "382e92e8",
   "metadata": {},
   "outputs": [
    {
     "name": "stdout",
     "output_type": "stream",
     "text": [
      "10 5\n"
     ]
    }
   ],
   "source": [
    "a = 5\n",
    "b = 10\n",
    "a, b = b, a\n",
    "print(a, b)"
   ]
  },
  {
   "cell_type": "markdown",
   "id": "a793bf0f",
   "metadata": {},
   "source": [
    "11. Write a Python program to find the repeated items of a tuple."
   ]
  },
  {
   "cell_type": "code",
   "execution_count": 22,
   "id": "dcc3f565",
   "metadata": {},
   "outputs": [
    {
     "name": "stdout",
     "output_type": "stream",
     "text": [
      "Repeated items: {1, 2}\n"
     ]
    }
   ],
   "source": [
    "my_tuple = (1, 2, 3, 2, 4, 5, 1, 6, 2)\n",
    "repeated_items = {item for item in my_tuple if my_tuple.count(item) > 1}\n",
    "print(\"Repeated items:\", repeated_items)"
   ]
  },
  {
   "cell_type": "markdown",
   "id": "0955c735",
   "metadata": {},
   "source": [
    "12. Write a Python program to create multiple lists."
   ]
  },
  {
   "cell_type": "code",
   "execution_count": 23,
   "id": "09660d50",
   "metadata": {},
   "outputs": [
    {
     "name": "stdout",
     "output_type": "stream",
     "text": [
      "[1, 2, 3] [4, 5, 6] [7, 8, 9]\n"
     ]
    }
   ],
   "source": [
    "list1 = [1, 2, 3]\n",
    "list2 = [4, 5, 6]\n",
    "list3 = [7, 8, 9]\n",
    "print(list1, list2, list3)"
   ]
  },
  {
   "cell_type": "markdown",
   "id": "77c2f690",
   "metadata": {},
   "source": [
    "13. Write a python code for creating 2 sets then perform union intersection and difference operations on them."
   ]
  },
  {
   "cell_type": "code",
   "execution_count": 25,
   "id": "621c9aeb",
   "metadata": {},
   "outputs": [
    {
     "name": "stdout",
     "output_type": "stream",
     "text": [
      "{1, 2, 3, 4, 5, 6}\n",
      "{3, 4}\n",
      "{1, 2}\n"
     ]
    }
   ],
   "source": [
    "set1 = {1, 2, 3, 4}\n",
    "set2 = {3, 4, 5, 6}\n",
    "print(set1.union(set2))\n",
    "print(set1.intersection(set2))\n",
    "print(set1.difference(set2))"
   ]
  },
  {
   "cell_type": "markdown",
   "id": "d29510c0",
   "metadata": {},
   "source": [
    "14. write a python code to input a float variable from user then convert it into integer type."
   ]
  },
  {
   "cell_type": "code",
   "execution_count": 26,
   "id": "491cc97f",
   "metadata": {},
   "outputs": [
    {
     "name": "stdout",
     "output_type": "stream",
     "text": [
      "39.23\n",
      "39\n"
     ]
    }
   ],
   "source": [
    "float_var = float(input())\n",
    "int_var = int(float_var)\n",
    "print(int_var)"
   ]
  },
  {
   "cell_type": "code",
   "execution_count": null,
   "id": "90d60157",
   "metadata": {},
   "outputs": [],
   "source": []
  }
 ],
 "metadata": {
  "kernelspec": {
   "display_name": "Python 3",
   "language": "python",
   "name": "python3"
  },
  "language_info": {
   "codemirror_mode": {
    "name": "ipython",
    "version": 3
   },
   "file_extension": ".py",
   "mimetype": "text/x-python",
   "name": "python",
   "nbconvert_exporter": "python",
   "pygments_lexer": "ipython3",
   "version": "3.8.8"
  }
 },
 "nbformat": 4,
 "nbformat_minor": 5
}
