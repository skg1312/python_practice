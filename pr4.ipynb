{
 "cells": [
  {
   "cell_type": "code",
   "execution_count": 1,
   "id": "87a230a2-b821-472e-bc85-5f38184284c7",
   "metadata": {},
   "outputs": [
    {
     "name": "stdout",
     "output_type": "stream",
     "text": [
      "0\n",
      "1\n",
      "2\n",
      "3\n",
      "4\n",
      "5\n",
      "6\n",
      "7\n",
      "8\n",
      "9\n"
     ]
    }
   ],
   "source": [
    "c=0\n",
    "while c<10:\n",
    "    print(c)\n",
    "    c=c+1"
   ]
  },
  {
   "cell_type": "code",
   "execution_count": 3,
   "id": "e947241c-0fb8-4a21-88f4-b5920fa19d50",
   "metadata": {},
   "outputs": [
    {
     "name": "stdin",
     "output_type": "stream",
     "text": [
      "Enter a number:  1\n"
     ]
    },
    {
     "name": "stdout",
     "output_type": "stream",
     "text": [
      "1 is an Armstrong number\n"
     ]
    }
   ],
   "source": [
    "num = int(input('Enter a number: '))\n",
    "value = 0\n",
    "temp = num\n",
    "while temp>0:\n",
    "    digit = temp%10\n",
    "    value=value+digit**3\n",
    "    temp=temp//10\n",
    "if num==value:\n",
    "    print(num,'is an Armstrong number')\n",
    "else:\n",
    "    print(num,'is not an Armstrong number')"
   ]
  },
  {
   "cell_type": "code",
   "execution_count": 4,
   "id": "b301d891-9799-4cab-be5d-822fe75aa2d4",
   "metadata": {},
   "outputs": [
    {
     "data": {
      "text/plain": [
       "range(0, 10)"
      ]
     },
     "execution_count": 4,
     "metadata": {},
     "output_type": "execute_result"
    }
   ],
   "source": [
    "range(10)"
   ]
  },
  {
   "cell_type": "code",
   "execution_count": 5,
   "id": "95e1ea1e-2c7f-4dec-a6c6-f38ced23fd31",
   "metadata": {},
   "outputs": [
    {
     "data": {
      "text/plain": [
       "range(10, 20)"
      ]
     },
     "execution_count": 5,
     "metadata": {},
     "output_type": "execute_result"
    }
   ],
   "source": [
    "range(10,20)"
   ]
  },
  {
   "cell_type": "code",
   "execution_count": 6,
   "id": "7f1e39ff-1878-4b4b-8e8a-669b5352b737",
   "metadata": {},
   "outputs": [
    {
     "data": {
      "text/plain": [
       "range(10, 20, 2)"
      ]
     },
     "execution_count": 6,
     "metadata": {},
     "output_type": "execute_result"
    }
   ],
   "source": [
    "range(10,20,2)"
   ]
  },
  {
   "cell_type": "code",
   "execution_count": 7,
   "id": "26617876-dedd-41c3-89dc-2245d4ac4def",
   "metadata": {},
   "outputs": [
    {
     "data": {
      "text/plain": [
       "[10, 11, 12, 13, 14, 15, 16, 17, 18, 19]"
      ]
     },
     "execution_count": 7,
     "metadata": {},
     "output_type": "execute_result"
    }
   ],
   "source": [
    "list(range(10,20))"
   ]
  },
  {
   "cell_type": "code",
   "execution_count": 8,
   "id": "39d31d9b-bd51-4fde-85cf-c3fdd36e06a7",
   "metadata": {},
   "outputs": [
    {
     "data": {
      "text/plain": [
       "[10, 12, 14, 16, 18]"
      ]
     },
     "execution_count": 8,
     "metadata": {},
     "output_type": "execute_result"
    }
   ],
   "source": [
    "list(range(10,20,2))"
   ]
  },
  {
   "cell_type": "code",
   "execution_count": 9,
   "id": "a89f8585-021b-4bf7-a348-4241334d855f",
   "metadata": {},
   "outputs": [
    {
     "data": {
      "text/plain": [
       "[0, 1, 2, 3, 4, 5, 6, 7, 8, 9]"
      ]
     },
     "execution_count": 9,
     "metadata": {},
     "output_type": "execute_result"
    }
   ],
   "source": [
    "list(range(10))"
   ]
  },
  {
   "cell_type": "code",
   "execution_count": 10,
   "id": "a505e8e0-adc0-4471-9ade-a7549934dce9",
   "metadata": {},
   "outputs": [
    {
     "name": "stdout",
     "output_type": "stream",
     "text": [
      "0\n",
      "----------\n",
      "1\n",
      "----------\n",
      "2\n",
      "----------\n",
      "3\n",
      "----------\n",
      "4\n",
      "----------\n",
      "5\n",
      "----------\n",
      "6\n",
      "----------\n",
      "7\n",
      "----------\n",
      "8\n",
      "----------\n",
      "9\n",
      "----------\n"
     ]
    }
   ],
   "source": [
    "for i in range(10):\n",
    "    print(i)\n",
    "    print('-'*10)"
   ]
  },
  {
   "cell_type": "code",
   "execution_count": 11,
   "id": "454d33d9-33e4-4e9e-b989-1ed66f745e1e",
   "metadata": {},
   "outputs": [
    {
     "name": "stdout",
     "output_type": "stream",
     "text": [
      "10\n",
      "12\n",
      "14\n",
      "16\n",
      "18\n"
     ]
    }
   ],
   "source": [
    "for i in range(10,20,2):\n",
    "    print(i)"
   ]
  },
  {
   "cell_type": "code",
   "execution_count": 12,
   "id": "dddec2c0-2842-486c-93ab-f46ce4bcde10",
   "metadata": {},
   "outputs": [
    {
     "name": "stdin",
     "output_type": "stream",
     "text": [
      "String to captialize [type q to quit]:  sk\n"
     ]
    },
    {
     "name": "stdout",
     "output_type": "stream",
     "text": [
      "Sk\n"
     ]
    },
    {
     "name": "stdin",
     "output_type": "stream",
     "text": [
      "String to captialize [type q to quit]:  \n"
     ]
    },
    {
     "name": "stdout",
     "output_type": "stream",
     "text": [
      "\n"
     ]
    },
    {
     "name": "stdin",
     "output_type": "stream",
     "text": [
      "String to captialize [type q to quit]:  q\n"
     ]
    }
   ],
   "source": [
    "while True:\n",
    "    word = input('String to captialize [type q to quit]: ')\n",
    "    if word == 'q':\n",
    "        break\n",
    "    print(word.capitalize())"
   ]
  },
  {
   "cell_type": "code",
   "execution_count": 17,
   "id": "62157006-9c17-4991-b4fe-b48c60ac20f4",
   "metadata": {},
   "outputs": [
    {
     "name": "stdin",
     "output_type": "stream",
     "text": [
      "Integer [press q to Quit]:  12\n",
      "Integer [press q to Quit]:  23\n"
     ]
    },
    {
     "name": "stdout",
     "output_type": "stream",
     "text": [
      "23 Squared is 529\n"
     ]
    },
    {
     "name": "stdin",
     "output_type": "stream",
     "text": [
      "Integer [press q to Quit]:  34\n",
      "Integer [press q to Quit]:  43\n"
     ]
    },
    {
     "name": "stdout",
     "output_type": "stream",
     "text": [
      "43 Squared is 1849\n"
     ]
    },
    {
     "name": "stdin",
     "output_type": "stream",
     "text": [
      "Integer [press q to Quit]:  45\n"
     ]
    },
    {
     "name": "stdout",
     "output_type": "stream",
     "text": [
      "45 Squared is 2025\n"
     ]
    },
    {
     "name": "stdin",
     "output_type": "stream",
     "text": [
      "Integer [press q to Quit]:  34\n",
      "Integer [press q to Quit]:  55\n"
     ]
    },
    {
     "name": "stdout",
     "output_type": "stream",
     "text": [
      "55 Squared is 3025\n"
     ]
    },
    {
     "name": "stdin",
     "output_type": "stream",
     "text": [
      "Integer [press q to Quit]:  q\n"
     ]
    }
   ],
   "source": [
    "while True:\n",
    "    value = input('Integer [press q to Quit]: ')\n",
    "    if value=='q':\n",
    "        break\n",
    "    number=int(value)\n",
    "    if number %2 ==0:\n",
    "        continue\n",
    "    print(number,'Squared is',number*number)"
   ]
  },
  {
   "cell_type": "code",
   "execution_count": 19,
   "id": "f8716c11-a7e6-4ca8-ad50-55fa4540f791",
   "metadata": {},
   "outputs": [
    {
     "name": "stdout",
     "output_type": "stream",
     "text": [
      "Found even number 12\n"
     ]
    }
   ],
   "source": [
    "numbers = [1,5,9,12]\n",
    "position = 0\n",
    "while position<len(numbers):\n",
    "    number= numbers[position]\n",
    "    if number%2==0:\n",
    "        print('Found even number',number)\n",
    "        break\n",
    "    position +=1\n",
    "else:\n",
    "    print('No even number found')"
   ]
  },
  {
   "cell_type": "code",
   "execution_count": 20,
   "id": "5e5f43e3-1c57-41cb-a85a-eaae71effa7f",
   "metadata": {},
   "outputs": [
    {
     "name": "stdout",
     "output_type": "stream",
     "text": [
      "Found even number 12\n"
     ]
    }
   ],
   "source": [
    "for i in numbers:\n",
    "    if number %2 ==0:\n",
    "        print('Found even number',number)\n",
    "        break\n",
    "else:\n",
    "    print('No even number found')"
   ]
  },
  {
   "cell_type": "code",
   "execution_count": 21,
   "id": "64c1d4bc-3ba7-457d-8fd4-f2f829982559",
   "metadata": {},
   "outputs": [
    {
     "name": "stdin",
     "output_type": "stream",
     "text": [
      "Enter a number:  25\n"
     ]
    },
    {
     "name": "stdout",
     "output_type": "stream",
     "text": [
      "The factors of 25 are:\n",
      "1\n",
      "5\n",
      "25\n"
     ]
    }
   ],
   "source": [
    "x=int(input('Enter a number: '))\n",
    "print('The factors of',x,'are:')\n",
    "for i in range(1,x+1):\n",
    "    if x%i==0:\n",
    "        print(i)"
   ]
  },
  {
   "cell_type": "code",
   "execution_count": null,
   "id": "ab9e9640-c62c-41b6-827d-4cfd904580a4",
   "metadata": {},
   "outputs": [],
   "source": []
  }
 ],
 "metadata": {
  "kernelspec": {
   "display_name": "Python 3 (ipykernel)",
   "language": "python",
   "name": "python3"
  },
  "language_info": {
   "codemirror_mode": {
    "name": "ipython",
    "version": 3
   },
   "file_extension": ".py",
   "mimetype": "text/x-python",
   "name": "python",
   "nbconvert_exporter": "python",
   "pygments_lexer": "ipython3",
   "version": "3.12.7"
  }
 },
 "nbformat": 4,
 "nbformat_minor": 5
}
