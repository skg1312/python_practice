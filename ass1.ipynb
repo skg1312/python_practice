{
 "cells": [
  {
   "cell_type": "markdown",
   "id": "c7ee598e-0e60-450e-bdee-454c98e28b1c",
   "metadata": {},
   "source": [
    "Assignment - 1\n",
    "Questions on Flow of Control and Variables"
   ]
  },
  {
   "cell_type": "markdown",
   "id": "bd7cfc2a-a97f-448d-afbb-f907ff41b593",
   "metadata": {},
   "source": [
    "1. Variables and Basic Flow Control"
   ]
  },
  {
   "cell_type": "markdown",
   "id": "24857967-4a8f-435a-8aef-ac690aded99c",
   "metadata": {},
   "source": [
    "1. Write a Python program that takes a user-input number and prints whether it’s\n",
    "positive, negative, or zero using an if statement. Use a variable to store the input."
   ]
  },
  {
   "cell_type": "code",
   "execution_count": 21,
   "id": "5fda7f58-6dc0-4734-a34d-b65ad9b434d1",
   "metadata": {},
   "outputs": [
    {
     "name": "stdin",
     "output_type": "stream",
     "text": [
      "Enter the number:  9\n"
     ]
    },
    {
     "name": "stdout",
     "output_type": "stream",
     "text": [
      "9 is a positive number\n"
     ]
    }
   ],
   "source": [
    "num = int(input(\"Enter the number: \"))\n",
    "\n",
    "if num>0:\n",
    "    print(num,\"is a positive number\")\n",
    "if num<0:\n",
    "    print(num,\"is a negative number\")\n",
    "if num == 0:\n",
    "    print(\"it is a zero\")"
   ]
  },
  {
   "cell_type": "markdown",
   "id": "73081153-bbf5-44ae-a3cf-7a0cbdca0a89",
   "metadata": {},
   "source": [
    "2. Declare two variables, temperature and unit (e.g., \"C\" for Celsius or \"F\" for\n",
    "Fahrenheit). Write a program that prints \"Hot\" if the temperature is above 30°C or\n",
    "86°F, using a single if condition."
   ]
  },
  {
   "cell_type": "code",
   "execution_count": 22,
   "id": "826c4258-65bc-442d-afa0-231e1eafb634",
   "metadata": {},
   "outputs": [
    {
     "name": "stdin",
     "output_type": "stream",
     "text": [
      "Enter the Temperature:  98\n",
      "Enter the units 'C' for Celsius or 'F' for Fahrenheit:  F\n"
     ]
    },
    {
     "name": "stdout",
     "output_type": "stream",
     "text": [
      "Hot\n"
     ]
    }
   ],
   "source": [
    "temp = int(input(\"Enter the Temperature: \"))\n",
    "unit = input(\"Enter the units 'C' for Celsius or 'F' for Fahrenheit: \")\n",
    "\n",
    "if temp >30 and unit=='C' or temp >86 and unit == 'F':\n",
    "    print(\"Hot\")"
   ]
  },
  {
   "cell_type": "markdown",
   "id": "e084b754-d5a5-4d33-9fb6-d24f71a9fe11",
   "metadata": {},
   "source": [
    "3. Create a program that assigns a string variable day (e.g., \"Monday\") and uses an if\n",
    "statement to check if it’s a weekday (Monday to Friday) or weekend (Saturday or\n",
    "Sunday).\n"
   ]
  },
  {
   "cell_type": "code",
   "execution_count": 23,
   "id": "60427c94-3586-4475-bab1-45638e2f0dbe",
   "metadata": {},
   "outputs": [
    {
     "name": "stdin",
     "output_type": "stream",
     "text": [
      "Enter the Day:  Sunday\n"
     ]
    },
    {
     "name": "stdout",
     "output_type": "stream",
     "text": [
      "Sunday is a weekend\n"
     ]
    }
   ],
   "source": [
    "day = input(\"Enter the Day: \")\n",
    "weekday = ['Monday','Tuesday','Wednesday','Thursday','Friday']\n",
    "weekend = ['Saturday','Sunday']\n",
    "if day in weekday:\n",
    "    print(day,'is a weekday')\n",
    "if day in weekend:\n",
    "    print(day,'is a weekend')"
   ]
  },
  {
   "cell_type": "markdown",
   "id": "5e03e712-ac82-4a90-be76-7e796ce4866b",
   "metadata": {},
   "source": [
    "2. Branching with If, If-Else, and Nested If-Else\n"
   ]
  },
  {
   "cell_type": "markdown",
   "id": "50cec7d9-d6fa-4630-8327-d214668395b3",
   "metadata": {},
   "source": [
    "4. Write a program that takes a student’s score (0-100) as input and assigns a letter\n",
    "grade: A (90-100), B (80-89), C (70-79), D (60-69), or F (below 60). Use if-else\n",
    "statements."
   ]
  },
  {
   "cell_type": "code",
   "execution_count": 47,
   "id": "f6945449-1207-4b50-bb2c-0dcea33ad820",
   "metadata": {},
   "outputs": [
    {
     "name": "stdin",
     "output_type": "stream",
     "text": [
      "Enter the student's score(0-100): 89\n"
     ]
    },
    {
     "name": "stdout",
     "output_type": "stream",
     "text": [
      "B grade\n"
     ]
    }
   ],
   "source": [
    "score = int(input(\"Enter the student's score(0-100):\"))\n",
    "if 90<=score and 100>=score:\n",
    "    print(\"A grade\")\n",
    "else:\n",
    "    if 80<=score and 89>=score:\n",
    "        print(\"B grade\")\n",
    "    else:\n",
    "        if 70<=score and 79>=score:\n",
    "            print(\"C grade\")\n",
    "        else:\n",
    "            if 60<=score and 69>=score:\n",
    "                print(\"D grade\")\n",
    "            else:\n",
    "                print(\"F grade\")"
   ]
  },
  {
   "cell_type": "markdown",
   "id": "5733d92b-e5ed-4406-8e71-d95dbc875faf",
   "metadata": {},
   "source": [
    "5. Modify the above program to use nested if-else statements instead of a flat if-elif-else\n",
    "structure.\n"
   ]
  },
  {
   "cell_type": "code",
   "execution_count": 41,
   "id": "109296bc-5fe6-401b-821e-cea55009913a",
   "metadata": {},
   "outputs": [
    {
     "name": "stdin",
     "output_type": "stream",
     "text": [
      "Enter the student's score(0-100): 23\n"
     ]
    },
    {
     "name": "stdout",
     "output_type": "stream",
     "text": [
      "F grade\n"
     ]
    }
   ],
   "source": [
    "## score = int(input(\"Enter the student's score(0-100):\"))\n",
    "if 90<=score and 100>=score:\n",
    "    print(\"A grade\")\n",
    "elif 80<=score and 89>=score:\n",
    "    print(\"B grade\")\n",
    "elif 70<=score and 79>=score:\n",
    "    print(\"C grade\")\n",
    "elif 60<=score and 69>=score:\n",
    "    print(\"D grade\")\n",
    "else:\n",
    "    print(\"F grade\")"
   ]
  },
  {
   "cell_type": "markdown",
   "id": "cfbd8a8b-1c20-4798-b7b8-b29ffde9ace0",
   "metadata": {},
   "source": [
    "6. Create a program that takes two variables, age and has_license (True/False), and\n",
    "prints whether a person can drive based on: age ≥ 18 and has_license = True. Use\n",
    "nested if statements.\n"
   ]
  },
  {
   "cell_type": "code",
   "execution_count": 51,
   "id": "54f89d88-083c-4a7a-8c39-672a28a54034",
   "metadata": {},
   "outputs": [
    {
     "name": "stdin",
     "output_type": "stream",
     "text": [
      "Enter the age :  18\n",
      "Do you have License(True/False) :  False\n"
     ]
    }
   ],
   "source": [
    "age = int(input(\"Enter the age : \"))\n",
    "has_license = input(\"Do you have License(True/False) : \")\n",
    "\n",
    "if age>=18:\n",
    "    if has_license == 'True':\n",
    "        print(\"Person can drive\")"
   ]
  },
  {
   "cell_type": "markdown",
   "id": "171ba4b0-3b2d-4949-9704-79bf0d9339be",
   "metadata": {},
   "source": [
    "3. Looping with For and While"
   ]
  },
  {
   "cell_type": "markdown",
   "id": "03ae060c-d3b8-4690-93a2-9a46d264a173",
   "metadata": {},
   "source": [
    "7. Write a Python program using a for loop to calculate the sum of all even numbers\n",
    "between 1 and 20. Store the sum in a variable and print it."
   ]
  },
  {
   "cell_type": "code",
   "execution_count": 56,
   "id": "42d44ab5-d63b-41e8-b029-2095ca0e73a1",
   "metadata": {},
   "outputs": [
    {
     "name": "stdout",
     "output_type": "stream",
     "text": [
      "110\n"
     ]
    }
   ],
   "source": [
    "sumeven=0\n",
    "for i in range(1,21):\n",
    "    if i%2==0:\n",
    "        sumeven+=i\n",
    "print(sumeven)"
   ]
  },
  {
   "cell_type": "markdown",
   "id": "237b9c5c-4fb8-4830-9199-e5eb06961096",
   "metadata": {},
   "source": [
    "8. Using a while loop, write a program that keeps doubling a variable value (starting at 1) until it exceeds 1000, printing each step."
   ]
  },
  {
   "cell_type": "code",
   "execution_count": 60,
   "id": "27134b83-a2f4-46d2-a564-a7dada52a587",
   "metadata": {},
   "outputs": [
    {
     "ename": "SyntaxError",
     "evalue": "invalid syntax (3349751696.py, line 3)",
     "output_type": "error",
     "traceback": [
      "\u001b[1;36m  Cell \u001b[1;32mIn[60], line 3\u001b[1;36m\u001b[0m\n\u001b[1;33m    print(value,end\"+\")\u001b[0m\n\u001b[1;37m                   ^\u001b[0m\n\u001b[1;31mSyntaxError\u001b[0m\u001b[1;31m:\u001b[0m invalid syntax\n"
     ]
    }
   ],
   "source": [
    "value = 1\n",
    "while value<=1000:\n",
    "    print(value,end\"+\")\n",
    "    value+=1"
   ]
  },
  {
   "cell_type": "code",
   "execution_count": null,
   "id": "4a45f5db-257f-43a8-8d8f-ccd1245c5837",
   "metadata": {},
   "outputs": [],
   "source": []
  },
  {
   "cell_type": "code",
   "execution_count": null,
   "id": "f34cde80-bdd6-4964-9c00-7c35fcce7a8e",
   "metadata": {},
   "outputs": [],
   "source": []
  }
 ],
 "metadata": {
  "kernelspec": {
   "display_name": "Python 3 (ipykernel)",
   "language": "python",
   "name": "python3"
  },
  "language_info": {
   "codemirror_mode": {
    "name": "ipython",
    "version": 3
   },
   "file_extension": ".py",
   "mimetype": "text/x-python",
   "name": "python",
   "nbconvert_exporter": "python",
   "pygments_lexer": "ipython3",
   "version": "3.12.7"
  }
 },
 "nbformat": 4,
 "nbformat_minor": 5
}
