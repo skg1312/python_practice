{
 "cells": [
  {
   "cell_type": "markdown",
   "id": "c7ee598e-0e60-450e-bdee-454c98e28b1c",
   "metadata": {},
   "source": [
    "Assignment - 1\n",
    "Questions on Flow of Control and Variables"
   ]
  },
  {
   "cell_type": "markdown",
   "id": "bd7cfc2a-a97f-448d-afbb-f907ff41b593",
   "metadata": {},
   "source": [
    "1. Variables and Basic Flow Control"
   ]
  },
  {
   "cell_type": "markdown",
   "id": "24857967-4a8f-435a-8aef-ac690aded99c",
   "metadata": {},
   "source": [
    "1. Write a Python program that takes a user-input number and prints whether it’s\n",
    "positive, negative, or zero using an if statement. Use a variable to store the input."
   ]
  },
  {
   "cell_type": "code",
   "execution_count": 21,
   "id": "5fda7f58-6dc0-4734-a34d-b65ad9b434d1",
   "metadata": {},
   "outputs": [
    {
     "name": "stdin",
     "output_type": "stream",
     "text": [
      "Enter the number:  9\n"
     ]
    },
    {
     "name": "stdout",
     "output_type": "stream",
     "text": [
      "9 is a positive number\n"
     ]
    }
   ],
   "source": [
    "num = int(input(\"Enter the number: \"))\n",
    "\n",
    "if num>0:\n",
    "    print(num,\"is a positive number\")\n",
    "if num<0:\n",
    "    print(num,\"is a negative number\")\n",
    "if num == 0:\n",
    "    print(\"it is a zero\")"
   ]
  },
  {
   "cell_type": "markdown",
   "id": "73081153-bbf5-44ae-a3cf-7a0cbdca0a89",
   "metadata": {},
   "source": [
    "2. Declare two variables, temperature and unit (e.g., \"C\" for Celsius or \"F\" for\n",
    "Fahrenheit). Write a program that prints \"Hot\" if the temperature is above 30°C or\n",
    "86°F, using a single if condition."
   ]
  },
  {
   "cell_type": "code",
   "execution_count": 22,
   "id": "826c4258-65bc-442d-afa0-231e1eafb634",
   "metadata": {},
   "outputs": [
    {
     "name": "stdin",
     "output_type": "stream",
     "text": [
      "Enter the Temperature:  98\n",
      "Enter the units 'C' for Celsius or 'F' for Fahrenheit:  F\n"
     ]
    },
    {
     "name": "stdout",
     "output_type": "stream",
     "text": [
      "Hot\n"
     ]
    }
   ],
   "source": [
    "temp = int(input(\"Enter the Temperature: \"))\n",
    "unit = input(\"Enter the units 'C' for Celsius or 'F' for Fahrenheit: \")\n",
    "\n",
    "if temp >30 and unit=='C' or temp >86 and unit == 'F':\n",
    "    print(\"Hot\")"
   ]
  },
  {
   "cell_type": "markdown",
   "id": "e084b754-d5a5-4d33-9fb6-d24f71a9fe11",
   "metadata": {},
   "source": [
    "3. Create a program that assigns a string variable day (e.g., \"Monday\") and uses an if\n",
    "statement to check if it’s a weekday (Monday to Friday) or weekend (Saturday or\n",
    "Sunday).\n"
   ]
  },
  {
   "cell_type": "code",
   "execution_count": 23,
   "id": "60427c94-3586-4475-bab1-45638e2f0dbe",
   "metadata": {},
   "outputs": [
    {
     "name": "stdin",
     "output_type": "stream",
     "text": [
      "Enter the Day:  Sunday\n"
     ]
    },
    {
     "name": "stdout",
     "output_type": "stream",
     "text": [
      "Sunday is a weekend\n"
     ]
    }
   ],
   "source": [
    "day = input(\"Enter the Day: \")\n",
    "weekday = ['Monday','Tuesday','Wednesday','Thursday','Friday']\n",
    "weekend = ['Saturday','Sunday']\n",
    "if day in weekday:\n",
    "    print(day,'is a weekday')\n",
    "if day in weekend:\n",
    "    print(day,'is a weekend')"
   ]
  },
  {
   "cell_type": "markdown",
   "id": "5e03e712-ac82-4a90-be76-7e796ce4866b",
   "metadata": {},
   "source": [
    "2. Branching with If, If-Else, and Nested If-Else\n"
   ]
  },
  {
   "cell_type": "markdown",
   "id": "50cec7d9-d6fa-4630-8327-d214668395b3",
   "metadata": {},
   "source": [
    "4. Write a program that takes a student’s score (0-100) as input and assigns a letter\n",
    "grade: A (90-100), B (80-89), C (70-79), D (60-69), or F (below 60). Use if-else\n",
    "statements."
   ]
  },
  {
   "cell_type": "code",
   "execution_count": 47,
   "id": "f6945449-1207-4b50-bb2c-0dcea33ad820",
   "metadata": {},
   "outputs": [
    {
     "name": "stdin",
     "output_type": "stream",
     "text": [
      "Enter the student's score(0-100): 89\n"
     ]
    },
    {
     "name": "stdout",
     "output_type": "stream",
     "text": [
      "B grade\n"
     ]
    }
   ],
   "source": [
    "score = int(input(\"Enter the student's score(0-100):\"))\n",
    "if 90<=score and 100>=score:\n",
    "    print(\"A grade\")\n",
    "else:\n",
    "    if 80<=score and 89>=score:\n",
    "        print(\"B grade\")\n",
    "    else:\n",
    "        if 70<=score and 79>=score:\n",
    "            print(\"C grade\")\n",
    "        else:\n",
    "            if 60<=score and 69>=score:\n",
    "                print(\"D grade\")\n",
    "            else:\n",
    "                print(\"F grade\")"
   ]
  },
  {
   "cell_type": "markdown",
   "id": "5733d92b-e5ed-4406-8e71-d95dbc875faf",
   "metadata": {},
   "source": [
    "5. Modify the above program to use nested if-else statements instead of a flat if-elif-else\n",
    "structure.\n"
   ]
  },
  {
   "cell_type": "code",
   "execution_count": 41,
   "id": "109296bc-5fe6-401b-821e-cea55009913a",
   "metadata": {},
   "outputs": [
    {
     "name": "stdin",
     "output_type": "stream",
     "text": [
      "Enter the student's score(0-100): 23\n"
     ]
    },
    {
     "name": "stdout",
     "output_type": "stream",
     "text": [
      "F grade\n"
     ]
    }
   ],
   "source": [
    "## score = int(input(\"Enter the student's score(0-100):\"))\n",
    "if 90<=score and 100>=score:\n",
    "    print(\"A grade\")\n",
    "elif 80<=score and 89>=score:\n",
    "    print(\"B grade\")\n",
    "elif 70<=score and 79>=score:\n",
    "    print(\"C grade\")\n",
    "elif 60<=score and 69>=score:\n",
    "    print(\"D grade\")\n",
    "else:\n",
    "    print(\"F grade\")"
   ]
  },
  {
   "cell_type": "markdown",
   "id": "cfbd8a8b-1c20-4798-b7b8-b29ffde9ace0",
   "metadata": {},
   "source": [
    "6. Create a program that takes two variables, age and has_license (True/False), and\n",
    "prints whether a person can drive based on: age ≥ 18 and has_license = True. Use\n",
    "nested if statements.\n"
   ]
  },
  {
   "cell_type": "code",
   "execution_count": 51,
   "id": "54f89d88-083c-4a7a-8c39-672a28a54034",
   "metadata": {},
   "outputs": [
    {
     "name": "stdin",
     "output_type": "stream",
     "text": [
      "Enter the age :  18\n",
      "Do you have License(True/False) :  False\n"
     ]
    }
   ],
   "source": [
    "age = int(input(\"Enter the age : \"))\n",
    "has_license = input(\"Do you have License(True/False) : \")\n",
    "\n",
    "if age>=18:\n",
    "    if has_license == 'True':\n",
    "        print(\"Person can drive\")"
   ]
  },
  {
   "cell_type": "markdown",
   "id": "171ba4b0-3b2d-4949-9704-79bf0d9339be",
   "metadata": {},
   "source": [
    "3. Looping with For and While"
   ]
  },
  {
   "cell_type": "markdown",
   "id": "03ae060c-d3b8-4690-93a2-9a46d264a173",
   "metadata": {},
   "source": [
    "7. Write a Python program using a for loop to calculate the sum of all even numbers\n",
    "between 1 and 20. Store the sum in a variable and print it."
   ]
  },
  {
   "cell_type": "code",
   "execution_count": 56,
   "id": "42d44ab5-d63b-41e8-b029-2095ca0e73a1",
   "metadata": {},
   "outputs": [
    {
     "name": "stdout",
     "output_type": "stream",
     "text": [
      "110\n"
     ]
    }
   ],
   "source": [
    "sumeven=0\n",
    "for i in range(1,21):\n",
    "    if i%2==0:\n",
    "        sumeven+=i\n",
    "print(sumeven)"
   ]
  },
  {
   "cell_type": "markdown",
   "id": "237b9c5c-4fb8-4830-9199-e5eb06961096",
   "metadata": {},
   "source": [
    "8. Using a while loop, write a program that keeps doubling a variable value (starting at 1) until it exceeds 1000, printing each step."
   ]
  },
  {
   "cell_type": "code",
   "execution_count": 1,
   "id": "27134b83-a2f4-46d2-a564-a7dada52a587",
   "metadata": {},
   "outputs": [
    {
     "name": "stdout",
     "output_type": "stream",
     "text": [
      "1,2,3,4,5,6,7,8,9,10,11,12,13,14,15,16,17,18,19,20,21,22,23,24,25,26,27,28,29,30,31,32,33,34,35,36,37,38,39,40,41,42,43,44,45,46,47,48,49,50,51,52,53,54,55,56,57,58,59,60,61,62,63,64,65,66,67,68,69,70,71,72,73,74,75,76,77,78,79,80,81,82,83,84,85,86,87,88,89,90,91,92,93,94,95,96,97,98,99,100,101,102,103,104,105,106,107,108,109,110,111,112,113,114,115,116,117,118,119,120,121,122,123,124,125,126,127,128,129,130,131,132,133,134,135,136,137,138,139,140,141,142,143,144,145,146,147,148,149,150,151,152,153,154,155,156,157,158,159,160,161,162,163,164,165,166,167,168,169,170,171,172,173,174,175,176,177,178,179,180,181,182,183,184,185,186,187,188,189,190,191,192,193,194,195,196,197,198,199,200,201,202,203,204,205,206,207,208,209,210,211,212,213,214,215,216,217,218,219,220,221,222,223,224,225,226,227,228,229,230,231,232,233,234,235,236,237,238,239,240,241,242,243,244,245,246,247,248,249,250,251,252,253,254,255,256,257,258,259,260,261,262,263,264,265,266,267,268,269,270,271,272,273,274,275,276,277,278,279,280,281,282,283,284,285,286,287,288,289,290,291,292,293,294,295,296,297,298,299,300,301,302,303,304,305,306,307,308,309,310,311,312,313,314,315,316,317,318,319,320,321,322,323,324,325,326,327,328,329,330,331,332,333,334,335,336,337,338,339,340,341,342,343,344,345,346,347,348,349,350,351,352,353,354,355,356,357,358,359,360,361,362,363,364,365,366,367,368,369,370,371,372,373,374,375,376,377,378,379,380,381,382,383,384,385,386,387,388,389,390,391,392,393,394,395,396,397,398,399,400,401,402,403,404,405,406,407,408,409,410,411,412,413,414,415,416,417,418,419,420,421,422,423,424,425,426,427,428,429,430,431,432,433,434,435,436,437,438,439,440,441,442,443,444,445,446,447,448,449,450,451,452,453,454,455,456,457,458,459,460,461,462,463,464,465,466,467,468,469,470,471,472,473,474,475,476,477,478,479,480,481,482,483,484,485,486,487,488,489,490,491,492,493,494,495,496,497,498,499,500,501,502,503,504,505,506,507,508,509,510,511,512,513,514,515,516,517,518,519,520,521,522,523,524,525,526,527,528,529,530,531,532,533,534,535,536,537,538,539,540,541,542,543,544,545,546,547,548,549,550,551,552,553,554,555,556,557,558,559,560,561,562,563,564,565,566,567,568,569,570,571,572,573,574,575,576,577,578,579,580,581,582,583,584,585,586,587,588,589,590,591,592,593,594,595,596,597,598,599,600,601,602,603,604,605,606,607,608,609,610,611,612,613,614,615,616,617,618,619,620,621,622,623,624,625,626,627,628,629,630,631,632,633,634,635,636,637,638,639,640,641,642,643,644,645,646,647,648,649,650,651,652,653,654,655,656,657,658,659,660,661,662,663,664,665,666,667,668,669,670,671,672,673,674,675,676,677,678,679,680,681,682,683,684,685,686,687,688,689,690,691,692,693,694,695,696,697,698,699,700,701,702,703,704,705,706,707,708,709,710,711,712,713,714,715,716,717,718,719,720,721,722,723,724,725,726,727,728,729,730,731,732,733,734,735,736,737,738,739,740,741,742,743,744,745,746,747,748,749,750,751,752,753,754,755,756,757,758,759,760,761,762,763,764,765,766,767,768,769,770,771,772,773,774,775,776,777,778,779,780,781,782,783,784,785,786,787,788,789,790,791,792,793,794,795,796,797,798,799,800,801,802,803,804,805,806,807,808,809,810,811,812,813,814,815,816,817,818,819,820,821,822,823,824,825,826,827,828,829,830,831,832,833,834,835,836,837,838,839,840,841,842,843,844,845,846,847,848,849,850,851,852,853,854,855,856,857,858,859,860,861,862,863,864,865,866,867,868,869,870,871,872,873,874,875,876,877,878,879,880,881,882,883,884,885,886,887,888,889,890,891,892,893,894,895,896,897,898,899,900,901,902,903,904,905,906,907,908,909,910,911,912,913,914,915,916,917,918,919,920,921,922,923,924,925,926,927,928,929,930,931,932,933,934,935,936,937,938,939,940,941,942,943,944,945,946,947,948,949,950,951,952,953,954,955,956,957,958,959,960,961,962,963,964,965,966,967,968,969,970,971,972,973,974,975,976,977,978,979,980,981,982,983,984,985,986,987,988,989,990,991,992,993,994,995,996,997,998,999,1000,"
     ]
    }
   ],
   "source": [
    "value = 1\n",
    "while value<=1000:\n",
    "    print(f\"{value}\",end=',')\n",
    "    value+=1"
   ]
  },
  {
   "cell_type": "markdown",
   "id": "95c09150-8071-4e8b-80c7-5e8deba9729e",
   "metadata": {},
   "source": [
    "9. Create a program that uses a for loop to print a countdown from 10 to 1, storing the\n",
    "current number in a variable each iteration.\n"
   ]
  },
  {
   "cell_type": "code",
   "execution_count": 2,
   "id": "f34cde80-bdd6-4964-9c00-7c35fcce7a8e",
   "metadata": {},
   "outputs": [
    {
     "name": "stdout",
     "output_type": "stream",
     "text": [
      "10\n",
      "9\n",
      "8\n",
      "7\n",
      "6\n",
      "5\n",
      "4\n",
      "3\n",
      "2\n",
      "1\n"
     ]
    }
   ],
   "source": [
    "nums = 10\n",
    "for i in range(10,0,-1):\n",
    "    print(f\"{i}\",end=\"\\n\")\n",
    "    nums=i"
   ]
  },
  {
   "cell_type": "markdown",
   "id": "27899583-6916-4a63-84e2-2ebdc950bdbb",
   "metadata": {},
   "source": [
    "4. Nested Loops and Variable Scope"
   ]
  },
  {
   "cell_type": "markdown",
   "id": "1ad17446-6164-4857-8c36-4717c9029ab7",
   "metadata": {},
   "source": [
    "10. Write a program using nested for loops to print a 3x3 grid of numbers (e.g., (0,0) (0,1)\n",
    "(0,2), etc.), storing each pair in variables row and col."
   ]
  },
  {
   "cell_type": "code",
   "execution_count": 18,
   "id": "7b9ea5e7-ffe0-400c-95c5-c4cf8dd1aa0e",
   "metadata": {},
   "outputs": [
    {
     "name": "stdout",
     "output_type": "stream",
     "text": [
      "(0,0) (0,1) (0,2) (1,0) (1,1) (1,2) (2,0) (2,1) (2,2) "
     ]
    }
   ],
   "source": [
    "for i in range(3):\n",
    "    for j in range(3):\n",
    "        print(f\"({i},{j})\",end=\" \")"
   ]
  },
  {
   "cell_type": "markdown",
   "id": "ea650478-28c0-4b9a-9c3f-a72a82796607",
   "metadata": {},
   "source": [
    "11. Create a program with a nested loop that finds all pairs of numbers (i, j) where i (1 to 5) and j (1 to 5) multiply to a value less than 20. Print the pairs and store the product\n",
    "in a variable.\n"
   ]
  },
  {
   "cell_type": "code",
   "execution_count": 22,
   "id": "c66c1651-dae9-475c-b40a-92223a85925a",
   "metadata": {},
   "outputs": [
    {
     "name": "stdout",
     "output_type": "stream",
     "text": [
      "(1,1) -> 1\n",
      "(1,2) -> 2\n",
      "(1,3) -> 3\n",
      "(1,4) -> 4\n",
      "(2,1) -> 2\n",
      "(2,2) -> 4\n",
      "(2,3) -> 6\n",
      "(2,4) -> 8\n",
      "(3,1) -> 3\n",
      "(3,2) -> 6\n",
      "(3,3) -> 9\n",
      "(3,4) -> 12\n",
      "(4,1) -> 4\n",
      "(4,2) -> 8\n",
      "(4,3) -> 12\n",
      "(4,4) -> 16\n"
     ]
    }
   ],
   "source": [
    "for i in range(1,5):\n",
    "    for j in range(1,5):\n",
    "        if i*j<20:\n",
    "            print(f\"({i},{j}) -> {i*j}\",end='\\n')"
   ]
  },
  {
   "cell_type": "markdown",
   "id": "a9faf9f3-9fef-4eca-bb50-60257e54d2e1",
   "metadata": {},
   "source": [
    "12. Define a variable x = 10 outside a for loop. Inside the loop (range 5), update x by\n",
    "adding the loop variable i. After the loop, print x. Explain what happens to x and why."
   ]
  },
  {
   "cell_type": "code",
   "execution_count": 26,
   "id": "e470cbdd-827a-419c-a35f-e688d46bec40",
   "metadata": {},
   "outputs": [
    {
     "name": "stdout",
     "output_type": "stream",
     "text": [
      "20\n",
      "\n",
      "Initialization: The variable x is initialized to 10 before entering the for loop.\n",
      "\n",
      "Loop Execution: The for loop iterates over a range of numbers from 0 to 4 (5 iterations in total). The loop variable i takes on each of these values:\n",
      "\n",
      "Iteration 1: i = 0, so x = 10 + 0 = 10\n",
      "Iteration 2: i = 1, so x = 10 + 1 = 11\n",
      "Iteration 3: i = 2, so x = 11 + 2 = 13\n",
      "Iteration 4: i = 3, so x = 13 + 3 = 16\n",
      "Iteration 5: i = 4, so x = 16 + 4 = 20\n",
      "\n",
      "Final Value: After completing all iterations, the final value of x will be 20.\n",
      "\n",
      "Output: The program will print 20.\n",
      "\n"
     ]
    }
   ],
   "source": [
    "x=10\n",
    "for i in range(5):\n",
    "    x+=i\n",
    "print(x)\n",
    "print('''\n",
    "Initialization: The variable x is initialized to 10 before entering the for loop.\n",
    "\n",
    "Loop Execution: The for loop iterates over a range of numbers from 0 to 4 (5 iterations in total). The loop variable i takes on each of these values:\n",
    "\n",
    "Iteration 1: i = 0, so x = 10 + 0 = 10\n",
    "Iteration 2: i = 1, so x = 10 + 1 = 11\n",
    "Iteration 3: i = 2, so x = 11 + 2 = 13\n",
    "Iteration 4: i = 3, so x = 13 + 3 = 16\n",
    "Iteration 5: i = 4, so x = 16 + 4 = 20\n",
    "\n",
    "Final Value: After completing all iterations, the final value of x will be 20.\n",
    "\n",
    "Output: The program will print 20.\n",
    "''')"
   ]
  },
  {
   "cell_type": "markdown",
   "id": "900ea678-639a-4b1f-b9fa-49b5f8732a1f",
   "metadata": {},
   "source": [
    "5. Control Statements: Break, Continue, and Pass\n"
   ]
  },
  {
   "cell_type": "markdown",
   "id": "7de9d103-6d59-446a-aebc-a38026de4e99",
   "metadata": {},
   "source": [
    "13. Write a program that uses a for loop to iterate from 1 to 10 and breaks when it\n",
    "reaches 7, printing all numbers before that. Use a variable to track the current\n",
    "number.\n"
   ]
  },
  {
   "cell_type": "code",
   "execution_count": 33,
   "id": "088b202e-93a0-4a3a-8c72-d6c23c4b57ae",
   "metadata": {},
   "outputs": [
    {
     "name": "stdout",
     "output_type": "stream",
     "text": [
      "1,2,3,4,5,6,"
     ]
    }
   ],
   "source": [
    "for i in range(1,11):\n",
    "    if i == 7:\n",
    "        break\n",
    "    else:\n",
    "        print(i,end=',')"
   ]
  },
  {
   "cell_type": "markdown",
   "id": "98037315-0e1d-4449-b80d-2528182d3ee1",
   "metadata": {},
   "source": [
    "14. Using a while loop, write a program that counts from 1 to 20 but skips multiples of 3\n",
    "using continue. Store the counter in a variable"
   ]
  },
  {
   "cell_type": "code",
   "execution_count": 40,
   "id": "a5b31d9e-a2f2-4896-9fb1-f512cb72e154",
   "metadata": {
    "scrolled": true
   },
   "outputs": [
    {
     "name": "stdout",
     "output_type": "stream",
     "text": [
      "1\n",
      "2\n",
      "4\n",
      "5\n",
      "7\n",
      "8\n",
      "10\n",
      "11\n",
      "13\n",
      "14\n",
      "16\n",
      "17\n",
      "19\n",
      "20\n"
     ]
    }
   ],
   "source": [
    "counter = 1\n",
    "while counter <= 20:\n",
    "    if counter % 3 == 0:\n",
    "        counter += 1 \n",
    "        continue \n",
    "    print(counter)\n",
    "    counter += 1"
   ]
  },
  {
   "cell_type": "markdown",
   "id": "20242772-3bba-4e53-adc9-04f9c78ed2c2",
   "metadata": {},
   "source": [
    "15. Create a program with a for loop over range(5) that uses pass for even numbers and\n",
    "prints a message for odd numbers. Explain the role of pass in this context."
   ]
  },
  {
   "cell_type": "code",
   "execution_count": 42,
   "id": "1938ed74-d0a3-4adb-9d3a-02ae809105b0",
   "metadata": {},
   "outputs": [
    {
     "name": "stdout",
     "output_type": "stream",
     "text": [
      "1 is a odd\n",
      "3 is a odd\n"
     ]
    }
   ],
   "source": [
    "for i in range(5):\n",
    "    if i%2==0:\n",
    "        pass\n",
    "    else:\n",
    "        print(i,\"is a odd\")"
   ]
  },
  {
   "cell_type": "markdown",
   "id": "fbd07bfb-4955-4552-91bd-f56bbc208994",
   "metadata": {},
   "source": [
    "6. Mixed Questions and Problem Solving\n"
   ]
  },
  {
   "cell_type": "markdown",
   "id": "2126078c-b2da-4934-b360-955e8451249f",
   "metadata": {},
   "source": [
    "16. Write a program that takes a user-input number n and uses a for loop to calculate n!\n",
    "(factorial). Use break to stop if n exceeds 10 (to avoid large numbers), and store the\n",
    "result in a variable.\n"
   ]
  },
  {
   "cell_type": "code",
   "execution_count": 52,
   "id": "56fbac74-00a2-4f10-8a1d-b1bcac6789f9",
   "metadata": {},
   "outputs": [
    {
     "name": "stdin",
     "output_type": "stream",
     "text": [
      "Enter the Number:  11\n"
     ]
    },
    {
     "name": "stdout",
     "output_type": "stream",
     "text": [
      "1\n"
     ]
    }
   ],
   "source": [
    "n = int(input(\"Enter the Number: \"))\n",
    "fact = 1\n",
    "for i in range(1,n):\n",
    "    if n <= 10:\n",
    "        fact = fact * i\n",
    "    else:\n",
    "        break\n",
    "print(fact)"
   ]
  },
  {
   "cell_type": "markdown",
   "id": "e5e68923-5b30-42f6-8448-33ecab50e8b6",
   "metadata": {},
   "source": [
    "17. Create a guessing game where a variable secret is set to 50. Use a while loop to let\n",
    "the user guess, providing \"too high\" or \"too low\" hints with if-else, and break when\n",
    "they guess correctly"
   ]
  },
  {
   "cell_type": "code",
   "execution_count": 54,
   "id": "e27b4733-0604-4855-b759-cdad33411a95",
   "metadata": {},
   "outputs": [
    {
     "name": "stdin",
     "output_type": "stream",
     "text": [
      "Enter the Guess Number:  50\n"
     ]
    },
    {
     "name": "stdout",
     "output_type": "stream",
     "text": [
      "You have craked it\n"
     ]
    }
   ],
   "source": [
    "secret = 50\n",
    "while secret==50:\n",
    "    guess = int(input(\"Enter the Guess Number: \"))\n",
    "    if guess <50:\n",
    "        print(\"too low\")\n",
    "        break\n",
    "    elif guess > 50:\n",
    "        print(\"too high\")\n",
    "        break\n",
    "    else:\n",
    "        print(\"You have craked it\")\n",
    "        break"
   ]
  },
  {
   "cell_type": "markdown",
   "id": "77e902aa-6e8c-4936-8a4b-f05b8f5b3f14",
   "metadata": {},
   "source": [
    "18. Write a program that uses nested if-else inside a for loop to classify numbers from 1\n",
    "to 10 as \"even and > 5\", \"even and ≤ 5\", or \"odd\". Store each number in a variable\n",
    "before classification.\n"
   ]
  },
  {
   "cell_type": "code",
   "execution_count": 56,
   "id": "cffbfc3f-d18e-4edb-badf-d8eaaef705be",
   "metadata": {},
   "outputs": [
    {
     "name": "stdout",
     "output_type": "stream",
     "text": [
      "1 is a odd\n",
      "2 is a even and less than 5\n",
      "3 is a odd\n",
      "4 is a even and less than 5\n",
      "5 is a odd\n",
      "6 is a even and more than 5\n",
      "7 is a odd\n",
      "8 is a even and more than 5\n",
      "9 is a odd\n",
      "10 is a even and more than 5\n"
     ]
    }
   ],
   "source": [
    "for i in range(1,11):\n",
    "    if i%2==0 and i<=5:\n",
    "        print(f\"{i} is a even and less than 5\")\n",
    "    elif i%2==0 and i>5:\n",
    "        print(f\"{i} is a even and more than 5\")\n",
    "    else:\n",
    "        print(f\"{i} is a odd\")"
   ]
  },
  {
   "cell_type": "markdown",
   "id": "2c71ce18-428c-4246-92d0-09a471175ece",
   "metadata": {},
   "source": [
    "7. Advanced Application\n"
   ]
  },
  {
   "cell_type": "markdown",
   "id": "56e26940-4c1a-4bd8-923c-79ebfee69322",
   "metadata": {},
   "source": [
    "19. Write a program that uses a while loop to simulate a savings account: start with\n",
    "balance = 100, add interest = 5 each iteration, and stop (break) when balance\n",
    "exceeds 200. Print the balance each step.\n"
   ]
  },
  {
   "cell_type": "code",
   "execution_count": 57,
   "id": "ce7cb8f8-a55e-4a35-95e4-2d440351f66c",
   "metadata": {},
   "outputs": [
    {
     "name": "stdout",
     "output_type": "stream",
     "text": [
      "Current balance: $100\n",
      "Current balance: $105\n",
      "Current balance: $110\n",
      "Current balance: $115\n",
      "Current balance: $120\n",
      "Current balance: $125\n",
      "Current balance: $130\n",
      "Current balance: $135\n",
      "Current balance: $140\n",
      "Current balance: $145\n",
      "Current balance: $150\n",
      "Current balance: $155\n",
      "Current balance: $160\n",
      "Current balance: $165\n",
      "Current balance: $170\n",
      "Current balance: $175\n",
      "Current balance: $180\n",
      "Current balance: $185\n",
      "Current balance: $190\n",
      "Current balance: $195\n",
      "Current balance: $200\n",
      "Final balance after adding interest: $205\n"
     ]
    }
   ],
   "source": [
    "balance = 100\n",
    "while True:\n",
    "    print(f\"Current balance: ${balance}\")\n",
    "    balance += 5\n",
    "    if balance > 200:\n",
    "        break\n",
    "print(f\"Final balance after adding interest: ${balance}\")"
   ]
  },
  {
   "cell_type": "markdown",
   "id": "e912ea14-fa0a-437d-91f4-092965cf48cc",
   "metadata": {},
   "source": [
    "20. Create a program with a nested loop to print a multiplication table (1x1 to 5x5). Use\n",
    "continue to skip printing any row where the product equals 12. Store the product in a\n",
    "variable"
   ]
  },
  {
   "cell_type": "code",
   "execution_count": 59,
   "id": "f7d7968e-88fe-4438-a9cc-5c7110bd0661",
   "metadata": {},
   "outputs": [
    {
     "name": "stdout",
     "output_type": "stream",
     "text": [
      "1 x 1 = 1\n",
      "1 x 2 = 2\n",
      "1 x 3 = 3\n",
      "1 x 4 = 4\n",
      "1 x 5 = 5\n",
      "2 x 1 = 2\n",
      "2 x 2 = 4\n",
      "2 x 3 = 6\n",
      "2 x 4 = 8\n",
      "2 x 5 = 10\n",
      "3 x 1 = 3\n",
      "3 x 2 = 6\n",
      "3 x 3 = 9\n",
      "3 x 5 = 15\n",
      "4 x 1 = 4\n",
      "4 x 2 = 8\n",
      "4 x 4 = 16\n",
      "4 x 5 = 20\n",
      "5 x 1 = 5\n",
      "5 x 2 = 10\n",
      "5 x 3 = 15\n",
      "5 x 4 = 20\n",
      "5 x 5 = 25\n"
     ]
    }
   ],
   "source": [
    "for i in range(1, 6):\n",
    "    for j in range(1, 6):\n",
    "        product = i * j\n",
    "        if product == 12:\n",
    "            continue\n",
    "        print(f\"{i} x {j} = {product}\")"
   ]
  },
  {
   "cell_type": "code",
   "execution_count": null,
   "id": "708b276d-9336-45d6-bffe-91360abf7a42",
   "metadata": {},
   "outputs": [],
   "source": []
  }
 ],
 "metadata": {
  "kernelspec": {
   "display_name": "Python 3 (ipykernel)",
   "language": "python",
   "name": "python3"
  },
  "language_info": {
   "codemirror_mode": {
    "name": "ipython",
    "version": 3
   },
   "file_extension": ".py",
   "mimetype": "text/x-python",
   "name": "python",
   "nbconvert_exporter": "python",
   "pygments_lexer": "ipython3",
   "version": "3.12.7"
  }
 },
 "nbformat": 4,
 "nbformat_minor": 5
}
