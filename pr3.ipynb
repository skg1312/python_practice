{
 "cells": [
  {
   "cell_type": "code",
   "execution_count": 1,
   "id": "2d3189d8-8cd9-4557-9d6d-99aee9d081fd",
   "metadata": {},
   "outputs": [
    {
     "name": "stdout",
     "output_type": "stream",
     "text": [
      "I will stay at home to study\n",
      "Oh!!!\n",
      "Not in if block\n"
     ]
    }
   ],
   "source": [
    "exam=True\n",
    "if exam ==True:\n",
    "    print('I will stay at home to study')\n",
    "    print('Oh!!!')\n",
    "print('Not in if block')"
   ]
  },
  {
   "cell_type": "code",
   "execution_count": 2,
   "id": "a47a2f0a-687d-495b-8fba-b87769cc2f77",
   "metadata": {},
   "outputs": [
    {
     "name": "stdout",
     "output_type": "stream",
     "text": [
      "I will stay at home to study\n",
      "Oh!!!\n",
      "\n"
     ]
    }
   ],
   "source": [
    "if exam==True:\n",
    "    print('I will stay at home to study')\n",
    "    print('Oh!!!')\n",
    "print()"
   ]
  },
  {
   "cell_type": "code",
   "execution_count": 3,
   "id": "cf15d8a3-e3c4-4e8e-aa56-3ac64818b9a5",
   "metadata": {},
   "outputs": [
    {
     "name": "stdout",
     "output_type": "stream",
     "text": [
      "I will stay at home to study\n",
      "Oh!!!\n"
     ]
    }
   ],
   "source": [
    "exam = True\n",
    "if exam ==True:\n",
    "    print('I will stay at home to study')\n",
    "    print('Oh!!!')\n",
    "else:\n",
    "    print('I will play football on the playground')"
   ]
  },
  {
   "cell_type": "code",
   "execution_count": 4,
   "id": "6dccef71-d8c1-4be5-be41-f4d4cf33a9f3",
   "metadata": {},
   "outputs": [
    {
     "name": "stdin",
     "output_type": "stream",
     "text": [
      "Enter a number: 6\n"
     ]
    },
    {
     "name": "stdout",
     "output_type": "stream",
     "text": [
      "6 is a even number\n",
      "yay!!\n"
     ]
    }
   ],
   "source": [
    "num = int(input('Enter a number:'))\n",
    "if num%2==0:\n",
    "    print(num,'is a even number')\n",
    "    print('yay!!')\n",
    "else:\n",
    "    print(num,'is odd number')\n",
    "    print('Oh!!')"
   ]
  },
  {
   "cell_type": "code",
   "execution_count": 6,
   "id": "0f072638-a51b-4d67-9232-dfae6f1b9569",
   "metadata": {},
   "outputs": [
    {
     "name": "stdin",
     "output_type": "stream",
     "text": [
      "Enter movie rating(Out of 5):  5\n"
     ]
    },
    {
     "name": "stdout",
     "output_type": "stream",
     "text": [
      "it is a Good Movie\n",
      "Must Watch\n"
     ]
    }
   ],
   "source": [
    "rating = float(input('Enter movie rating(Out of 5): '))\n",
    "if rating >=4:\n",
    "    print('it is a Good Movie')\n",
    "    print('Must Watch')\n",
    "elif rating >= 2.5 and rating < 4:\n",
    "    print('Okay Movie')\n",
    "    print('you can watch it once')\n",
    "elif rating<2.5:\n",
    "    print(\"Don't watch :(\")\n",
    "    "
   ]
  },
  {
   "cell_type": "code",
   "execution_count": 8,
   "id": "dc5ce47a-7277-4890-9ab5-b0631b7d18d5",
   "metadata": {},
   "outputs": [
    {
     "name": "stdout",
     "output_type": "stream",
     "text": [
      "kid\n"
     ]
    }
   ],
   "source": [
    "age =15\n",
    "print('kid' if age <18 else 'adult')"
   ]
  },
  {
   "cell_type": "code",
   "execution_count": null,
   "id": "c634bad9-6db9-40a9-a431-90de69368cfc",
   "metadata": {},
   "outputs": [],
   "source": []
  }
 ],
 "metadata": {
  "kernelspec": {
   "display_name": "Python 3 (ipykernel)",
   "language": "python",
   "name": "python3"
  },
  "language_info": {
   "codemirror_mode": {
    "name": "ipython",
    "version": 3
   },
   "file_extension": ".py",
   "mimetype": "text/x-python",
   "name": "python",
   "nbconvert_exporter": "python",
   "pygments_lexer": "ipython3",
   "version": "3.12.7"
  }
 },
 "nbformat": 4,
 "nbformat_minor": 5
}
